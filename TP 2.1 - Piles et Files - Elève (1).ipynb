{
  "metadata": {
    "kernelspec": {
      "name": "python",
      "display_name": "Python (Pyodide)",
      "language": "python"
    },
    "language_info": {
      "codemirror_mode": {
        "name": "python",
        "version": 3
      },
      "file_extension": ".py",
      "mimetype": "text/x-python",
      "name": "python",
      "nbconvert_exporter": "python",
      "pygments_lexer": "ipython3",
      "version": "3.8"
    }
  },
  "nbformat_minor": 5,
  "nbformat": 4,
  "cells": [
    {
      "cell_type": "markdown",
      "source": "---",
      "metadata": {},
      "id": "1443e017"
    },
    {
      "cell_type": "markdown",
      "source": "![Image1.jpg](attachment:Image1.jpg)",
      "metadata": {},
      "attachments": {
        "Image1.jpg": {
          "image/jpeg": "[encoded data removed]"
        }
      },
      "id": "d15d6e61"
    },
    {
      "cell_type": "markdown",
      "source": "# TP2.1 - Données abstraites : Piles et Files\n\nDurée de l'activité proposé : 4h",
      "metadata": {},
      "id": "aff477f4"
    },
    {
      "cell_type": "markdown",
      "source": "<img src=\"https://github.com/Lionel-Helin-Oza/TP2.1-Piles-Files/blob/main/Image1.png?raw=true\" width=\"250\">",
      "metadata": {},
      "id": "d3651f9a"
    },
    {
      "cell_type": "markdown",
      "source": "---",
      "metadata": {},
      "id": "5032505f"
    },
    {
      "cell_type": "markdown",
      "source": "\n## Introduction : c'est quoi une pile ? Une file ? \n\nEn classe de Première, nous avons vu trois structures de données qui permettent de regrouper des informations et de les retrouver : les tableaux, les dictionnaires, les listes. \n\nMais que se passe-t-il si vous voulez accéder à vos données selon leur ordre d’arrivée ? Par exemple, si vous voulez trouver en premier la toute dernière information ajoutée ?\n",
      "metadata": {},
      "id": "746a3eef"
    },
    {
      "cell_type": "markdown",
      "source": "---",
      "metadata": {},
      "id": "9f2c3b8b"
    },
    {
      "cell_type": "markdown",
      "source": "## Qu'est ce qu'une Pile ?   \n\n\nIl s’agit d’une structure de données qui donne accès en priorité aux dernières données ajoutées. Ainsi, la dernière information ajoutée sera la première à en sortir.\n\nLes piles sont ce que l’on appelle un traitement des données **LIFO** (**Last In First Out**, ou dans la langue de Molière : dernier ajouté premier parti), très pratique lorsque nous aurons à utiliser en premier les dernières données ajoutées.\n\nPourquoi appeler cela une pile ? Car vous empilez les données comme vous le feriez avec des t-shirts dans votre armoire : la seconde vient \"au-dessus\" de la première.\n\nLes piles sont très utilisées sur les plateformes de streaming musical. Lorsque vous demandez à la plateforme de lire une chanson à la suite, elle va ajouter cette dernière tout en haut de la liste \"en attente de lecture\".\n\nMais que se passe-t-il si nous avons besoin d’accéder non pas aux dernières données ajoutées, mais aux premières ? C’est exactement ce qui se passe lorsque vous constituez une liste de musique. Vous ajoutez peu à peu les chansons qui seront lues dans le même ordre : les premières chansons ajoutées sont les premières lues. Impossible de réaliser cela avec une pile. C’est pourquoi les files existent !\n\n",
      "metadata": {},
      "id": "57a1ad2c"
    },
    {
      "cell_type": "markdown",
      "source": "**Implémentation** \n\nEn C et en Python, vous pouvez utiliser des **tableaux** pour créer des piles. En effet, vous pouvez ajouter très facilement un élément au début d’un tableau et le retrouver. (On peut également travailler avec des listes chainées, que nous verrons lors du prochain TP). \n\nLes méthodes des listes rendent très facile leur utilisation comme des piles, où le dernier élément ajouté est le premier récupéré. Pour ajouter un élément sur la pile, utilisez la méthode append(). Pour récupérer l'objet au sommet de la pile, utilisez la méthode pop() sans indicateur de position. \n\n***Par exemple :***\n",
      "metadata": {},
      "id": "1ad3ad28"
    },
    {
      "cell_type": "code",
      "source": "stack = [3, 4, 5] # on crée un tableau stack avec 3 valeurs\n\nstack.append(6) # On ajoute 6 à la liste stack\nstack.append(7) # On ajoute 7 à la liste stack\n\nprint(stack) # [3, 4, 5, 6, 7]\n\nstack.pop() # on enlève la dernière valeur à la liste stack - ici 7\n\nprint(stack) # [3, 4, 5, 6]\n\nstack.pop() # on enlève la dernière valeur à la liste stack - ici 6\nstack.pop() # on enlève la dernière valeur à la liste stack - ici 5\n\nprint(stack) # [3, 4]\n",
      "metadata": {
        "scrolled": true
      },
      "execution_count": 1,
      "outputs": [
        {
          "name": "stdout",
          "output_type": "stream",
          "text": "[3, 4, 5, 6, 7]\n\n[3, 4, 5, 6]\n\n[3, 4]\n"
        }
      ],
      "id": "ac01d34b"
    },
    {
      "cell_type": "markdown",
      "source": "**A Retenir**\n\n•\tÉtant donné une liste L de n éléments, on peut lui ajouter un (n + 1)-ième élément à droite avec L.append(e). Inversement, l’appel de fonction L.pop() permet simultanément de récupérer le n-ième élément de L (comme valeur de retour de la fonction) et de le supprimer, la liste L prenant alors la taille n − 1.\n\n•\tDans une liste, on peut accéder directement à n’importe quel élément ; dans une pile on n’accède directement qu’à l’élément au sommet de la pile. Pour accéder aux autres éléments, il faut dépiler plusieurs fois.\n    \n•\tL’avantage d’une pile est que c’est une structure de données très simple qui correspond bien à ce qui se passe dans la mémoire d’un ordinateur.\n",
      "metadata": {},
      "id": "b85d88fe"
    },
    {
      "cell_type": "markdown",
      "source": "---",
      "metadata": {},
      "id": "7eb73e8c"
    },
    {
      "cell_type": "markdown",
      "source": "## Qu'est ce qu'une file ?  ",
      "metadata": {},
      "id": "db2fa192"
    },
    {
      "cell_type": "markdown",
      "source": "Une file (queue en anglais) est une structure de données dans laquelle on accède aux éléments suivant la règle du premier arrivé premier sorti, ou encore **FIFO** (**First In First Out**).\n\nElle suit la même logique que les files d’attente (au McDrive, à Pôle Emploi...) : plus vous arrivez tôt et plus vous partez tôt ! ;-)\n\nPrenons un exemple de notre vie courante. Vous vous rendez à la Poste, car vous avez reçu un colis. Vous prenez un ticket qui vous indique votre ordre dans la file d’attente. Vous comparez alors ce numéro avec celui qui s’affiche et vous avez une idée du nombre de personnes avant vous. Vous râlez : si seulement vous étiez arrivé·e plus tôt, vous auriez moins attendu ! Premier arrivé, premier servi (et premier parti !)...\n\nLes programmeurs l’utilisent dans des services de commande en ligne (commande de pizza sur Internet) ou dans les plateformes de gestion de la clientèle (le premier à avoir posé une question est le premier servi).\n",
      "metadata": {},
      "id": "f0969d9a"
    },
    {
      "cell_type": "markdown",
      "source": "**Implémentation** \n\nEn C, une file peut être implémentée par une liste chaînée ou par un tableau avec une gestion circulaire. Toutefois, utiliser une liste comme une file, où le premier élément ajouté est le premier récupéré n’est pas très efficaces pour réaliser ce type de traitement. Alors que les ajouts et suppressions en fin de liste sont rapides, les opérations d'insertions ou de retraits en début de liste sont lentes (car tous les autres éléments doivent être décalés d'une position).\n\nEn Python, pour implémenter une file, nous pourrons utiliser la classe collections **.deque** qui a été conçue pour réaliser rapidement les opérations d'ajouts et de retraits aux deux extrémités. \n\n***Par exemple :***\n",
      "metadata": {},
      "id": "693c39a6"
    },
    {
      "cell_type": "code",
      "source": "from collections import deque\nqueue = deque([\"Eric\", \"John\", \"Michael\"]) # création d'une file queue\n\nqueue.append(\"Terry\")           # Terry arrive, on ajoute l'élément \"terry\" à la file\nqueue.append(\"Graham\")          # Graham arrive\n\nprint(queue)   # on affiche la file ['Eric', 'John', 'Michael', 'Terry', 'Graham']\n\nqueue.popleft()                 # Le premier arrivé sort de la file - ici 'Eric'\nqueue.popleft()                 # Le second arrivé sort de la file - ici 'John'\n\nprint(queue)  # on affiche la file ['Michael', 'Terry', 'Graham']\n",
      "metadata": {
        "scrolled": true
      },
      "execution_count": 2,
      "outputs": [
        {
          "name": "stdout",
          "output_type": "stream",
          "text": "deque(['Eric', 'John', 'Michael', 'Terry', 'Graham'])\n\ndeque(['Michael', 'Terry', 'Graham'])\n"
        }
      ],
      "id": "7050ad17"
    },
    {
      "cell_type": "markdown",
      "source": "---",
      "metadata": {},
      "id": "91af951d"
    },
    {
      "cell_type": "markdown",
      "source": "## Résumé  ",
      "metadata": {},
      "id": "9bd78032"
    },
    {
      "cell_type": "markdown",
      "source": "<span style='color:Red'> Les **piles** (de type LIFO) s’utilisent lorsque vous devez traiter en priorité les dernières données arrivées. Nous retrouvons ce système dans les placards de notre cuisine ou dans notre frigo : ce qui est mis en avant est ce que l’on va consommer le plus vite ! C’est également le cas dans le flux d’actualité de Facebook ou de Twitter (la dernière information arrivée est la première que vous voyez).\n\n<span style='color:Red'> Les **files** (de type FIFO) s’utilisent lorsque vous devez traiter un flux de données par ordre d’arrivée. C’est le cas lorsque vous faites une todo list (votre première action est celle qui vous devez réaliser en priorité) ou que vous listez les bugs en attente de traitement.\n",
      "metadata": {},
      "id": "5ab5dcff"
    },
    {
      "cell_type": "markdown",
      "source": "<img src=\"https://github.com/Lionel-Helin-Oza/TP2.1-Piles-Files/blob/main/resume-lifo.png?raw=true\" width=\"350\">",
      "metadata": {},
      "id": "76573bd7"
    },
    {
      "cell_type": "markdown",
      "source": "**Opérations courantes**\n\nLes opérations courantes de ces deux structures sont appelées primitives de gestion des piles ou des files. \nLes noms sont assez parlants ! :)\n\n***Piles :***  Initialiser / EstVide / EstPleine / AccederSommet / Empiler / Depiler / Vider / Détruire\n\n***Files :***  Initialiser / EstVide / EstPleine / AccederTete / Enfiler / Defiler /  Vider / Detruire\n",
      "metadata": {},
      "id": "668dc4c7"
    },
    {
      "cell_type": "markdown",
      "source": "---",
      "metadata": {},
      "id": "87463cb5"
    },
    {
      "cell_type": "markdown",
      "source": "### Exercice 1 - Opérations usuelles sur les piles   \n\nÀ l’aide des fonctions append et pop, programmer les opérations usuelles sur une pile :\n\n1. Créer une nouvelle pile, qui est vide :",
      "metadata": {},
      "id": "00db1dad"
    },
    {
      "cell_type": "code",
      "source": "# Votre réponse ci-dessous :\ndef creer_pile():\n    pile = []\n    return pile",
      "metadata": {
        "trusted": true
      },
      "execution_count": 17,
      "outputs": [],
      "id": "83c2fdbf"
    },
    {
      "cell_type": "markdown",
      "source": "2. Empiler une valeur sur la pile.\n\nExemple : si au départ pile = [5,1,3] alors, après l’instruction empile(8), la pile vaut [5,1,3,8] et si on continue avec l’instruction empile(6), la pile vaut maintenant [5,1,3,8,6].",
      "metadata": {},
      "id": "eb8d6f36"
    },
    {
      "cell_type": "code",
      "source": "# Votre réponse ci-dessous :\ndef empiler(e,p):\n    p.append(e)\n    return p",
      "metadata": {
        "trusted": true
      },
      "execution_count": 3,
      "outputs": [],
      "id": "acd216b7"
    },
    {
      "cell_type": "markdown",
      "source": "3. Dépiler une valeur de la pile \n\nExemple : si au départ pile = [13,4,9] alors l’instruction depile() renvoie la valeur 9 et la pile vaut maintenant [13,4] ; si on exécute une nouvelle instruction depile(), elle renvoie cette fois la valeur 4 et la pile vaut maintenant [13].\n",
      "metadata": {},
      "id": "9cc7d3c4"
    },
    {
      "cell_type": "code",
      "source": "# Votre réponse ci-dessous :\ndef depiler(p):\n    return p.pop()",
      "metadata": {
        "trusted": true
      },
      "execution_count": 25,
      "outputs": [],
      "id": "7b9e5ef9"
    },
    {
      "cell_type": "markdown",
      "source": "4. Construire les fonctions suivantes `pile_vide(p)`, `sommet(p)`, `taille(p)` en utilisant uniquement les fonctions `creer_pile()`, `depiler(p)` `empiler(p,v)`",
      "metadata": {},
      "id": "c2a2dbf7"
    },
    {
      "cell_type": "code",
      "source": "# Vos réponses ci-dessous :\ndef pile_vide(p):\n    if p == creer_pile():\n        return True\n    else:\n        return False",
      "metadata": {
        "trusted": true
      },
      "execution_count": 20,
      "outputs": [],
      "id": "e0c59c46"
    },
    {
      "cell_type": "code",
      "source": "def sommet(p):\n    val=depiler(p)\n    empiler(val,p)\n    return val\n    ",
      "metadata": {
        "trusted": true
      },
      "execution_count": 23,
      "outputs": [],
      "id": "73f2dd0f"
    },
    {
      "cell_type": "code",
      "source": "def taille(p):\n    tab = []\n    tail = 0\n    while p != pile_vide:\n        val = depiler(p)\n        tab.insert(val,0)\n        tail = tail + 1\n    return tail",
      "metadata": {
        "trusted": true
      },
      "execution_count": 37,
      "outputs": [],
      "id": "4de1dde3"
    },
    {
      "cell_type": "markdown",
      "source": "5. Tester ces différentes fonctions avec une pile de votre choix. \n\nPar exemple, la pile sera représentée par la liste [2,354,13,55]. Le sommet de la pile sera donc le dernier élément de la liste et l’élément le plus bas de la pile sera donc le premier élément de la liste\n",
      "metadata": {},
      "id": "3426eed9"
    },
    {
      "cell_type": "code",
      "source": "# Votre réponse ci-dessous :\n\n\n\n\n\n\n",
      "metadata": {},
      "execution_count": null,
      "outputs": [],
      "id": "c4e51a73"
    },
    {
      "cell_type": "markdown",
      "source": "---",
      "metadata": {},
      "id": "a306d8ab"
    },
    {
      "cell_type": "markdown",
      "source": "### Exercice 2 - Applications sur les Piles \n\n\n***Objectifs :*** MANIPULER les piles en UTILISANT seulement les trois fonctions `empiler()`, `depiler()` et `pile_vide()`. Ecrire les codes permettant de :\n\n",
      "metadata": {},
      "id": "8d52aa30"
    },
    {
      "cell_type": "markdown",
      "source": "1. (a) En partant d’une pile vide, arrive à une pile [5,7,2,4].",
      "metadata": {},
      "id": "5d9aa57a"
    },
    {
      "cell_type": "code",
      "source": "# Votre réponse ci-dessous :\n\n",
      "metadata": {},
      "execution_count": null,
      "outputs": [],
      "id": "9cb55510"
    },
    {
      "cell_type": "markdown",
      "source": "1. (b) Exécute ensuite les instructions depiler(p), empiler(8,p), empiler(1,p), empiler(3,p). Que vaut- maintenant la pile ? Que renvoie maintenant l’instruction depiler() ?",
      "metadata": {},
      "id": "33b0a463"
    },
    {
      "cell_type": "markdown",
      "source": "***Votre réponse ci-dessous :***",
      "metadata": {},
      "id": "938bf016"
    },
    {
      "cell_type": "raw",
      "source": "",
      "metadata": {},
      "id": "98388621"
    },
    {
      "cell_type": "markdown",
      "source": "2.\tPars d’une pile. Écris une fonction `pile_contient(element,pile)` qui teste si la pile contient un élément donné.",
      "metadata": {},
      "id": "ec4d8820"
    },
    {
      "cell_type": "code",
      "source": "# Votre réponse ci-dessous :\n\n",
      "metadata": {},
      "execution_count": null,
      "outputs": [],
      "id": "a893b085"
    },
    {
      "cell_type": "markdown",
      "source": "3.\tPars d’une pile. Écris une fonction qui calcule la somme des éléments de la pile.",
      "metadata": {},
      "id": "ca931742"
    },
    {
      "cell_type": "code",
      "source": "# Votre réponse ci-dessous :\n\n",
      "metadata": {},
      "execution_count": null,
      "outputs": [],
      "id": "b097b93b"
    },
    {
      "cell_type": "markdown",
      "source": "4.\tPars d’une pile. Écris une fonction qui renvoie l’avant-dernier élément de la pile (le dernier élément est celui tout en bas ; si cet avant-dernier élément n’existe pas, la fonction renvoie None).",
      "metadata": {},
      "id": "b73af840"
    },
    {
      "cell_type": "code",
      "source": "# Votre réponse ci-dessous :\n\n",
      "metadata": {},
      "execution_count": null,
      "outputs": [],
      "id": "4f95ae86"
    },
    {
      "cell_type": "markdown",
      "source": "---",
      "metadata": {},
      "id": "be1e11bd"
    },
    {
      "cell_type": "markdown",
      "source": "### Exercice 3 - Gare de Triage (Piles) ",
      "metadata": {},
      "id": "a6f2cca2"
    },
    {
      "cell_type": "markdown",
      "source": "**Rappel de différentes méthodes python** ( nous verrons dans le prochain chapitre ce qu'est une \"méthode\" mais je pense que vous comprendrez facilement comment utiliser ces outils)\n\n1.\tLa fonction `split()` est une** méthode **Python** qui sépare une chaîne de caractères en morceaux. Si aucun séparateur n’est précisé, le séparateur est le caractère espace.\n",
      "metadata": {},
      "id": "780e8909"
    },
    {
      "cell_type": "markdown",
      "source": "<img src=\"https://github.com/Lionel-Helin-Oza/TP2.1-Piles-Files/blob/main/split.jpg?raw=true\" width=\"500\">",
      "metadata": {},
      "id": "7b3e773d"
    },
    {
      "cell_type": "markdown",
      "source": "2.\tLa fonction `join()` est une méthode **Python** qui recolle une liste de chaînes en une seule chaîne. C’est l’opération inverse de `split()` ",
      "metadata": {},
      "id": "0905b7d4"
    },
    {
      "cell_type": "markdown",
      "source": "<img src=\"https://github.com/Lionel-Helin-Oza/TP2.1-Piles-Files/blob/main/join.jpg?raw=true\" width=\"500\">",
      "metadata": {},
      "id": "b124e77d"
    },
    {
      "cell_type": "markdown",
      "source": "3.\tLa fonction `isdigit()` est une méthode **Python** qui teste si une chaîne de caractères ne contient que des chiffres. Cela permet donc de tester si une chaîne correspond à un entier positif. \n\nVoici des exemples : \"1789\".isdigit() renvoie True ; \"Coucou\".isdigit() renvoie False.\n\nRappelons que l’on peut convertir une chaîne en un entier par la commande `int(chaine)`.\n",
      "metadata": {},
      "id": "8f5f2aa4"
    },
    {
      "cell_type": "markdown",
      "source": "---",
      "metadata": {},
      "id": "e1352622"
    },
    {
      "cell_type": "markdown",
      "source": "**Exercice :**\nObjectifs : résoudre un problème de TRIAGE en MODELISANT une zone de STOCKAGE PAR une pile.\n\nUn train comporte des wagons bleus qui portent un numéro et des wagons rouges qui portent une lettre : ( ici un train non-trié)\n",
      "metadata": {},
      "id": "e52562cb"
    },
    {
      "cell_type": "markdown",
      "source": "<img src=\"https://github.com/Lionel-Helin-Oza/TP2.1-Piles-Files/blob/main/wagon_non_trie.jpg?raw=true\" width=\"500\">",
      "metadata": {},
      "id": "d63027eb"
    },
    {
      "cell_type": "markdown",
      "source": "Le chef de gare souhaite séparer les wagons : d’abord tous les bleus et ensuite tous les rouges (l’ordre des wagons bleus n’a pas d’importance, l’ordre des wagons rouges non plus). Voici ce même train trié :",
      "metadata": {},
      "id": "fac2ddba"
    },
    {
      "cell_type": "markdown",
      "source": "<img src=\"https://github.com/Lionel-Helin-Oza/TP2.1-Piles-Files/blob/main/wagon_trie.jpg?raw=true\" width=\"500\">",
      "metadata": {},
      "id": "d6fbbd99"
    },
    {
      "cell_type": "markdown",
      "source": "Pour cela, il dispose d’une gare de sortie et d’une zone d’attente : un wagon peut soit être directement envoyé à la gare de sortie, soit être momentanément stocké dans la zone d’attente.",
      "metadata": {},
      "id": "b5e3c4b1"
    },
    {
      "cell_type": "markdown",
      "source": "<img src=\"https://github.com/Lionel-Helin-Oza/TP2.1-Piles-Files/blob/main/train_trie.jpg?raw=true\" width=\"700\">",
      "metadata": {},
      "id": "d3369cde"
    },
    {
      "cell_type": "markdown",
      "source": "Voici les instructions du chef de gare.\n\n•\t**Phase 1**. \n\nPour chaque wagon du train :\n- si c’est un wagon bleu, envoyez-le directement en gare de sortie ;\n- si c’est un wagon rouge, envoyez-le dans la zone d’attente.\n\n•\t**Phase 2**. \n\nEnsuite, déplacez un par un les wagons (rouges) de la zone d’attente vers la gare de sortie en les raccrochant aux autres.\n",
      "metadata": {},
      "id": "697f6130"
    },
    {
      "cell_type": "markdown",
      "source": "<img src=\"https://github.com/Lionel-Helin-Oza/TP2.1-Piles-Files/blob/main/train_trie2.jpg?raw=true\" width=\"700\">",
      "metadata": {},
      "id": "f9b8b461"
    },
    {
      "cell_type": "markdown",
      "source": "Voici comment nous allons modéliser le train et son triage.\n\n•\tLe train est une chaîne de caractères formée d’une suite de nombres (les wagons bleus) et de lettres (les wagons rouges) séparés par des espaces. Par exemple train = \"G 6 Z J 14\".\n\n•\tOn obtient la liste des wagons par la commande `train.split()`.\n\n•\tOn teste si un wagon est bleu est regardant s’il est marqué d’un nombre, par la fonction\n`wagon.isdigit()`.\n\n•\tLe train reconstitué par les wagons triés est aussi une chaîne de caractères. Au départ, c’est la chaîne vide.\n\n•\tLa zone d’attente sera la pile. Au départ la pile est vide. On va y ajouter uniquement les wagons rouges. À la fin, on vide la pile vers la queue du train reconstitué.\n",
      "metadata": {},
      "id": "7d76b183"
    },
    {
      "cell_type": "markdown",
      "source": "<img src=\"https://github.com/Lionel-Helin-Oza/TP2.1-Piles-Files/blob/main/tri_wagon.jpg?raw=true\" width=\"500\">",
      "metadata": {},
      "id": "3ce6de95"
    },
    {
      "cell_type": "markdown",
      "source": "**En suivant les instructions du chef de gare, écris une fonction `tri_wagons()` qui sépare les wagons bleus et rouges d’un train**",
      "metadata": {},
      "id": "4c554fd0"
    },
    {
      "cell_type": "markdown",
      "source": "**Votre réponse ci-dessous :**",
      "metadata": {},
      "id": "a0532f28"
    },
    {
      "cell_type": "code",
      "source": "def tri_wagons(train):\n    \n\n",
      "metadata": {},
      "execution_count": null,
      "outputs": [],
      "id": "0a6f39ad"
    },
    {
      "cell_type": "markdown",
      "source": "---",
      "metadata": {},
      "id": "57d2aa32"
    },
    {
      "cell_type": "markdown",
      "source": "### Exercice 4 - Calculatrice Polonaise (Piles) ",
      "metadata": {},
      "id": "e3d5dd21"
    },
    {
      "cell_type": "markdown",
      "source": "***Définition*** :\n\nL’écriture en notation polonaise (de son vrai nom, notation polonaise inverse) est une autre façon d’écrire une expression algébrique. Son avantage est que cette notation n’utilise pas de parenthèses et qu’elle est plus facile à manipuler pour un ordinateur. Son inconvénient est que nous n’y sommes pas habitués.\n\nVoici la façon classique d’écrire une expression algébrique : 7 + 6\t\n\net voici son écriture polonaise : 7 6 +\n\nDans tous les cas, le résultat sera 13 !\n\n*Autres exemples :*\n\n•\tclassique : (10 + 5) × 3 ;\tpolonaise : 10 5 + 3 ×\n\n•\tclassique : 10 + 2 × 3 ;\tpolonaise : 10 2 3 × +\n\n•\tclassique : (2 + 8) × (6 + 11) ;\tpolonaise : 2 8 + 6 11 + ×\n\nVoyons comment calculer la valeur d’une expression en écriture polonaise.\n\n-\tOn lit l’expression de gauche à droite :\n                    2 8 + 6 11 + * \n\n-\tLorsque l’on rencontre un premier opérateur (+,\t,. . . ) on calcule l’opération AVEC les deux membres juste AVANT cet OPERATEUR :",
      "metadata": {},
      "id": "f18c7918"
    },
    {
      "cell_type": "markdown",
      "source": "<img src=\"https://github.com/Lionel-Helin-Oza/TP2.1-Piles-Files/blob/main/calculatrice_slide1.jpg?raw=true\" width=\"200\">",
      "metadata": {},
      "id": "b21ad7c5"
    },
    {
      "cell_type": "markdown",
      "source": "-\tOn remplace cette opération par le résultat :",
      "metadata": {},
      "id": "a62f77c6"
    },
    {
      "cell_type": "markdown",
      "source": "<img src=\"https://github.com/Lionel-Helin-Oza/TP2.1-Piles-Files/blob/main/calculatrice_slide1.jpg?raw=true\" width=\"200\">",
      "metadata": {},
      "id": "b71c302a"
    },
    {
      "cell_type": "markdown",
      "source": "-\tOn continue la lecture de l’expression (on cherche le premier opérateur et les deux termes juste avant) :",
      "metadata": {},
      "id": "2eeb334c"
    },
    {
      "cell_type": "markdown",
      "source": "<img src=\"https://github.com/Lionel-Helin-Oza/TP2.1-Piles-Files/blob/main/calculatrice_slide3.jpg?raw=true\" width=\"500\">",
      "metadata": {},
      "id": "24a2fce0"
    },
    {
      "cell_type": "markdown",
      "source": "À la fin il ne reste qu’une valeur, c’est le résultat ! (Ici 170.)",
      "metadata": {},
      "id": "bda1e411"
    },
    {
      "cell_type": "markdown",
      "source": "***Exercice : (Pour voir si vous avez bien compris..)***\n\nCalcule la valeur des expressions :           ",
      "metadata": {},
      "id": "285e0d81"
    },
    {
      "cell_type": "markdown",
      "source": "•\t13 5 + 3 ×          =\n\n•\t3   5   7   × +     =\n\n•\t3   5   7   + ×     =\n\n•\t15 5 ÷ 4 12 + ×     =\n",
      "metadata": {},
      "id": "24db413c"
    },
    {
      "cell_type": "markdown",
      "source": "**Exercice :**\n\nObjectif : Programmer une MINI-CALCULATRICE qui CALCULE les expressions en écriture POLONAISE.",
      "metadata": {},
      "id": "84eb4acf"
    },
    {
      "cell_type": "markdown",
      "source": "1.\tÉcris une fonction `operation()` qui calcule la somme ou le produit de deux nombres.\n",
      "metadata": {},
      "id": "867bb49e"
    },
    {
      "cell_type": "markdown",
      "source": "<img src=\"https://github.com/Lionel-Helin-Oza/TP2.1-Piles-Files/blob/main/operation.png?raw=true\" width=\"500\">",
      "metadata": {},
      "id": "2a4bee21"
    },
    {
      "cell_type": "code",
      "source": "# Votre réponse ci-dessous :\ndef operation(a,b,op):\n\n\n",
      "metadata": {},
      "execution_count": null,
      "outputs": [],
      "id": "1707a532"
    },
    {
      "cell_type": "markdown",
      "source": "2.\tProgramme une calculatrice polonaise, selon l’algorithme suivant :\n\n\n**Algorithme**.\n\n- Entrée : une expression en écriture polonaise (une chaîne de caractères).\n- Sortie : la valeur de cette expression.\n- Exemple : \"2 3 + 4 *\" (le calcul (2 + 3)\t4) donne 20.\n\n•\tPartir avec une pile vide.\n\n•\tPour chaque élément de l’expression (lue de gauche à droite) :\n- si l’élément est un nombre, alors ajouter ce nombre à la pile,\n- si l’élément est une opération, alors :\n- dépiler une fois pour obtenir un nombre b,\n- dépiler une seconde fois pour obtenir un nombre A,\n- calculer A + b ou A\tb selon l’opération,\n- ajouter ce résultat à la pile.\n\n•\tÀ la fin, la pile ne contient qu’un seul élément, c’est le résultat du calcul.\n",
      "metadata": {},
      "id": "4a09e838"
    },
    {
      "cell_type": "markdown",
      "source": "<img src=\"https://github.com/Lionel-Helin-Oza/TP2.1-Piles-Files/blob/main/calculatrice_pol.jpg?raw=true\" width=\"500\">",
      "metadata": {},
      "id": "48697faa"
    },
    {
      "cell_type": "code",
      "source": "# Votre réponse (code) ci-dessous :\n\ndef calculatrice_polonaise(expression):\n\n",
      "metadata": {},
      "execution_count": 13,
      "outputs": [],
      "id": "6f4d3242"
    },
    {
      "cell_type": "markdown",
      "source": "---",
      "metadata": {},
      "id": "ce6fead0"
    },
    {
      "cell_type": "markdown",
      "source": "### Exercice 5 - Opérations usuelles sur les files",
      "metadata": {},
      "id": "4fd6a9ac"
    },
    {
      "cell_type": "markdown",
      "source": "Ecrire les fonctions (méthodes) usuelles suivantes :\n\n1. Créer une file vide :",
      "metadata": {},
      "id": "9aeccb9a"
    },
    {
      "cell_type": "code",
      "source": "def creer_file():\n\n    ",
      "metadata": {},
      "execution_count": null,
      "outputs": [],
      "id": "6ddc6e52"
    },
    {
      "cell_type": "code",
      "source": "2. Placer un élément en file d’attente :",
      "metadata": {},
      "execution_count": null,
      "outputs": [],
      "id": "28e9933c"
    },
    {
      "cell_type": "code",
      "source": "def enfiler(x,f):\n    \n    ",
      "metadata": {},
      "execution_count": null,
      "outputs": [],
      "id": "ac3466cf"
    },
    {
      "cell_type": "markdown",
      "source": "3. Faire sortir le premier élément de la file",
      "metadata": {},
      "id": "8ca3ab18"
    },
    {
      "cell_type": "code",
      "source": "def defiler(f):\n    \n   ",
      "metadata": {},
      "execution_count": null,
      "outputs": [],
      "id": "5f59f088"
    },
    {
      "cell_type": "markdown",
      "source": "4. Savoir si la file est vide",
      "metadata": {},
      "id": "d16916ea"
    },
    {
      "cell_type": "code",
      "source": "def est_vide(f):\n\n    ",
      "metadata": {},
      "execution_count": null,
      "outputs": [],
      "id": "aad27480"
    },
    {
      "cell_type": "markdown",
      "source": "5. Retourner la longueur de la file",
      "metadata": {},
      "id": "1c21b9dc"
    },
    {
      "cell_type": "code",
      "source": "def longueur(f):\n\n",
      "metadata": {},
      "execution_count": 12,
      "outputs": [],
      "id": "3568d72c"
    },
    {
      "cell_type": "markdown",
      "source": "---",
      "metadata": {},
      "id": "756f31dc"
    },
    {
      "cell_type": "markdown",
      "source": "### Exercice 6 - Croisement routier (files)",
      "metadata": {},
      "id": "1bd16126"
    },
    {
      "cell_type": "markdown",
      "source": "Pour simuler un croisement routier, à sens unique, on utilise 3 files f 1, f 2 et f 3 représentant respectivement les voitures arrivant sur des routes R1 et R2, et les voitures partant sur la route R3.\nLa route R2 a un STOP. Les voitures de la file f 2 ne peuvent avancer que s’il n’y a aucune voiture sur la route R1, donc dans la file f 1.\n",
      "metadata": {},
      "id": "43256269"
    },
    {
      "cell_type": "markdown",
      "source": "<img src=\"https://github.com/Lionel-Helin-Oza/TP2.1-Piles-Files/blob/main/croisement.jpg?raw=true\" width=\"500\">",
      "metadata": {},
      "id": "296bca5e"
    },
    {
      "cell_type": "markdown",
      "source": "On souhaite écrire un algorithme qui simule le départ des voitures sur la route R3, modélisée par la file f 3.\n\nDans la file f 1 on représentera la présence d’une voiture par le nombre 1 et l’absence de voiture par 0\n\nDans la file f 2 on représentera la présence d’une voiture par le nombre 2 et l’absence de voiture par 0\n\n- On n’utilisera que les méthodes enfiler, defiler, sommet et vide (voir exercice précédent)\n\n- On testera l’algorithme sur f 1 : tête <–[0, 1, 1, 0, 1]<– queue\n- On testera l’algorithme sur f 2 : tête <–[0, 2, 2, 2, 0, 2, 0]<– queue\n- Le résultat attendu : f 3 tête <–[0, 1, 1, 2, 1, 2, 2, 0, 2, 0]<– queue\n\n***QUESTION 1:***\nQue doit faire l’algorithme si les deux sommets des files sont à 0?\n",
      "metadata": {},
      "id": "0061ae85"
    },
    {
      "cell_type": "markdown",
      "source": "***Votre réponse ci-dessous***",
      "metadata": {},
      "id": "3899be01"
    },
    {
      "cell_type": "raw",
      "source": "\n",
      "metadata": {},
      "id": "c0dfd50e"
    },
    {
      "cell_type": "markdown",
      "source": "***QUESTION 2:***\nQue doit faire l’algorithme si le sommet de f 1 est à 1 et celui de f 2 à 2?\n",
      "metadata": {},
      "id": "cf8bf378"
    },
    {
      "cell_type": "markdown",
      "source": "***Votre réponse ci-dessous***",
      "metadata": {},
      "id": "b7e2b107"
    },
    {
      "cell_type": "raw",
      "source": "\n",
      "metadata": {},
      "id": "b5eb7801"
    },
    {
      "cell_type": "markdown",
      "source": "***QUESTION 3:***\nQue doit faire l’algorithme si le sommet de f 1 est à 1 et celui de f 2 à 0?",
      "metadata": {},
      "id": "f1f1c858"
    },
    {
      "cell_type": "markdown",
      "source": "***Votre réponse ci-dessous***",
      "metadata": {},
      "id": "ee7bc091"
    },
    {
      "cell_type": "raw",
      "source": " \n ",
      "metadata": {},
      "id": "827effee"
    },
    {
      "cell_type": "markdown",
      "source": "***QUESTION 4:***\nQue doit faire l’algorithme si le sommet de f 1 est à 0 et celui de f 2 à 2?\n",
      "metadata": {},
      "id": "43659f28"
    },
    {
      "cell_type": "markdown",
      "source": "***Votre réponse ci-dessous***",
      "metadata": {},
      "id": "503ce499"
    },
    {
      "cell_type": "raw",
      "source": " \n ",
      "metadata": {},
      "id": "c3c6b83b"
    },
    {
      "cell_type": "markdown",
      "source": "***QUESTION 5:***\nQue doit faire l’algorithme si l’une des deux files est vide?\n",
      "metadata": {},
      "id": "b247697a"
    },
    {
      "cell_type": "markdown",
      "source": "***Votre réponse ci-dessous***",
      "metadata": {},
      "id": "5a4ec117"
    },
    {
      "cell_type": "raw",
      "source": " \n ",
      "metadata": {},
      "id": "26d0d9d8"
    },
    {
      "cell_type": "markdown",
      "source": "***QUESTION 6:***\nRéaliser le programme qui modélise ce carrefour, on utilisera une fonction `croisement(f1,f2)` qui prend en paramètres deux files f 1 et f 2 et qui retourne une file f 3 contenant la file f 3 des voitures sur la route R3. **On utilisera les fonctions usuelles sur les files**.\n",
      "metadata": {},
      "id": "2ee89b17"
    },
    {
      "cell_type": "code",
      "source": "# Votre réponse (code) ci-dessous :\n\nfrom collections import deque\n\ndef croisement(f1,f2):\n\n",
      "metadata": {},
      "execution_count": 4,
      "outputs": [],
      "id": "59c1515f"
    },
    {
      "cell_type": "markdown",
      "source": "---",
      "metadata": {},
      "id": "9e692371"
    },
    {
      "cell_type": "markdown",
      "source": "### Exercice 7 - Tri pairs / Impairs (files)",
      "metadata": {},
      "id": "e7476392"
    },
    {
      "cell_type": "markdown",
      "source": "**Objectif :** On dispose d’une file contenant des entiers, écrire une fonction qui renvoie une file où on aura séparé les nombres pairs des impairs",
      "metadata": {},
      "id": "de064bfd"
    },
    {
      "cell_type": "code",
      "source": "# Votre réponse (code) ci-dessous :\n\n\n\n\n \n",
      "metadata": {},
      "execution_count": 5,
      "outputs": [],
      "id": "4b43bbe7"
    },
    {
      "cell_type": "markdown",
      "source": "---",
      "metadata": {},
      "id": "dd259810"
    },
    {
      "cell_type": "markdown",
      "source": "### Exercice 8 : Caisse de supermarché (files)",
      "metadata": {},
      "id": "d4bcae0e"
    },
    {
      "cell_type": "markdown",
      "source": "Dans un supermarché il y a 5 caisses et une file d’attente commune. Dès qu’une caisse est libre, le client en tête de file y est envoyé. Le temps de passage en caisse est aléatoirement compris entre 3 et 10 minutes. Il y a dix clients dans la file d’attente.",
      "metadata": {},
      "id": "007926d2"
    },
    {
      "cell_type": "markdown",
      "source": "1. Réaliser une simulation de leurs passages en caisses et afficher en combien de minutes tous les clients sont passés.\n\n2. Refaire quelques essais avec plus de clients.\n\nPour la file d’attente , vous utiliserez une file avec l’objet `.deque` sous python.\n\nPar exemple voici la liste d’attente: \n",
      "metadata": {},
      "id": "f443a3db"
    },
    {
      "cell_type": "code",
      "source": "from collections import deque                #import biblio deque\n\nfile_attente=['1','2','3','4','5','6','7','8','9','10'] #la liste d'attente commune avec 10 clients\n\nd = deque(file_attente)                #création file client\n\nprint(d)   # affiche deque([‘1’, ‘2’, ‘3’, ‘4’, ‘5’, ‘6’, ‘7’, ‘8’, ‘9’, ’10’])",
      "metadata": {
        "scrolled": true
      },
      "execution_count": 6,
      "outputs": [
        {
          "name": "stdout",
          "output_type": "stream",
          "text": "deque(['1', '2', '3', '4', '5', '6', '7', '8', '9', '10'])\n"
        }
      ],
      "id": "c9a80d1c"
    },
    {
      "cell_type": "markdown",
      "source": "Quelques informations sur les instructions Python deque.\n\n**`append(x)`**\nAjoute x à l’extrémité droite de la deque.\n\n**`appendleft(x)`**\nAjoute x à l’extrémité gauche de la deque.\n\nOn peut retirer et renvoyer :\n\n**`pop()`**\nRetire et renvoie un élément de l’extrémité droite de la deque. S’il n’y a aucun élément, lève une exception IndexError.\n\n**`popleft()`**\nRetire et renvoie un élément de l’extrémité gauche de la deque. S’il n’y a aucun élément, lève  une exception IndexError.\n",
      "metadata": {},
      "id": "ec6b856c"
    },
    {
      "cell_type": "markdown",
      "source": "Pour la liste des caisses, vous utiliserez une liste [0,0,0,0,0], premier élément temps caisse 1, ici à 0, puis temps caisse 2 ou un dictionnaire {1: 0, 2: 0, 3: 0, 4: 0, 5: 0}, clé 1 = caisse 1 avec sa valeur = temps ici à 0.",
      "metadata": {},
      "id": "6c59ddbe"
    },
    {
      "cell_type": "markdown",
      "source": "**A l'aide de ces éléments, Ecrire une fonction permettant de simuler le passage en caisse**",
      "metadata": {},
      "id": "31411616"
    },
    {
      "cell_type": "code",
      "source": "# Votre réponse (code) ci-dessous :\n\nfrom random import randint # pour la gestion des nombres aléatoires\n\ndef caisse(f):\n\n",
      "metadata": {},
      "execution_count": 7,
      "outputs": [],
      "id": "cbd4884a"
    },
    {
      "cell_type": "markdown",
      "source": "---",
      "metadata": {},
      "id": "f61fd072"
    },
    {
      "cell_type": "markdown",
      "source": "| <span style='color:Blue'> L.HELIN |  | |   | |     |<span style='color:Blue'> NSI Terminale | |   | ||<span style='color:Blue'> Lycée Ozanam (Lille) & Lycée NDPO (Orchies)|\n| --- | --- |--- |--- |--- |--- | --- | --- |--- |--- | --- | --- |",
      "metadata": {},
      "id": "7358b1ca"
    }
  ]
}