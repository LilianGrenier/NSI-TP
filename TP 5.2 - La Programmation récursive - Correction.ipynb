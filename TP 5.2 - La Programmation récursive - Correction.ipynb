{
 "cells": [
  {
   "cell_type": "markdown",
   "id": "1443e017",
   "metadata": {},
   "source": [
    "---"
   ]
  },
  {
   "cell_type": "markdown",
   "id": "d15d6e61",
   "metadata": {},
   "source": [
    "<img src=\"https://github.com/Lionel-Helin-Oza/Images_Notebook/blob/main/NSI-Image.png?raw=true\" alt=\"drawing\" width=\"350\">"
   ]
  },
  {
   "cell_type": "markdown",
   "id": "aff477f4",
   "metadata": {},
   "source": [
    "# TP5.2 - Paradigme de Programmation - La Programmation Récursive\n",
    "\n",
    "Durée de l'activité proposé : 3h"
   ]
  },
  {
   "cell_type": "markdown",
   "id": "af7ffe52",
   "metadata": {},
   "source": [
    "**<center> <span style='color:Red'> PROPOSITION DE CORRECTION</center>**"
   ]
  },
  {
   "cell_type": "markdown",
   "id": "d3651f9a",
   "metadata": {},
   "source": [
    "<img src=\"https://github.com/Lionel-Helin-Oza/TP5.2---Programmation-R-cursive/blob/main/arbre.png?raw=true\" width=\"350\">"
   ]
  },
  {
   "cell_type": "markdown",
   "id": "5032505f",
   "metadata": {},
   "source": [
    "---"
   ]
  },
  {
   "cell_type": "markdown",
   "id": "746a3eef",
   "metadata": {},
   "source": [
    "\n",
    "## Rappels sur l’écriture d’une fonction sur Python \n",
    "\n",
    "La syntaxe Python pour la définition d’une fonction est la suivante :\n"
   ]
  },
  {
   "cell_type": "code",
   "execution_count": 1,
   "id": "6563e83a",
   "metadata": {},
   "outputs": [
    {
     "ename": "SyntaxError",
     "evalue": "invalid syntax (Temp/ipykernel_18960/1605320303.py, line 1)",
     "output_type": "error",
     "traceback": [
      "\u001b[1;36m  File \u001b[1;32m\"C:\\Users\\lione\\AppData\\Local\\Temp/ipykernel_18960/1605320303.py\"\u001b[1;36m, line \u001b[1;32m1\u001b[0m\n\u001b[1;33m    def nom_fonction(liste de paramètres):\u001b[0m\n\u001b[1;37m                           ^\u001b[0m\n\u001b[1;31mSyntaxError\u001b[0m\u001b[1;31m:\u001b[0m invalid syntax\n"
     ]
    }
   ],
   "source": [
    "def nom_fonction(liste de paramètres):\n",
    "      bloc d'instructions\n"
   ]
  },
  {
   "cell_type": "markdown",
   "id": "f6add868",
   "metadata": {},
   "source": [
    "**Exemple :**"
   ]
  },
  {
   "cell_type": "code",
   "execution_count": null,
   "id": "b0f204e1",
   "metadata": {
    "scrolled": true
   },
   "outputs": [],
   "source": [
    "def compteur(stop):\n",
    "    i = 0\n",
    "    while i < stop:\n",
    "        print(i)\n",
    "        i = i + 1\n",
    "\n",
    "a = 5\n",
    "compteur(a)\n",
    "**Exemple :**"
   ]
  },
  {
   "cell_type": "raw",
   "id": "db4b862d",
   "metadata": {},
   "source": [
    "Une fonction est appelée pour fournir un résultat en fonction des paramètres d’entrée. La « valeur » retournée est alors définie par le « return » (on parle sinon de procédure)."
   ]
  },
  {
   "cell_type": "markdown",
   "id": "693cb94b",
   "metadata": {},
   "source": [
    "**Exemple :**"
   ]
  },
  {
   "cell_type": "code",
   "execution_count": null,
   "id": "31dc99bf",
   "metadata": {},
   "outputs": [],
   "source": [
    "import numpy as np\n",
    "\n",
    "def cube(n):\n",
    "    return n**3\n",
    "        \n",
    "def volume_sphere(r):\n",
    "    return 4 / 3 * np.pi * cube(r)\n",
    "\n",
    "r = float(input(\"Entrez la valeur du rayon : \"))\n",
    "print(\"Le volume de cette sphere vaut\", volume_sphere(r))\n"
   ]
  },
  {
   "cell_type": "markdown",
   "id": "9f2c3b8b",
   "metadata": {},
   "source": [
    "---"
   ]
  },
  {
   "cell_type": "markdown",
   "id": "57a1ad2c",
   "metadata": {},
   "source": [
    "## Notion de Pile d’exécution   \n",
    "\n",
    "\n",
    "Une pile est une structure de données de type LIFO (last in first out) \n",
    "\n",
    "***Exemple 1*** : Empilement de dossiers \n",
    "\n",
    "Dans une pile de dossiers, le dernier arrivé est le premier traité\n"
   ]
  },
  {
   "cell_type": "markdown",
   "id": "5fc84804",
   "metadata": {},
   "source": [
    "<img src=\"https://github.com/Lionel-Helin-Oza/TP5.2---Programmation-R-cursive/blob/main/dossiers.png?raw=true\" width=\"150\">"
   ]
  },
  {
   "cell_type": "markdown",
   "id": "1ad3ad28",
   "metadata": {},
   "source": [
    "***Exemple 2*** : Gestion de processus par un système d’exploitation \n",
    "\n",
    "Dans un ordinateur, lorsqu’un « processus 1 » fait appel à un « processus 2 » qui fait lui-même appel à un « processus 3 », l’ensemble est stocké dans une table des processus, propre au noyau du système d’exploitation. Lorsque le « processus 3 » se termine, le système sait qu’il doit revenir au « processus 2 », puis au « processus 1 ». \n"
   ]
  },
  {
   "cell_type": "markdown",
   "id": "76573bd7",
   "metadata": {},
   "source": [
    "<img src=\"https://github.com/Lionel-Helin-Oza/TP5.2---Programmation-R-cursive/blob/main/Gestion%20des%20processus.png?raw=true\" width=\"350\">"
   ]
  },
  {
   "cell_type": "markdown",
   "id": "29645ff1",
   "metadata": {},
   "source": [
    "***Exemple 3*** : Dans un navigateur web, une pile sert à mémoriser les pages Web visitées. L'adresse de chaque nouvelle page visitée est empilée et l'utilisateur désempile l'adresse de la page précédente en cliquant le bouton « Afficher la page précédente » "
   ]
  },
  {
   "cell_type": "markdown",
   "id": "d9d236eb",
   "metadata": {},
   "source": [
    "<img src=\"https://github.com/Lionel-Helin-Oza/TP5.2---Programmation-R-cursive/blob/main/nav_web.png?raw=true\" width=\"100\">"
   ]
  },
  {
   "cell_type": "markdown",
   "id": "87463cb5",
   "metadata": {},
   "source": [
    "---"
   ]
  },
  {
   "cell_type": "markdown",
   "id": "00db1dad",
   "metadata": {},
   "source": [
    "## Qu’est-ce qu’un algorithme récursif ?   \n",
    "\n",
    "***Exercice :***\n",
    "\n",
    "Ecrire une fonction **`Somme(n)`** permettant de calculer la somme des n premiers entiers : \n",
    "\n",
    "                       `                  1+2+3+⋯+n\n",
    "\n",
    "On impose l’écriture d’un algorithme dit « impératif » ou « itératif » avec l’utilisation d’une boucle for ou While\n",
    "\n"
   ]
  },
  {
   "cell_type": "code",
   "execution_count": 1,
   "id": "acd216b7",
   "metadata": {},
   "outputs": [
    {
     "name": "stdout",
     "output_type": "stream",
     "text": [
      "10\n"
     ]
    },
    {
     "data": {
      "text/plain": [
       "\"\\ndef somme_rec(n):\\n    if n==1 :                    \\n       return 1               \\n    else :                 \\n       return (somme_rec(n-1)+n)\\n\\nnbr = int(input('Entrez un nombre:')) \\nprint(somme_rec(nbr))                    # Affichage du résultat pour n=nbr\\n\""
      ]
     },
     "execution_count": 1,
     "metadata": {},
     "output_type": "execute_result"
    }
   ],
   "source": [
    "# Votre réponse ci-dessous :\n",
    "\n",
    "# algorithme impératif\n",
    "\n",
    "def somme(n):\n",
    "   som=0\n",
    "   for i in range (n+1):\n",
    "      som=som+i\n",
    "   return som\n",
    "\n",
    "print(somme(5))\n",
    "\n",
    "\n",
    "# algorithme récursif.\n",
    "\n",
    "def somme_rec(n):\n",
    "    if n==1 :                    \n",
    "       return 1               \n",
    "    else :                 \n",
    "       return (somme_rec(n-1)+n)\n",
    "\n",
    "nbr = int(input('Entrez un nombre:')) \n",
    "print(somme_rec(nbr))                    # Affichage du résultat pour n=nbr\n",
    "\n"
   ]
  },
  {
   "cell_type": "markdown",
   "id": "8d52aa30",
   "metadata": {},
   "source": [
    "Il existe une autre manière d’aborder la problématique, avec une formulation peut être plus intuitive. Nous pouvons définir une fonction **`somme(n)`** qui a pour argument un entier naturel n et qui retourne : \n"
   ]
  },
  {
   "cell_type": "markdown",
   "id": "7b3e773d",
   "metadata": {},
   "source": [
    "<img src=\"https://github.com/Lionel-Helin-Oza/TP5.2---Programmation-R-cursive/blob/main/fct-somme.jpg?raw=true\" width=\"400\">"
   ]
  },
  {
   "cell_type": "markdown",
   "id": "f3fa0b14",
   "metadata": {},
   "source": [
    "On voit ici que la somme(n) dépend de la valeur de somme(n-1) . L’appel de la fonction somme(n-1) nécessitera donc de connaître la valeur de somme(n-2), etc. \n",
    "\n",
    "On voit donc ici la nécessité d’avoir une condition d’arrêt pour que la fonction puisse s’arrêter. Ici, elle est ici définie par somme(0)=0. \n",
    "\n",
    "**Question : que se passe-t-il si on appelle la fonction somme(3) ?**\n",
    "\n",
    "-\t1er appel de la fonction somme avec le paramètre n = 3;\n",
    "            o n > 0 donc somme(3)= 3+somme(2) \n",
    "            o appel de la fonction somme avec le paramètre n = 2\n",
    "\n",
    "-\t2e appel de la fonction somme avec le paramètre n = 2 ; \n",
    "            o n > 0 donc donc somme(2)= 2+somme(1) \n",
    "            o appel de la fonction somme avec le paramètre n = 1\n",
    "\n",
    "-\t3e appel de la fonction somme avec le paramètre n = 1 ; \n",
    "            o n > 0 donc somme(1)= 1+somme(0) \n",
    "            o appel de la fonction somme avec le paramètre n = 0\n",
    "\n",
    "-\t4e appel de la fonction somme avec le paramètre n = 0 ; \n",
    "            o n = 0 donc on affecte à l’instruction somme(0) la valeur 0\n",
    "\n",
    "-\ton \"dépile\" (3e appel, n = 1) : somme(1)=1+0=1\n",
    "-\ton \"dépile\" (2e appel, n = 2) :  somme(2)=2+somme(1)=2+1=3\n",
    "-\ton \"dépile\" (1er appel, n = 3) : somme(3)=3+somme(2)=3+3=6\n",
    "\n",
    "\n",
    "Voyons la succession des piles d’exécution. \n",
    "\n"
   ]
  },
  {
   "cell_type": "markdown",
   "id": "8aa44147",
   "metadata": {},
   "source": [
    "<img src=\"https://github.com/Lionel-Helin-Oza/TP5.2---Programmation-R-cursive/blob/main/somme_pile.jpg?raw=true\" width=\"600\">"
   ]
  },
  {
   "cell_type": "markdown",
   "id": "4c3b7920",
   "metadata": {},
   "source": [
    "Il faut remarquer l’ordre d’exécution des sommes. Le calcul des sommes ne commence que lorsque le dernier appel a été fait (somme(0)). \n",
    "\n",
    "La séquence des opérations effectuées comporte deux parties : dans la première partie, les appels de la fonction s’enchaînent (on empile). Dans la seconde partie, les sommes sont calculées. À chaque appel récursif, il faut en effet mémoriser les valeurs des variables locales de la fonction.\n"
   ]
  },
  {
   "cell_type": "markdown",
   "id": "77dee21f",
   "metadata": {},
   "source": [
    "### A RETENIR\n",
    "\n",
    "`Un algorithme récursif est un algorithme qui comporte :` \n",
    "-\t`au moins un appel à lui-même`\n",
    "-\t`au moins une condition d’arrêt`\n",
    "\n",
    "La condition d’arrêt est primordiale pour que l’algorithme se termine. Il conviendra également de vérifier que la valeur utilisée pour appeler la fonction soit dans le domaine de la fonction.\n",
    "\n",
    "\n",
    "***Remarques :***\n",
    "\n",
    "Il existe plusieurs types de récursivité :\n",
    "\n",
    "- _récursivité simple_ : un algorithme récursif est simple ou linéaire si chaque cas se résout en au plus un appel récursif. Le calcul de la somme en est un exemple.\n",
    "\n",
    "- _récursivité multiple_ : un algorithme récursif est multiple si l’un des cas qu’il distingue se résout avec plusieurs appels récursifs. Si \"plusieurs=2\" on parle de récursivité binaire (ou double récursion).\n",
    "\n",
    "- _récursivité croisée ou mutuelle_ : deux algorithmes sont mutuellement récursifs si l’un fait appel à l’autre et l’autre fait appel à l’un. On parle aussi de récursivité croisée.\n",
    "\n",
    "- _récursivité imbriquée_ : Un algorithme est récursif imbriqué si l’appel récursif contient lui aussi un appel récursif. \n",
    "\n"
   ]
  },
  {
   "cell_type": "markdown",
   "id": "e1352622",
   "metadata": {},
   "source": [
    "---"
   ]
  },
  {
   "cell_type": "markdown",
   "id": "c2fe5640",
   "metadata": {},
   "source": [
    "## Exercices d'application"
   ]
  },
  {
   "cell_type": "markdown",
   "id": "48ae16d6",
   "metadata": {},
   "source": [
    "### Partie 1 : Algorithmes récursifs sur des entiers"
   ]
  },
  {
   "cell_type": "markdown",
   "id": "badf8bf5",
   "metadata": {},
   "source": [
    "***Exercice 1 :***\n",
    "\n",
    "Que pensez-vous de la fonction récursive définie par : "
   ]
  },
  {
   "cell_type": "markdown",
   "id": "3ce6de95",
   "metadata": {},
   "source": [
    "<img src=\"https://github.com/Lionel-Helin-Oza/TP5.2---Programmation-R-cursive/blob/main/fct-ex1.jpg?raw=true\" width=\"350\">"
   ]
  },
  {
   "cell_type": "markdown",
   "id": "a0532f28",
   "metadata": {},
   "source": [
    "**Votre réponse ci-dessous :**"
   ]
  },
  {
   "cell_type": "markdown",
   "id": "5f45f110",
   "metadata": {},
   "source": [
    "\n",
    " <span style='color:Red'> La condition d’arrêt n’est pas suffisante. La récursivité est infinie.\n"
   ]
  },
  {
   "cell_type": "markdown",
   "id": "f18c7918",
   "metadata": {},
   "source": [
    "***Exercice 2 : (Récursivité simple)***\n",
    "\n",
    "Ecrire la fonction somme(n) de manière récursive et l’implémenter sur Python."
   ]
  },
  {
   "cell_type": "code",
   "execution_count": 2,
   "id": "1cda8762",
   "metadata": {},
   "outputs": [
    {
     "name": "stdout",
     "output_type": "stream",
     "text": [
      "Entrez un nombre:10\n",
      "55\n"
     ]
    }
   ],
   "source": [
    "# Votre réponse ci-dessous : \n",
    "def somme_rec(n):\n",
    "    if n==1 :                    \n",
    "       return 1               \n",
    "    else :                 \n",
    "       return (somme_rec(n-1)+n)\n",
    "\n",
    "nbr = int(input('Entrez un nombre:')) \n",
    "print(somme_rec(nbr))  \n",
    "\n",
    "\n"
   ]
  },
  {
   "cell_type": "markdown",
   "id": "285e0d81",
   "metadata": {},
   "source": [
    "***Exercice 3 : (Récursivité simple)***\n",
    "\n",
    "Ecrire une définition récursive de la fonction **`fact(n)`** permettant de calculer la factorielle de n. \n",
    "\n",
    "Pour rappel : \n",
    "\n",
    "                                  n!= 1 × 2 × … × n si n>0  et  0!=1\n"
   ]
  },
  {
   "cell_type": "code",
   "execution_count": 4,
   "id": "8b320d2c",
   "metadata": {},
   "outputs": [],
   "source": [
    "# Votre réponse ci-dessous : \n",
    "\n",
    "def fact(n):\n",
    "   if n<1:\n",
    "      return(0)\n",
    "   elif n==1:\n",
    "      return(1)\n",
    "   else:\n",
    "      return(n*fact(n-1))\n"
   ]
  },
  {
   "cell_type": "markdown",
   "id": "6aba87b6",
   "metadata": {},
   "source": [
    "***Exercice 4 : (comparaison des temps d’éxécution) ***\n",
    "\n",
    "1. Implémenter, sur Python, une fonction **`puiss_iter (n)`** permettant de calculer la valeur 2^n par une ***méthode itérative (boucle)***.`**\n",
    "\n",
    "*n est un entier naturel et on rappelle que 2^0=0*\n",
    "\n"
   ]
  },
  {
   "cell_type": "code",
   "execution_count": 4,
   "id": "2db117f3",
   "metadata": {},
   "outputs": [],
   "source": [
    "# Votre réponse ci-dessous : \n",
    "\n",
    "def puiss_iter(n):\n",
    "  puiss=1\n",
    "  if n==0 :\n",
    "    puiss=1\n",
    "  else :\n",
    "    for i in range(0,n) :\n",
    "      puiss=puiss*2\n",
    "  return puiss\n",
    "\n",
    "nbr=int(input(\"Entrez un nombre:\"))                        # demande d'un nombre à l'utilisateur\n",
    "print(puiss_iter(nbr))"
   ]
  },
  {
   "cell_type": "markdown",
   "id": "c4523dce",
   "metadata": {},
   "source": [
    "2. Implémenter, sur Python, une fonction **`puiss_rec (n)`** permettant de calculer la valeur 2^n par une ***méthode récursive***.\n",
    "\n"
   ]
  },
  {
   "cell_type": "code",
   "execution_count": 5,
   "id": "8b0940df",
   "metadata": {},
   "outputs": [],
   "source": [
    "# Votre réponse ci-dessous : \n",
    "\n",
    "def puiss_rec(n):\n",
    "  if n==0 :\n",
    "    return 1\n",
    "  else :\n",
    "    return (2*puiss_rec(n-1))\n",
    "\n",
    "nbr=int(input(\"Entrez un nombre:\"))                        # demande d'un nombre à l'utilisateur\n",
    "print(puiss_rec(nbr))\n"
   ]
  },
  {
   "cell_type": "markdown",
   "id": "96bdded6",
   "metadata": {},
   "source": [
    "3.\tComparaison des temps d’exécution des algorithmes. \n",
    "\n",
    "En complétant les fonctions définies en 1 et 2, remplir les éléments suivants en indiquant les temps d’exécution de chaque algorithme.\n",
    "\n",
    "Indication pour calculer le temps de calcul d’un programme sous python : \n"
   ]
  },
  {
   "cell_type": "code",
   "execution_count": 6,
   "id": "3f919f9c",
   "metadata": {},
   "outputs": [
    {
     "name": "stdout",
     "output_type": "stream",
     "text": [
      "1.3399999999830214e-05\n"
     ]
    }
   ],
   "source": [
    "from timeit import default_timer as timer\n",
    "from random import randint\n",
    "\n",
    "#……                             # instructions\n",
    "debut=timer()          # déclenchement du chronomètre\n",
    "#…                           # instructions\n",
    "fin=timer()                # arrêt du chronomètre\n",
    "\n",
    "temps=fin-debut      # calcul du temps d’exécution du programme\n",
    "print(temps)             # affichage du résultat\n"
   ]
  },
  {
   "cell_type": "markdown",
   "id": "b7c4ba2a",
   "metadata": {},
   "source": [
    "***Pour n=300 :***\n",
    "\n",
    "Temps d'exécution de la fonction Puiss_iter(n) :  <span style='color:Red'> 0\n",
    "\n",
    "Temps d'exécution de la fonction Puiss_rec(n) :  <span style='color:Red'> 0"
   ]
  },
  {
   "cell_type": "markdown",
   "id": "c052892a",
   "metadata": {},
   "source": [
    "***Pour n=500 :***\n",
    "\n",
    "Temps d'exécution de la fonction Puiss_iter(n) : <span style='color:Red'> 0.0001079\n",
    "\n",
    "Temps d'exécution de la fonction Puiss_rec(n) : <span style='color:Red'> 0.00043809"
   ]
  },
  {
   "cell_type": "markdown",
   "id": "a141b49c",
   "metadata": {},
   "source": [
    "***Pour n=700 :***\n",
    "\n",
    "Temps d'exécution de la fonction Puiss_iter(n) : <span style='color:Red'> 0.0001361\n",
    "\n",
    "Temps d'exécution de la fonction Puiss_rec(n) : <span style='color:Red'> 0.0006408"
   ]
  },
  {
   "cell_type": "markdown",
   "id": "df7b02f6",
   "metadata": {},
   "source": [
    "***Pour n=900 :***\n",
    "\n",
    "Temps d'exécution de la fonction Puiss_iter(n) : <span style='color:Red'> 0.0002241\n",
    "\n",
    "Temps d'exécution de la fonction Puiss_rec(n) : <span style='color:Red'> 0.0009056"
   ]
  },
  {
   "cell_type": "markdown",
   "id": "080a9088",
   "metadata": {},
   "source": [
    "4. Comparer les deux méthodes. Qu’en déduisez-vous ? "
   ]
  },
  {
   "cell_type": "markdown",
   "id": "2577225e",
   "metadata": {},
   "source": [
    "**Votre réponse en dessous :** "
   ]
  },
  {
   "cell_type": "markdown",
   "id": "96d616f2",
   "metadata": {},
   "source": [
    "<span style='color:Red'> La méthode récursive est beaucoup moins efficace en temps que la méthode itérative. Complexité en n pour la méthode itérative Complexité en log(n) pour la méthode récursive\n"
   ]
  },
  {
   "cell_type": "markdown",
   "id": "b29820de",
   "metadata": {},
   "source": [
    "***Exercice 5 : (Double récursivité)***\n",
    "\n",
    "On définit la suite de Fibonacci par :"
   ]
  },
  {
   "cell_type": "markdown",
   "id": "dee27b3d",
   "metadata": {},
   "source": [
    "<img src=\"https://github.com/Lionel-Helin-Oza/TP5.2---Programmation-R-cursive/blob/main/fibo.jpg?raw=true\" width=\"450\">"
   ]
  },
  {
   "cell_type": "markdown",
   "id": "ff8ad106",
   "metadata": {},
   "source": [
    "1. Ecrire une fonction permettant de calculer **`fibonacci(n)`** de manière ***récursive***. Afficher les éléments de la suite. "
   ]
  },
  {
   "cell_type": "code",
   "execution_count": 7,
   "id": "173299b1",
   "metadata": {},
   "outputs": [
    {
     "name": "stdout",
     "output_type": "stream",
     "text": [
      "Entrez un nombre5\n",
      "[0, 1, 1, 2, 3]\n"
     ]
    }
   ],
   "source": [
    "# Votre réponse ci-dessous :\n",
    "\n",
    "suite=[]                                 # initialisation de la suite de Fibonacci – liste vide\n",
    "\n",
    "def fibo_rec(n):\n",
    "    if (n < 2) :\n",
    "        return (n)\n",
    "    else:\n",
    "        return (fibo_rec(n-1)+fibo_rec(n-2))\n",
    "\n",
    "nbr=int(input(\"Entrez un nombre\"))\n",
    "\n",
    "for i in range (0,nbr):\n",
    "    suite.append(fibo_rec(i))                       # création de la suite de Fibonacci\n",
    "\n",
    "print(suite)                                                # affichage de la suite de Fibonacci.\n"
   ]
  },
  {
   "cell_type": "markdown",
   "id": "72e7d9d8",
   "metadata": {},
   "source": [
    "2.\tEcrire cette même fonction de manière ***itérative***. Afficher les éléments de la suite. \n"
   ]
  },
  {
   "cell_type": "code",
   "execution_count": 10,
   "id": "f5e59f5e",
   "metadata": {},
   "outputs": [
    {
     "name": "stdout",
     "output_type": "stream",
     "text": [
      "[0, 1, 1, 2, 3]\n"
     ]
    }
   ],
   "source": [
    "# Votre réponse ci-dessous :\n",
    "\n",
    "def fibo_iter(n):\n",
    "    n1 = 0\n",
    "    n2 = 1\n",
    "    suite=[0,1]               # liste initial comprenant les 2 premiers termes\n",
    "\n",
    "    for i in range(2, n):\n",
    "        valeur = n1 + n2        # calcul du rand n+1\n",
    "        suite.append(valeur)    # inscription de cette valeur dans la liste.\n",
    "\n",
    "        n1 = n2                 # nouvelle valeur de n1 et n2 pour calcul du prochain élément\n",
    "        n2 = valeur\n",
    "    return suite\n",
    "\n",
    "print(fibo_iter(5))"
   ]
  },
  {
   "cell_type": "markdown",
   "id": "5ac88948",
   "metadata": {},
   "source": [
    "3.\tComparer les deux méthodes (Temps de calcul) (question facultative)"
   ]
  },
  {
   "cell_type": "markdown",
   "id": "8d2023fc",
   "metadata": {},
   "source": [
    "***Votre réponse ci-dessous :***"
   ]
  },
  {
   "cell_type": "raw",
   "id": "022c62de",
   "metadata": {},
   "source": []
  },
  {
   "cell_type": "markdown",
   "id": "f7977884",
   "metadata": {},
   "source": [
    "---"
   ]
  },
  {
   "cell_type": "markdown",
   "id": "07c2eee6",
   "metadata": {},
   "source": [
    "### Partie 2 : Algorithmes récursifs sur des caractères\n",
    "\n",
    "\n",
    "Avec des chaînes de caractères, la variable régissant la récursivité sera presque tout le temps implicite plutôt qu'explicite: on raisonnera en général sur la longueur de la chaîne de  caractères, en la décrémentant à chaque étape.\n",
    "\n",
    "Les conditions d'arrêt se feront presque tout le temps sur les chaînes de longueurs nulles ou bien de longueurs 1.\n"
   ]
  },
  {
   "cell_type": "markdown",
   "id": "0b600eae",
   "metadata": {},
   "source": [
    "***Exercice 6 : (Longueur d'une chaîne)***\n",
    "\n",
    "Écrire une fonction **`longueur(chaîne)`** prenant pour paramètre une chaîne de caractère, et retournant la longueur de cette chaîne. Il n'est évidemment pas autorisé d'utilisé la fonction standard len(chaîne). On pourra tester si une chaîne est vide à l'aide de la syntaxe chaîne == \"\"."
   ]
  },
  {
   "cell_type": "code",
   "execution_count": 12,
   "id": "36cfc91a",
   "metadata": {},
   "outputs": [
    {
     "name": "stdout",
     "output_type": "stream",
     "text": [
      "4\n"
     ]
    }
   ],
   "source": [
    "# Votre réponse ci-dessous :\n",
    "\n",
    "def longueur(chaine):\n",
    "  long=0\n",
    "  if type(chaine)==str:\n",
    "    if len(chaine)==1:\n",
    "      return 1\n",
    "    else :\n",
    "      return (1+longueur(chaine[1:]))\n",
    "\n",
    "print(longueur(\"toto\"))"
   ]
  },
  {
   "cell_type": "markdown",
   "id": "fdb852d9",
   "metadata": {},
   "source": [
    "***Exercice 7 : (Détection d’un palindrome)***\n",
    "\n",
    "Un palindrome est un mot (de la langue française ou pas) qui peut se lire indifféremment de gauche à droite ou de droite à gauche en gardant la même signification. \n",
    "\n",
    "Alternativement, un palindrome est un mot qui est identique à son retournement.\n",
    "\n",
    "Par exemple, LAVAL est un palindrome. Tout comme OXYZYXO (même s'il n'a aucun sens en français et n'existe probablement dans aucune langue humaine).\n",
    "\n",
    "Par convention, un mot vide sera considéré comme un palindrome. Un mot d’une lettre est un palindrome d'après la définition précédente.\n",
    "\n",
    "- Écrire une fonction **`palindrome(mot)`** renvoyant True si mot est un palindrome, False sinon. \n",
    "\n",
    "On s'interdira d'utiliser la fonction native retourne(chaîne), ou tout autre moyen permettant de retourner une chaîne de caractère pour la comparer à l'originale: votre algorithme doit être spécifiquement écrit pour tester la \"palindromitude\" du mot.\n",
    "\n"
   ]
  },
  {
   "cell_type": "code",
   "execution_count": 11,
   "id": "fd64e0a9",
   "metadata": {},
   "outputs": [
    {
     "name": "stdout",
     "output_type": "stream",
     "text": [
      "False\n"
     ]
    }
   ],
   "source": [
    "# Votre réponse ci-dessous :\n",
    "\n",
    "def palindrome(mot):\n",
    "  if type(mot) is str:\n",
    "    if len(mot)==1:\n",
    "      return True\n",
    "    else :\n",
    "      if mot[0]==mot[-1] :\n",
    "        return palindrome(mot[1:-1])\n",
    "      else :\n",
    "        return False\n",
    "\n",
    "print(palindrome(\"toto\"))\n",
    "\n"
   ]
  },
  {
   "cell_type": "markdown",
   "id": "78fbcd55",
   "metadata": {},
   "source": [
    "---"
   ]
  },
  {
   "cell_type": "markdown",
   "id": "cc609ea6",
   "metadata": {},
   "source": [
    "## Pour aller plus loin - Arbre de Pythagore"
   ]
  },
  {
   "cell_type": "markdown",
   "id": "c7c43f25",
   "metadata": {},
   "source": [
    "Présentation de l’arbre de Pythagore - L’idée est de tracer un arbre de la manière suivante : \n",
    "\n",
    "A la fin d’une branche d’une **`longueur`** L, on trace deux branches de longueur L/3, inclinées d’un angle α. \n",
    "\n",
    "L’opération est réalisée **`n`** fois, **`n`** étant un paramètre que l’utilisateur peut choisir. \n",
    "\n",
    "L’angle α pourra être fixé par vos soins ( sur la figure suivante, α = 30°, et n=11). \n",
    "\n",
    "Le raisonnement est bien ici récursif, et l’on créera une fonction **`arbre(n, longueur)`**.\n",
    "\n"
   ]
  },
  {
   "cell_type": "markdown",
   "id": "b66e919b",
   "metadata": {},
   "source": [
    "<img src=\"https://github.com/Lionel-Helin-Oza/TP5.2---Programmation-R-cursive/blob/main/arbre.png?raw=true\" width=\"450\">"
   ]
  },
  {
   "cell_type": "markdown",
   "id": "35f102de",
   "metadata": {},
   "source": [
    "Pour tracer cet arbre, vous utiliserez la bibliothèque Turtle de python. \n",
    "\n",
    "Instruction à placer au début du programme :\n",
    "\n",
    "**`from turtle import *`**\n",
    "\n",
    "Le dernier tracé de la fractale s’effectuera en couleur verte (‘green’). Les précédentes en marron.\n",
    "\n",
    "L’épaisseur du trait sera de plus en plus réduite : width(n)\n"
   ]
  },
  {
   "cell_type": "markdown",
   "id": "64949d24",
   "metadata": {},
   "source": [
    "#### Ressources : présentation du module Turtle et des commandes associées :\n",
    "Ce module permet de faire déplacer un curseur qui s’apparente à une tortue sur l’écran. Il existe toute une série de commandes qui permet de donner des ordres à cette tortue. En voici une liste de commande exhaustive :\n"
   ]
  },
  {
   "cell_type": "markdown",
   "id": "62609d13",
   "metadata": {},
   "source": [
    "**reset()** \t: remise à zéro\n",
    "\n",
    "**forward(…)** \t: avance la tortue\n",
    "\n",
    "**backward(…)**\t: recule la tortue\n",
    "\n",
    "**right(…)** \t: fait pivoter la tortue vers la droite\n",
    "\n",
    "**left(…)** \t: fait pivoter la tortue vers la gauche\n",
    "\n",
    "**up()** \t    : arrête d’écrire sur l’écran\n",
    "\n",
    "**down()** \t    : recommence à écrire sur l’écran\n",
    "\n",
    "**goto(x,y)** \t: emmène la tortue à la coordonnée (x,y)\n",
    "\n",
    "**width(…)**\t: change l’épaisseur du trait de crayon\n",
    "\n",
    "**color(…)** \t: change la couleur d’écriture\n",
    "\n",
    "**position(…)**\t: renvoie les coordonnées de la tortue\n",
    "\n",
    "Les valeurs à placer dans ces fonctions sont en pixels. \n"
   ]
  },
  {
   "cell_type": "code",
   "execution_count": 16,
   "id": "99a0d30c",
   "metadata": {},
   "outputs": [
    {
     "ename": "Terminator",
     "evalue": "",
     "output_type": "error",
     "traceback": [
      "\u001b[1;31m---------------------------------------------------------------------------\u001b[0m",
      "\u001b[1;31mTerminator\u001b[0m                                Traceback (most recent call last)",
      "\u001b[1;32m~\\AppData\\Local\\Temp/ipykernel_11216/211171585.py\u001b[0m in \u001b[0;36m<module>\u001b[1;34m\u001b[0m\n\u001b[0;32m     30\u001b[0m \u001b[0mdown\u001b[0m\u001b[1;33m(\u001b[0m\u001b[1;33m)\u001b[0m \u001b[1;31m# pose le stylo\u001b[0m\u001b[1;33m\u001b[0m\u001b[1;33m\u001b[0m\u001b[0m\n\u001b[0;32m     31\u001b[0m \u001b[1;33m\u001b[0m\u001b[0m\n\u001b[1;32m---> 32\u001b[1;33m \u001b[0marbre\u001b[0m\u001b[1;33m(\u001b[0m\u001b[1;36m11\u001b[0m\u001b[1;33m,\u001b[0m\u001b[1;36m700\u001b[0m\u001b[1;33m)\u001b[0m \u001b[1;31m# exécute la macro avec n=11\u001b[0m\u001b[1;33m\u001b[0m\u001b[1;33m\u001b[0m\u001b[0m\n\u001b[0m\u001b[0;32m     33\u001b[0m \u001b[0mshowturtle\u001b[0m\u001b[1;33m(\u001b[0m\u001b[1;33m)\u001b[0m \u001b[1;31m# affiche la tortue\u001b[0m\u001b[1;33m\u001b[0m\u001b[1;33m\u001b[0m\u001b[0m\n\u001b[0;32m     34\u001b[0m \u001b[1;33m\u001b[0m\u001b[0m\n",
      "\u001b[1;32m~\\AppData\\Local\\Temp/ipykernel_11216/211171585.py\u001b[0m in \u001b[0;36marbre\u001b[1;34m(n, longueur)\u001b[0m\n\u001b[0;32m     15\u001b[0m         \u001b[0mforward\u001b[0m\u001b[1;33m(\u001b[0m\u001b[0mlongueur\u001b[0m\u001b[1;33m/\u001b[0m\u001b[1;36m3\u001b[0m\u001b[1;33m)\u001b[0m                             \u001b[1;31m#avance\u001b[0m\u001b[1;33m\u001b[0m\u001b[1;33m\u001b[0m\u001b[0m\n\u001b[0;32m     16\u001b[0m         \u001b[0mleft\u001b[0m\u001b[1;33m(\u001b[0m\u001b[0mangle\u001b[0m\u001b[1;33m)\u001b[0m                                                \u001b[1;31m# tourne vers la gauche de angle degrés\u001b[0m\u001b[1;33m\u001b[0m\u001b[1;33m\u001b[0m\u001b[0m\n\u001b[1;32m---> 17\u001b[1;33m         \u001b[0marbre\u001b[0m\u001b[1;33m(\u001b[0m\u001b[0mn\u001b[0m\u001b[1;33m-\u001b[0m\u001b[1;36m1\u001b[0m\u001b[1;33m,\u001b[0m\u001b[0mlongueur\u001b[0m\u001b[1;33m*\u001b[0m\u001b[1;36m2\u001b[0m\u001b[1;33m/\u001b[0m\u001b[1;36m3\u001b[0m\u001b[1;33m)\u001b[0m\u001b[1;33m\u001b[0m\u001b[1;33m\u001b[0m\u001b[0m\n\u001b[0m\u001b[0;32m     18\u001b[0m         \u001b[0mright\u001b[0m\u001b[1;33m(\u001b[0m\u001b[1;36m2\u001b[0m\u001b[1;33m*\u001b[0m\u001b[0mangle\u001b[0m\u001b[1;33m)\u001b[0m                                         \u001b[1;31m# tourne vers la droite de angle degrés\u001b[0m\u001b[1;33m\u001b[0m\u001b[1;33m\u001b[0m\u001b[0m\n\u001b[0;32m     19\u001b[0m         \u001b[0marbre\u001b[0m\u001b[1;33m(\u001b[0m\u001b[0mn\u001b[0m\u001b[1;33m-\u001b[0m\u001b[1;36m1\u001b[0m\u001b[1;33m,\u001b[0m\u001b[0mlongueur\u001b[0m\u001b[1;33m*\u001b[0m\u001b[1;36m2\u001b[0m\u001b[1;33m/\u001b[0m\u001b[1;36m3\u001b[0m\u001b[1;33m)\u001b[0m\u001b[1;33m\u001b[0m\u001b[1;33m\u001b[0m\u001b[0m\n",
      "\u001b[1;32m~\\AppData\\Local\\Temp/ipykernel_11216/211171585.py\u001b[0m in \u001b[0;36marbre\u001b[1;34m(n, longueur)\u001b[0m\n\u001b[0;32m     15\u001b[0m         \u001b[0mforward\u001b[0m\u001b[1;33m(\u001b[0m\u001b[0mlongueur\u001b[0m\u001b[1;33m/\u001b[0m\u001b[1;36m3\u001b[0m\u001b[1;33m)\u001b[0m                             \u001b[1;31m#avance\u001b[0m\u001b[1;33m\u001b[0m\u001b[1;33m\u001b[0m\u001b[0m\n\u001b[0;32m     16\u001b[0m         \u001b[0mleft\u001b[0m\u001b[1;33m(\u001b[0m\u001b[0mangle\u001b[0m\u001b[1;33m)\u001b[0m                                                \u001b[1;31m# tourne vers la gauche de angle degrés\u001b[0m\u001b[1;33m\u001b[0m\u001b[1;33m\u001b[0m\u001b[0m\n\u001b[1;32m---> 17\u001b[1;33m         \u001b[0marbre\u001b[0m\u001b[1;33m(\u001b[0m\u001b[0mn\u001b[0m\u001b[1;33m-\u001b[0m\u001b[1;36m1\u001b[0m\u001b[1;33m,\u001b[0m\u001b[0mlongueur\u001b[0m\u001b[1;33m*\u001b[0m\u001b[1;36m2\u001b[0m\u001b[1;33m/\u001b[0m\u001b[1;36m3\u001b[0m\u001b[1;33m)\u001b[0m\u001b[1;33m\u001b[0m\u001b[1;33m\u001b[0m\u001b[0m\n\u001b[0m\u001b[0;32m     18\u001b[0m         \u001b[0mright\u001b[0m\u001b[1;33m(\u001b[0m\u001b[1;36m2\u001b[0m\u001b[1;33m*\u001b[0m\u001b[0mangle\u001b[0m\u001b[1;33m)\u001b[0m                                         \u001b[1;31m# tourne vers la droite de angle degrés\u001b[0m\u001b[1;33m\u001b[0m\u001b[1;33m\u001b[0m\u001b[0m\n\u001b[0;32m     19\u001b[0m         \u001b[0marbre\u001b[0m\u001b[1;33m(\u001b[0m\u001b[0mn\u001b[0m\u001b[1;33m-\u001b[0m\u001b[1;36m1\u001b[0m\u001b[1;33m,\u001b[0m\u001b[0mlongueur\u001b[0m\u001b[1;33m*\u001b[0m\u001b[1;36m2\u001b[0m\u001b[1;33m/\u001b[0m\u001b[1;36m3\u001b[0m\u001b[1;33m)\u001b[0m\u001b[1;33m\u001b[0m\u001b[1;33m\u001b[0m\u001b[0m\n",
      "\u001b[1;32m~\\AppData\\Local\\Temp/ipykernel_11216/211171585.py\u001b[0m in \u001b[0;36marbre\u001b[1;34m(n, longueur)\u001b[0m\n\u001b[0;32m     15\u001b[0m         \u001b[0mforward\u001b[0m\u001b[1;33m(\u001b[0m\u001b[0mlongueur\u001b[0m\u001b[1;33m/\u001b[0m\u001b[1;36m3\u001b[0m\u001b[1;33m)\u001b[0m                             \u001b[1;31m#avance\u001b[0m\u001b[1;33m\u001b[0m\u001b[1;33m\u001b[0m\u001b[0m\n\u001b[0;32m     16\u001b[0m         \u001b[0mleft\u001b[0m\u001b[1;33m(\u001b[0m\u001b[0mangle\u001b[0m\u001b[1;33m)\u001b[0m                                                \u001b[1;31m# tourne vers la gauche de angle degrés\u001b[0m\u001b[1;33m\u001b[0m\u001b[1;33m\u001b[0m\u001b[0m\n\u001b[1;32m---> 17\u001b[1;33m         \u001b[0marbre\u001b[0m\u001b[1;33m(\u001b[0m\u001b[0mn\u001b[0m\u001b[1;33m-\u001b[0m\u001b[1;36m1\u001b[0m\u001b[1;33m,\u001b[0m\u001b[0mlongueur\u001b[0m\u001b[1;33m*\u001b[0m\u001b[1;36m2\u001b[0m\u001b[1;33m/\u001b[0m\u001b[1;36m3\u001b[0m\u001b[1;33m)\u001b[0m\u001b[1;33m\u001b[0m\u001b[1;33m\u001b[0m\u001b[0m\n\u001b[0m\u001b[0;32m     18\u001b[0m         \u001b[0mright\u001b[0m\u001b[1;33m(\u001b[0m\u001b[1;36m2\u001b[0m\u001b[1;33m*\u001b[0m\u001b[0mangle\u001b[0m\u001b[1;33m)\u001b[0m                                         \u001b[1;31m# tourne vers la droite de angle degrés\u001b[0m\u001b[1;33m\u001b[0m\u001b[1;33m\u001b[0m\u001b[0m\n\u001b[0;32m     19\u001b[0m         \u001b[0marbre\u001b[0m\u001b[1;33m(\u001b[0m\u001b[0mn\u001b[0m\u001b[1;33m-\u001b[0m\u001b[1;36m1\u001b[0m\u001b[1;33m,\u001b[0m\u001b[0mlongueur\u001b[0m\u001b[1;33m*\u001b[0m\u001b[1;36m2\u001b[0m\u001b[1;33m/\u001b[0m\u001b[1;36m3\u001b[0m\u001b[1;33m)\u001b[0m\u001b[1;33m\u001b[0m\u001b[1;33m\u001b[0m\u001b[0m\n",
      "\u001b[1;32m~\\AppData\\Local\\Temp/ipykernel_11216/211171585.py\u001b[0m in \u001b[0;36marbre\u001b[1;34m(n, longueur)\u001b[0m\n\u001b[0;32m     15\u001b[0m         \u001b[0mforward\u001b[0m\u001b[1;33m(\u001b[0m\u001b[0mlongueur\u001b[0m\u001b[1;33m/\u001b[0m\u001b[1;36m3\u001b[0m\u001b[1;33m)\u001b[0m                             \u001b[1;31m#avance\u001b[0m\u001b[1;33m\u001b[0m\u001b[1;33m\u001b[0m\u001b[0m\n\u001b[0;32m     16\u001b[0m         \u001b[0mleft\u001b[0m\u001b[1;33m(\u001b[0m\u001b[0mangle\u001b[0m\u001b[1;33m)\u001b[0m                                                \u001b[1;31m# tourne vers la gauche de angle degrés\u001b[0m\u001b[1;33m\u001b[0m\u001b[1;33m\u001b[0m\u001b[0m\n\u001b[1;32m---> 17\u001b[1;33m         \u001b[0marbre\u001b[0m\u001b[1;33m(\u001b[0m\u001b[0mn\u001b[0m\u001b[1;33m-\u001b[0m\u001b[1;36m1\u001b[0m\u001b[1;33m,\u001b[0m\u001b[0mlongueur\u001b[0m\u001b[1;33m*\u001b[0m\u001b[1;36m2\u001b[0m\u001b[1;33m/\u001b[0m\u001b[1;36m3\u001b[0m\u001b[1;33m)\u001b[0m\u001b[1;33m\u001b[0m\u001b[1;33m\u001b[0m\u001b[0m\n\u001b[0m\u001b[0;32m     18\u001b[0m         \u001b[0mright\u001b[0m\u001b[1;33m(\u001b[0m\u001b[1;36m2\u001b[0m\u001b[1;33m*\u001b[0m\u001b[0mangle\u001b[0m\u001b[1;33m)\u001b[0m                                         \u001b[1;31m# tourne vers la droite de angle degrés\u001b[0m\u001b[1;33m\u001b[0m\u001b[1;33m\u001b[0m\u001b[0m\n\u001b[0;32m     19\u001b[0m         \u001b[0marbre\u001b[0m\u001b[1;33m(\u001b[0m\u001b[0mn\u001b[0m\u001b[1;33m-\u001b[0m\u001b[1;36m1\u001b[0m\u001b[1;33m,\u001b[0m\u001b[0mlongueur\u001b[0m\u001b[1;33m*\u001b[0m\u001b[1;36m2\u001b[0m\u001b[1;33m/\u001b[0m\u001b[1;36m3\u001b[0m\u001b[1;33m)\u001b[0m\u001b[1;33m\u001b[0m\u001b[1;33m\u001b[0m\u001b[0m\n",
      "\u001b[1;32m~\\AppData\\Local\\Temp/ipykernel_11216/211171585.py\u001b[0m in \u001b[0;36marbre\u001b[1;34m(n, longueur)\u001b[0m\n\u001b[0;32m     15\u001b[0m         \u001b[0mforward\u001b[0m\u001b[1;33m(\u001b[0m\u001b[0mlongueur\u001b[0m\u001b[1;33m/\u001b[0m\u001b[1;36m3\u001b[0m\u001b[1;33m)\u001b[0m                             \u001b[1;31m#avance\u001b[0m\u001b[1;33m\u001b[0m\u001b[1;33m\u001b[0m\u001b[0m\n\u001b[0;32m     16\u001b[0m         \u001b[0mleft\u001b[0m\u001b[1;33m(\u001b[0m\u001b[0mangle\u001b[0m\u001b[1;33m)\u001b[0m                                                \u001b[1;31m# tourne vers la gauche de angle degrés\u001b[0m\u001b[1;33m\u001b[0m\u001b[1;33m\u001b[0m\u001b[0m\n\u001b[1;32m---> 17\u001b[1;33m         \u001b[0marbre\u001b[0m\u001b[1;33m(\u001b[0m\u001b[0mn\u001b[0m\u001b[1;33m-\u001b[0m\u001b[1;36m1\u001b[0m\u001b[1;33m,\u001b[0m\u001b[0mlongueur\u001b[0m\u001b[1;33m*\u001b[0m\u001b[1;36m2\u001b[0m\u001b[1;33m/\u001b[0m\u001b[1;36m3\u001b[0m\u001b[1;33m)\u001b[0m\u001b[1;33m\u001b[0m\u001b[1;33m\u001b[0m\u001b[0m\n\u001b[0m\u001b[0;32m     18\u001b[0m         \u001b[0mright\u001b[0m\u001b[1;33m(\u001b[0m\u001b[1;36m2\u001b[0m\u001b[1;33m*\u001b[0m\u001b[0mangle\u001b[0m\u001b[1;33m)\u001b[0m                                         \u001b[1;31m# tourne vers la droite de angle degrés\u001b[0m\u001b[1;33m\u001b[0m\u001b[1;33m\u001b[0m\u001b[0m\n\u001b[0;32m     19\u001b[0m         \u001b[0marbre\u001b[0m\u001b[1;33m(\u001b[0m\u001b[0mn\u001b[0m\u001b[1;33m-\u001b[0m\u001b[1;36m1\u001b[0m\u001b[1;33m,\u001b[0m\u001b[0mlongueur\u001b[0m\u001b[1;33m*\u001b[0m\u001b[1;36m2\u001b[0m\u001b[1;33m/\u001b[0m\u001b[1;36m3\u001b[0m\u001b[1;33m)\u001b[0m\u001b[1;33m\u001b[0m\u001b[1;33m\u001b[0m\u001b[0m\n",
      "\u001b[1;32m~\\AppData\\Local\\Temp/ipykernel_11216/211171585.py\u001b[0m in \u001b[0;36marbre\u001b[1;34m(n, longueur)\u001b[0m\n\u001b[0;32m     15\u001b[0m         \u001b[0mforward\u001b[0m\u001b[1;33m(\u001b[0m\u001b[0mlongueur\u001b[0m\u001b[1;33m/\u001b[0m\u001b[1;36m3\u001b[0m\u001b[1;33m)\u001b[0m                             \u001b[1;31m#avance\u001b[0m\u001b[1;33m\u001b[0m\u001b[1;33m\u001b[0m\u001b[0m\n\u001b[0;32m     16\u001b[0m         \u001b[0mleft\u001b[0m\u001b[1;33m(\u001b[0m\u001b[0mangle\u001b[0m\u001b[1;33m)\u001b[0m                                                \u001b[1;31m# tourne vers la gauche de angle degrés\u001b[0m\u001b[1;33m\u001b[0m\u001b[1;33m\u001b[0m\u001b[0m\n\u001b[1;32m---> 17\u001b[1;33m         \u001b[0marbre\u001b[0m\u001b[1;33m(\u001b[0m\u001b[0mn\u001b[0m\u001b[1;33m-\u001b[0m\u001b[1;36m1\u001b[0m\u001b[1;33m,\u001b[0m\u001b[0mlongueur\u001b[0m\u001b[1;33m*\u001b[0m\u001b[1;36m2\u001b[0m\u001b[1;33m/\u001b[0m\u001b[1;36m3\u001b[0m\u001b[1;33m)\u001b[0m\u001b[1;33m\u001b[0m\u001b[1;33m\u001b[0m\u001b[0m\n\u001b[0m\u001b[0;32m     18\u001b[0m         \u001b[0mright\u001b[0m\u001b[1;33m(\u001b[0m\u001b[1;36m2\u001b[0m\u001b[1;33m*\u001b[0m\u001b[0mangle\u001b[0m\u001b[1;33m)\u001b[0m                                         \u001b[1;31m# tourne vers la droite de angle degrés\u001b[0m\u001b[1;33m\u001b[0m\u001b[1;33m\u001b[0m\u001b[0m\n\u001b[0;32m     19\u001b[0m         \u001b[0marbre\u001b[0m\u001b[1;33m(\u001b[0m\u001b[0mn\u001b[0m\u001b[1;33m-\u001b[0m\u001b[1;36m1\u001b[0m\u001b[1;33m,\u001b[0m\u001b[0mlongueur\u001b[0m\u001b[1;33m*\u001b[0m\u001b[1;36m2\u001b[0m\u001b[1;33m/\u001b[0m\u001b[1;36m3\u001b[0m\u001b[1;33m)\u001b[0m\u001b[1;33m\u001b[0m\u001b[1;33m\u001b[0m\u001b[0m\n",
      "\u001b[1;32m~\\AppData\\Local\\Temp/ipykernel_11216/211171585.py\u001b[0m in \u001b[0;36marbre\u001b[1;34m(n, longueur)\u001b[0m\n\u001b[0;32m     15\u001b[0m         \u001b[0mforward\u001b[0m\u001b[1;33m(\u001b[0m\u001b[0mlongueur\u001b[0m\u001b[1;33m/\u001b[0m\u001b[1;36m3\u001b[0m\u001b[1;33m)\u001b[0m                             \u001b[1;31m#avance\u001b[0m\u001b[1;33m\u001b[0m\u001b[1;33m\u001b[0m\u001b[0m\n\u001b[0;32m     16\u001b[0m         \u001b[0mleft\u001b[0m\u001b[1;33m(\u001b[0m\u001b[0mangle\u001b[0m\u001b[1;33m)\u001b[0m                                                \u001b[1;31m# tourne vers la gauche de angle degrés\u001b[0m\u001b[1;33m\u001b[0m\u001b[1;33m\u001b[0m\u001b[0m\n\u001b[1;32m---> 17\u001b[1;33m         \u001b[0marbre\u001b[0m\u001b[1;33m(\u001b[0m\u001b[0mn\u001b[0m\u001b[1;33m-\u001b[0m\u001b[1;36m1\u001b[0m\u001b[1;33m,\u001b[0m\u001b[0mlongueur\u001b[0m\u001b[1;33m*\u001b[0m\u001b[1;36m2\u001b[0m\u001b[1;33m/\u001b[0m\u001b[1;36m3\u001b[0m\u001b[1;33m)\u001b[0m\u001b[1;33m\u001b[0m\u001b[1;33m\u001b[0m\u001b[0m\n\u001b[0m\u001b[0;32m     18\u001b[0m         \u001b[0mright\u001b[0m\u001b[1;33m(\u001b[0m\u001b[1;36m2\u001b[0m\u001b[1;33m*\u001b[0m\u001b[0mangle\u001b[0m\u001b[1;33m)\u001b[0m                                         \u001b[1;31m# tourne vers la droite de angle degrés\u001b[0m\u001b[1;33m\u001b[0m\u001b[1;33m\u001b[0m\u001b[0m\n\u001b[0;32m     19\u001b[0m         \u001b[0marbre\u001b[0m\u001b[1;33m(\u001b[0m\u001b[0mn\u001b[0m\u001b[1;33m-\u001b[0m\u001b[1;36m1\u001b[0m\u001b[1;33m,\u001b[0m\u001b[0mlongueur\u001b[0m\u001b[1;33m*\u001b[0m\u001b[1;36m2\u001b[0m\u001b[1;33m/\u001b[0m\u001b[1;36m3\u001b[0m\u001b[1;33m)\u001b[0m\u001b[1;33m\u001b[0m\u001b[1;33m\u001b[0m\u001b[0m\n",
      "\u001b[1;32m~\\AppData\\Local\\Temp/ipykernel_11216/211171585.py\u001b[0m in \u001b[0;36marbre\u001b[1;34m(n, longueur)\u001b[0m\n\u001b[0;32m     15\u001b[0m         \u001b[0mforward\u001b[0m\u001b[1;33m(\u001b[0m\u001b[0mlongueur\u001b[0m\u001b[1;33m/\u001b[0m\u001b[1;36m3\u001b[0m\u001b[1;33m)\u001b[0m                             \u001b[1;31m#avance\u001b[0m\u001b[1;33m\u001b[0m\u001b[1;33m\u001b[0m\u001b[0m\n\u001b[0;32m     16\u001b[0m         \u001b[0mleft\u001b[0m\u001b[1;33m(\u001b[0m\u001b[0mangle\u001b[0m\u001b[1;33m)\u001b[0m                                                \u001b[1;31m# tourne vers la gauche de angle degrés\u001b[0m\u001b[1;33m\u001b[0m\u001b[1;33m\u001b[0m\u001b[0m\n\u001b[1;32m---> 17\u001b[1;33m         \u001b[0marbre\u001b[0m\u001b[1;33m(\u001b[0m\u001b[0mn\u001b[0m\u001b[1;33m-\u001b[0m\u001b[1;36m1\u001b[0m\u001b[1;33m,\u001b[0m\u001b[0mlongueur\u001b[0m\u001b[1;33m*\u001b[0m\u001b[1;36m2\u001b[0m\u001b[1;33m/\u001b[0m\u001b[1;36m3\u001b[0m\u001b[1;33m)\u001b[0m\u001b[1;33m\u001b[0m\u001b[1;33m\u001b[0m\u001b[0m\n\u001b[0m\u001b[0;32m     18\u001b[0m         \u001b[0mright\u001b[0m\u001b[1;33m(\u001b[0m\u001b[1;36m2\u001b[0m\u001b[1;33m*\u001b[0m\u001b[0mangle\u001b[0m\u001b[1;33m)\u001b[0m                                         \u001b[1;31m# tourne vers la droite de angle degrés\u001b[0m\u001b[1;33m\u001b[0m\u001b[1;33m\u001b[0m\u001b[0m\n\u001b[0;32m     19\u001b[0m         \u001b[0marbre\u001b[0m\u001b[1;33m(\u001b[0m\u001b[0mn\u001b[0m\u001b[1;33m-\u001b[0m\u001b[1;36m1\u001b[0m\u001b[1;33m,\u001b[0m\u001b[0mlongueur\u001b[0m\u001b[1;33m*\u001b[0m\u001b[1;36m2\u001b[0m\u001b[1;33m/\u001b[0m\u001b[1;36m3\u001b[0m\u001b[1;33m)\u001b[0m\u001b[1;33m\u001b[0m\u001b[1;33m\u001b[0m\u001b[0m\n",
      "\u001b[1;32m~\\AppData\\Local\\Temp/ipykernel_11216/211171585.py\u001b[0m in \u001b[0;36marbre\u001b[1;34m(n, longueur)\u001b[0m\n\u001b[0;32m     17\u001b[0m         \u001b[0marbre\u001b[0m\u001b[1;33m(\u001b[0m\u001b[0mn\u001b[0m\u001b[1;33m-\u001b[0m\u001b[1;36m1\u001b[0m\u001b[1;33m,\u001b[0m\u001b[0mlongueur\u001b[0m\u001b[1;33m*\u001b[0m\u001b[1;36m2\u001b[0m\u001b[1;33m/\u001b[0m\u001b[1;36m3\u001b[0m\u001b[1;33m)\u001b[0m\u001b[1;33m\u001b[0m\u001b[1;33m\u001b[0m\u001b[0m\n\u001b[0;32m     18\u001b[0m         \u001b[0mright\u001b[0m\u001b[1;33m(\u001b[0m\u001b[1;36m2\u001b[0m\u001b[1;33m*\u001b[0m\u001b[0mangle\u001b[0m\u001b[1;33m)\u001b[0m                                         \u001b[1;31m# tourne vers la droite de angle degrés\u001b[0m\u001b[1;33m\u001b[0m\u001b[1;33m\u001b[0m\u001b[0m\n\u001b[1;32m---> 19\u001b[1;33m         \u001b[0marbre\u001b[0m\u001b[1;33m(\u001b[0m\u001b[0mn\u001b[0m\u001b[1;33m-\u001b[0m\u001b[1;36m1\u001b[0m\u001b[1;33m,\u001b[0m\u001b[0mlongueur\u001b[0m\u001b[1;33m*\u001b[0m\u001b[1;36m2\u001b[0m\u001b[1;33m/\u001b[0m\u001b[1;36m3\u001b[0m\u001b[1;33m)\u001b[0m\u001b[1;33m\u001b[0m\u001b[1;33m\u001b[0m\u001b[0m\n\u001b[0m\u001b[0;32m     20\u001b[0m         \u001b[0mleft\u001b[0m\u001b[1;33m(\u001b[0m\u001b[0mangle\u001b[0m\u001b[1;33m)\u001b[0m                                               \u001b[1;31m# tourne vers la gauche de angle degrés\u001b[0m\u001b[1;33m\u001b[0m\u001b[1;33m\u001b[0m\u001b[0m\n\u001b[0;32m     21\u001b[0m         \u001b[0mbackward\u001b[0m\u001b[1;33m(\u001b[0m\u001b[0mlongueur\u001b[0m\u001b[1;33m/\u001b[0m\u001b[1;36m3\u001b[0m\u001b[1;33m)\u001b[0m                         \u001b[1;31m# recule\u001b[0m\u001b[1;33m\u001b[0m\u001b[1;33m\u001b[0m\u001b[0m\n",
      "\u001b[1;32m~\\AppData\\Local\\Temp/ipykernel_11216/211171585.py\u001b[0m in \u001b[0;36marbre\u001b[1;34m(n, longueur)\u001b[0m\n\u001b[0;32m     17\u001b[0m         \u001b[0marbre\u001b[0m\u001b[1;33m(\u001b[0m\u001b[0mn\u001b[0m\u001b[1;33m-\u001b[0m\u001b[1;36m1\u001b[0m\u001b[1;33m,\u001b[0m\u001b[0mlongueur\u001b[0m\u001b[1;33m*\u001b[0m\u001b[1;36m2\u001b[0m\u001b[1;33m/\u001b[0m\u001b[1;36m3\u001b[0m\u001b[1;33m)\u001b[0m\u001b[1;33m\u001b[0m\u001b[1;33m\u001b[0m\u001b[0m\n\u001b[0;32m     18\u001b[0m         \u001b[0mright\u001b[0m\u001b[1;33m(\u001b[0m\u001b[1;36m2\u001b[0m\u001b[1;33m*\u001b[0m\u001b[0mangle\u001b[0m\u001b[1;33m)\u001b[0m                                         \u001b[1;31m# tourne vers la droite de angle degrés\u001b[0m\u001b[1;33m\u001b[0m\u001b[1;33m\u001b[0m\u001b[0m\n\u001b[1;32m---> 19\u001b[1;33m         \u001b[0marbre\u001b[0m\u001b[1;33m(\u001b[0m\u001b[0mn\u001b[0m\u001b[1;33m-\u001b[0m\u001b[1;36m1\u001b[0m\u001b[1;33m,\u001b[0m\u001b[0mlongueur\u001b[0m\u001b[1;33m*\u001b[0m\u001b[1;36m2\u001b[0m\u001b[1;33m/\u001b[0m\u001b[1;36m3\u001b[0m\u001b[1;33m)\u001b[0m\u001b[1;33m\u001b[0m\u001b[1;33m\u001b[0m\u001b[0m\n\u001b[0m\u001b[0;32m     20\u001b[0m         \u001b[0mleft\u001b[0m\u001b[1;33m(\u001b[0m\u001b[0mangle\u001b[0m\u001b[1;33m)\u001b[0m                                               \u001b[1;31m# tourne vers la gauche de angle degrés\u001b[0m\u001b[1;33m\u001b[0m\u001b[1;33m\u001b[0m\u001b[0m\n\u001b[0;32m     21\u001b[0m         \u001b[0mbackward\u001b[0m\u001b[1;33m(\u001b[0m\u001b[0mlongueur\u001b[0m\u001b[1;33m/\u001b[0m\u001b[1;36m3\u001b[0m\u001b[1;33m)\u001b[0m                         \u001b[1;31m# recule\u001b[0m\u001b[1;33m\u001b[0m\u001b[1;33m\u001b[0m\u001b[0m\n",
      "\u001b[1;32m~\\AppData\\Local\\Temp/ipykernel_11216/211171585.py\u001b[0m in \u001b[0;36marbre\u001b[1;34m(n, longueur)\u001b[0m\n\u001b[0;32m     15\u001b[0m         \u001b[0mforward\u001b[0m\u001b[1;33m(\u001b[0m\u001b[0mlongueur\u001b[0m\u001b[1;33m/\u001b[0m\u001b[1;36m3\u001b[0m\u001b[1;33m)\u001b[0m                             \u001b[1;31m#avance\u001b[0m\u001b[1;33m\u001b[0m\u001b[1;33m\u001b[0m\u001b[0m\n\u001b[0;32m     16\u001b[0m         \u001b[0mleft\u001b[0m\u001b[1;33m(\u001b[0m\u001b[0mangle\u001b[0m\u001b[1;33m)\u001b[0m                                                \u001b[1;31m# tourne vers la gauche de angle degrés\u001b[0m\u001b[1;33m\u001b[0m\u001b[1;33m\u001b[0m\u001b[0m\n\u001b[1;32m---> 17\u001b[1;33m         \u001b[0marbre\u001b[0m\u001b[1;33m(\u001b[0m\u001b[0mn\u001b[0m\u001b[1;33m-\u001b[0m\u001b[1;36m1\u001b[0m\u001b[1;33m,\u001b[0m\u001b[0mlongueur\u001b[0m\u001b[1;33m*\u001b[0m\u001b[1;36m2\u001b[0m\u001b[1;33m/\u001b[0m\u001b[1;36m3\u001b[0m\u001b[1;33m)\u001b[0m\u001b[1;33m\u001b[0m\u001b[1;33m\u001b[0m\u001b[0m\n\u001b[0m\u001b[0;32m     18\u001b[0m         \u001b[0mright\u001b[0m\u001b[1;33m(\u001b[0m\u001b[1;36m2\u001b[0m\u001b[1;33m*\u001b[0m\u001b[0mangle\u001b[0m\u001b[1;33m)\u001b[0m                                         \u001b[1;31m# tourne vers la droite de angle degrés\u001b[0m\u001b[1;33m\u001b[0m\u001b[1;33m\u001b[0m\u001b[0m\n\u001b[0;32m     19\u001b[0m         \u001b[0marbre\u001b[0m\u001b[1;33m(\u001b[0m\u001b[0mn\u001b[0m\u001b[1;33m-\u001b[0m\u001b[1;36m1\u001b[0m\u001b[1;33m,\u001b[0m\u001b[0mlongueur\u001b[0m\u001b[1;33m*\u001b[0m\u001b[1;36m2\u001b[0m\u001b[1;33m/\u001b[0m\u001b[1;36m3\u001b[0m\u001b[1;33m)\u001b[0m\u001b[1;33m\u001b[0m\u001b[1;33m\u001b[0m\u001b[0m\n",
      "\u001b[1;32m~\\AppData\\Local\\Temp/ipykernel_11216/211171585.py\u001b[0m in \u001b[0;36marbre\u001b[1;34m(n, longueur)\u001b[0m\n\u001b[0;32m      7\u001b[0m \u001b[1;32mdef\u001b[0m \u001b[0marbre\u001b[0m\u001b[1;33m(\u001b[0m\u001b[0mn\u001b[0m\u001b[1;33m,\u001b[0m\u001b[0mlongueur\u001b[0m\u001b[1;33m)\u001b[0m\u001b[1;33m:\u001b[0m\u001b[1;33m\u001b[0m\u001b[1;33m\u001b[0m\u001b[0m\n\u001b[0;32m      8\u001b[0m     \u001b[1;32mif\u001b[0m \u001b[0mn\u001b[0m\u001b[1;33m==\u001b[0m\u001b[1;36m0\u001b[0m\u001b[1;33m:\u001b[0m\u001b[1;33m\u001b[0m\u001b[1;33m\u001b[0m\u001b[0m\n\u001b[1;32m----> 9\u001b[1;33m         \u001b[0mcolor\u001b[0m\u001b[1;33m(\u001b[0m\u001b[1;34m'green'\u001b[0m\u001b[1;33m)\u001b[0m\u001b[1;33m\u001b[0m\u001b[1;33m\u001b[0m\u001b[0m\n\u001b[0m\u001b[0;32m     10\u001b[0m         \u001b[0mforward\u001b[0m\u001b[1;33m(\u001b[0m\u001b[0mlongueur\u001b[0m\u001b[1;33m)\u001b[0m \u001b[1;31m# avance\u001b[0m\u001b[1;33m\u001b[0m\u001b[1;33m\u001b[0m\u001b[0m\n\u001b[0;32m     11\u001b[0m         \u001b[0mbackward\u001b[0m\u001b[1;33m(\u001b[0m\u001b[0mlongueur\u001b[0m\u001b[1;33m)\u001b[0m \u001b[1;31m# recule\u001b[0m\u001b[1;33m\u001b[0m\u001b[1;33m\u001b[0m\u001b[0m\n",
      "\u001b[1;32m~\\anaconda3\\lib\\turtle.py\u001b[0m in \u001b[0;36mcolor\u001b[1;34m(*args)\u001b[0m\n",
      "\u001b[1;31mTerminator\u001b[0m: "
     ]
    }
   ],
   "source": [
    "# Votre réponse ci-dessous :\n",
    "\n",
    "### Attention, possible que ce code ne fonctionne pas sur le notebook. Eventuellement, à tester sur un autre IDE\n",
    "\n",
    "from turtle import *\n",
    "angle = 30\n",
    "color('#3f1905')\n",
    "\n",
    "def arbre(n,longueur):\n",
    "    if n==0:\n",
    "        color('green')\n",
    "        forward(longueur) # avance\n",
    "        backward(longueur) # recule\n",
    "        color('#3f1905')\n",
    "    else:\n",
    "        width(n)\n",
    "        forward(longueur/3)                             #avance\n",
    "        left(angle)                                                # tourne vers la gauche de angle degrés\n",
    "        arbre(n-1,longueur*2/3)\n",
    "        right(2*angle)                                         # tourne vers la droite de angle degrés\n",
    "        arbre(n-1,longueur*2/3)\n",
    "        left(angle)                                               # tourne vers la gauche de angle degrés\n",
    "        backward(longueur/3)                         # recule\n",
    "\n",
    "# Instruction pour descendre la tortue afin de dessiner l'arbre sur toute la page\n",
    "# par défaut, la tortue est au centre de l'écran tournée vers la droite.\n",
    "hideturtle() # cache la tortue\n",
    "up() # lève le stylo\n",
    "right(90) # tourne de 90 degrés vers la droite\n",
    "forward(300) # avance de 300 pixels\n",
    "left(180) # fait un demi-tour\n",
    "down() # pose le stylo\n",
    "\n",
    "arbre(11,700) # exécute la macro avec n=11\n",
    "showturtle() # affiche la tortue\n",
    "\n"
   ]
  },
  {
   "cell_type": "markdown",
   "id": "f61fd072",
   "metadata": {},
   "source": [
    "---"
   ]
  },
  {
   "cell_type": "markdown",
   "id": "7358b1ca",
   "metadata": {},
   "source": [
    "| <span style='color:Blue'> L.HELIN |  | |   | |     |<span style='color:Blue'> NSI Terminale | |   | ||<span style='color:Blue'> Lycée Ozanam (Lille) & Lycée NDPO (Orchies)|\n",
    "| --- | --- |--- |--- |--- |--- | --- | --- |--- |--- | --- | --- |"
   ]
  }
 ],
 "metadata": {
  "kernelspec": {
   "display_name": "Python 3 (ipykernel)",
   "language": "python",
   "name": "python3"
  },
  "language_info": {
   "codemirror_mode": {
    "name": "ipython",
    "version": 3
   },
   "file_extension": ".py",
   "mimetype": "text/x-python",
   "name": "python",
   "nbconvert_exporter": "python",
   "pygments_lexer": "ipython3",
   "version": "3.9.7"
  }
 },
 "nbformat": 4,
 "nbformat_minor": 5
}
