{
 "cells": [
  {
   "cell_type": "markdown",
   "id": "1443e017",
   "metadata": {},
   "source": [
    "---"
   ]
  },
  {
   "attachments": {
    "Image1.jpg": {
     "image/jpeg": "[encoded data removed]"
    }
   },
   "cell_type": "markdown",
   "id": "d15d6e61",
   "metadata": {},
   "source": [
    "![Image1.jpg](attachment:Image1.jpg)"
   ]
  },
  {
   "cell_type": "markdown",
   "id": "aff477f4",
   "metadata": {},
   "source": [
    "# TP2.1 - Données abstraites : Piles et Files\n",
    "\n",
    "Durée de l'activité proposé : 4h"
   ]
  },
  {
   "cell_type": "markdown",
   "id": "d3651f9a",
   "metadata": {},
   "source": [
    "<img src=\"https://github.com/Lionel-Helin-Oza/TP2.1-Piles-Files/blob/main/Image1.png?raw=true\" width=\"250\">"
   ]
  },
  {
   "cell_type": "markdown",
   "id": "5032505f",
   "metadata": {},
   "source": [
    "---"
   ]
  },
  {
   "cell_type": "markdown",
   "id": "746a3eef",
   "metadata": {},
   "source": [
    "\n",
    "## Introduction : c'est quoi une pile ? Une file ? \n",
    "\n",
    "En classe de Première, nous avons vu trois structures de données qui permettent de regrouper des informations et de les retrouver : les tableaux, les dictionnaires, les listes. \n",
    "\n",
    "Mais que se passe-t-il si vous voulez accéder à vos données selon leur ordre d’arrivée ? Par exemple, si vous voulez trouver en premier la toute dernière information ajoutée ?\n"
   ]
  },
  {
   "cell_type": "markdown",
   "id": "9f2c3b8b",
   "metadata": {},
   "source": [
    "---"
   ]
  },
  {
   "cell_type": "markdown",
   "id": "57a1ad2c",
   "metadata": {},
   "source": [
    "## Qu'est ce qu'une Pile ?   \n",
    "\n",
    "\n",
    "Il s’agit d’une structure de données qui donne accès en priorité aux dernières données ajoutées. Ainsi, la dernière information ajoutée sera la première à en sortir.\n",
    "\n",
    "Les piles sont ce que l’on appelle un traitement des données **LIFO** (**Last In First Out**, ou dans la langue de Molière : dernier ajouté premier parti), très pratique lorsque nous aurons à utiliser en premier les dernières données ajoutées.\n",
    "\n",
    "Pourquoi appeler cela une pile ? Car vous empilez les données comme vous le feriez avec des t-shirts dans votre armoire : la seconde vient \"au-dessus\" de la première.\n",
    "\n",
    "Les piles sont très utilisées sur les plateformes de streaming musical. Lorsque vous demandez à la plateforme de lire une chanson à la suite, elle va ajouter cette dernière tout en haut de la liste \"en attente de lecture\".\n",
    "\n",
    "Mais que se passe-t-il si nous avons besoin d’accéder non pas aux dernières données ajoutées, mais aux premières ? C’est exactement ce qui se passe lorsque vous constituez une liste de musique. Vous ajoutez peu à peu les chansons qui seront lues dans le même ordre : les premières chansons ajoutées sont les premières lues. Impossible de réaliser cela avec une pile. C’est pourquoi les files existent !\n",
    "\n"
   ]
  },
  {
   "cell_type": "markdown",
   "id": "1ad3ad28",
   "metadata": {},
   "source": [
    "**Implémentation** \n",
    "\n",
    "En C et en Python, vous pouvez utiliser des **tableaux** pour créer des piles. En effet, vous pouvez ajouter très facilement un élément au début d’un tableau et le retrouver. (On peut également travailler avec des listes chainées, que nous verrons lors du prochain TP). \n",
    "\n",
    "Les méthodes des listes rendent très facile leur utilisation comme des piles, où le dernier élément ajouté est le premier récupéré. Pour ajouter un élément sur la pile, utilisez la méthode append(). Pour récupérer l'objet au sommet de la pile, utilisez la méthode pop() sans indicateur de position. \n",
    "\n",
    "***Par exemple :***\n"
   ]
  },
  {
   "cell_type": "code",
   "execution_count": 72,
   "id": "ac01d34b",
   "metadata": {
    "scrolled": true
   },
   "outputs": [
    {
     "name": "stdout",
     "output_type": "stream",
     "text": [
      "[3, 4, 5, 6, 7]\n",
      "[3, 4, 5, 6]\n",
      "[3, 4]\n"
     ]
    }
   ],
   "source": [
    "stack = [3, 4, 5] # on crée un tableau stack avec 3 valeurs\n",
    "\n",
    "stack.append(6) # On ajoute 6 à la liste stack\n",
    "stack.append(7) # On ajoute 7 à la liste stack\n",
    "\n",
    "print(stack) # [3, 4, 5, 6, 7]\n",
    "\n",
    "stack.pop() # on enlève la dernière valeur à la liste stack - ici 7\n",
    "\n",
    "print(stack) # [3, 4, 5, 6]\n",
    "\n",
    "stack.pop() # on enlève la dernière valeur à la liste stack - ici 6\n",
    "stack.pop() # on enlève la dernière valeur à la liste stack - ici 5\n",
    "\n",
    "print(stack) # [3, 4]\n"
   ]
  },
  {
   "cell_type": "markdown",
   "id": "b85d88fe",
   "metadata": {},
   "source": [
    "**A Retenir**\n",
    "\n",
    "•\tÉtant donné une liste L de n éléments, on peut lui ajouter un (n + 1)-ième élément à droite avec L.append(e). Inversement, l’appel de fonction L.pop() permet simultanément de récupérer le n-ième élément de L (comme valeur de retour de la fonction) et de le supprimer, la liste L prenant alors la taille n − 1.\n",
    "\n",
    "•\tDans une liste, on peut accéder directement à n’importe quel élément ; dans une pile on n’accède directement qu’à l’élément au sommet de la pile. Pour accéder aux autres éléments, il faut dépiler plusieurs fois.\n",
    "    \n",
    "•\tL’avantage d’une pile est que c’est une structure de données très simple qui correspond bien à ce qui se passe dans la mémoire d’un ordinateur.\n"
   ]
  },
  {
   "cell_type": "markdown",
   "id": "7eb73e8c",
   "metadata": {},
   "source": [
    "---"
   ]
  },
  {
   "cell_type": "markdown",
   "id": "db2fa192",
   "metadata": {},
   "source": [
    "## Qu'est ce qu'une file ?  "
   ]
  },
  {
   "cell_type": "markdown",
   "id": "f0969d9a",
   "metadata": {},
   "source": [
    "Une file (queue en anglais) est une structure de données dans laquelle on accède aux éléments suivant la règle du premier arrivé premier sorti, ou encore **FIFO** (**First In First Out**).\n",
    "\n",
    "Elle suit la même logique que les files d’attente (au McDrive, à Pôle Emploi...) : plus vous arrivez tôt et plus vous partez tôt ! ;-)\n",
    "\n",
    "Prenons un exemple de notre vie courante. Vous vous rendez à la Poste, car vous avez reçu un colis. Vous prenez un ticket qui vous indique votre ordre dans la file d’attente. Vous comparez alors ce numéro avec celui qui s’affiche et vous avez une idée du nombre de personnes avant vous. Vous râlez : si seulement vous étiez arrivé·e plus tôt, vous auriez moins attendu ! Premier arrivé, premier servi (et premier parti !)...\n",
    "\n",
    "Les programmeurs l’utilisent dans des services de commande en ligne (commande de pizza sur Internet) ou dans les plateformes de gestion de la clientèle (le premier à avoir posé une question est le premier servi).\n"
   ]
  },
  {
   "cell_type": "markdown",
   "id": "693c39a6",
   "metadata": {},
   "source": [
    "**Implémentation** \n",
    "\n",
    "En C, une file peut être implémentée par une liste chaînée ou par un tableau avec une gestion circulaire. Toutefois, utiliser une liste comme une file, où le premier élément ajouté est le premier récupéré n’est pas très efficaces pour réaliser ce type de traitement. Alors que les ajouts et suppressions en fin de liste sont rapides, les opérations d'insertions ou de retraits en début de liste sont lentes (car tous les autres éléments doivent être décalés d'une position).\n",
    "\n",
    "En Python, pour implémenter une file, nous pourrons utiliser la classe collections **.deque** qui a été conçue pour réaliser rapidement les opérations d'ajouts et de retraits aux deux extrémités. \n",
    "\n",
    "***Par exemple :***\n"
   ]
  },
  {
   "cell_type": "code",
   "execution_count": 73,
   "id": "7050ad17",
   "metadata": {
    "scrolled": true
   },
   "outputs": [
    {
     "name": "stdout",
     "output_type": "stream",
     "text": [
      "deque(['Eric', 'John', 'Michael', 'Terry', 'Graham'])\n",
      "deque(['Michael', 'Terry', 'Graham'])\n"
     ]
    }
   ],
   "source": [
    "from collections import deque\n",
    "queue = deque([\"Eric\", \"John\", \"Michael\"]) # création d'une file queue\n",
    "\n",
    "queue.append(\"Terry\")           # Terry arrive, on ajoute l'élément \"terry\" à la file\n",
    "queue.append(\"Graham\")          # Graham arrive\n",
    "\n",
    "print(queue)   # on affiche la file ['Eric', 'John', 'Michael', 'Terry', 'Graham']\n",
    "\n",
    "queue.popleft()                 # Le premier arrivé sort de la file - ici 'Eric'\n",
    "queue.popleft()                 # Le second arrivé sort de la file - ici 'John'\n",
    "\n",
    "print(queue)  # on affiche la file ['Michael', 'Terry', 'Graham']\n"
   ]
  },
  {
   "cell_type": "markdown",
   "id": "91af951d",
   "metadata": {},
   "source": [
    "---"
   ]
  },
  {
   "cell_type": "markdown",
   "id": "9bd78032",
   "metadata": {},
   "source": [
    "## Résumé  "
   ]
  },
  {
   "cell_type": "markdown",
   "id": "5ab5dcff",
   "metadata": {},
   "source": [
    "<span style='color:Red'> Les **piles** (de type LIFO) s’utilisent lorsque vous devez traiter en priorité les dernières données arrivées. Nous retrouvons ce système dans les placards de notre cuisine ou dans notre frigo : ce qui est mis en avant est ce que l’on va consommer le plus vite ! C’est également le cas dans le flux d’actualité de Facebook ou de Twitter (la dernière information arrivée est la première que vous voyez).\n",
    "\n",
    "<span style='color:Red'> Les **files** (de type FIFO) s’utilisent lorsque vous devez traiter un flux de données par ordre d’arrivée. C’est le cas lorsque vous faites une todo list (votre première action est celle qui vous devez réaliser en priorité) ou que vous listez les bugs en attente de traitement.\n"
   ]
  },
  {
   "cell_type": "markdown",
   "id": "76573bd7",
   "metadata": {},
   "source": [
    "<img src=\"https://github.com/Lionel-Helin-Oza/TP2.1-Piles-Files/blob/main/resume-lifo.png?raw=true\" width=\"350\">"
   ]
  },
  {
   "cell_type": "markdown",
   "id": "668dc4c7",
   "metadata": {},
   "source": [
    "**Opérations courantes**\n",
    "\n",
    "Les opérations courantes de ces deux structures sont appelées primitives de gestion des piles ou des files. \n",
    "Les noms sont assez parlants ! :)\n",
    "\n",
    "***Piles :***  Initialiser / EstVide / EstPleine / AccederSommet / Empiler / Depiler / Vider / Détruire\n",
    "\n",
    "***Files :***  Initialiser / EstVide / EstPleine / AccederTete / Enfiler / Defiler /  Vider / Detruire\n"
   ]
  },
  {
   "cell_type": "markdown",
   "id": "87463cb5",
   "metadata": {},
   "source": [
    "---"
   ]
  },
  {
   "cell_type": "markdown",
   "id": "00db1dad",
   "metadata": {},
   "source": [
    "### Exercice 1 - Opérations usuelles sur les piles   \n",
    "\n",
    "À l’aide des fonctions append et pop, programmer les opérations usuelles sur une pile :\n",
    "\n",
    "1. Créer une nouvelle pile, qui est vide :"
   ]
  },
  {
   "cell_type": "code",
   "execution_count": 74,
   "id": "83c2fdbf",
   "metadata": {
    "trusted": true
   },
   "outputs": [],
   "source": [
    "# Votre réponse ci-dessous :\n",
    "def creer_pile():\n",
    "    pile = []\n",
    "    return pile"
   ]
  },
  {
   "cell_type": "markdown",
   "id": "eb8d6f36",
   "metadata": {},
   "source": [
    "2. Empiler une valeur sur la pile.\n",
    "\n",
    "Exemple : si au départ pile = [5,1,3] alors, après l’instruction empile(8), la pile vaut [5,1,3,8] et si on continue avec l’instruction empile(6), la pile vaut maintenant [5,1,3,8,6]."
   ]
  },
  {
   "cell_type": "code",
   "execution_count": 75,
   "id": "acd216b7",
   "metadata": {
    "trusted": true
   },
   "outputs": [],
   "source": [
    "# Votre réponse ci-dessous :\n",
    "def empiler(e,p):\n",
    "    p.append(e)\n",
    "    return p"
   ]
  },
  {
   "cell_type": "markdown",
   "id": "9cc7d3c4",
   "metadata": {},
   "source": [
    "3. Dépiler une valeur de la pile \n",
    "\n",
    "Exemple : si au départ pile = [13,4,9] alors l’instruction depile() renvoie la valeur 9 et la pile vaut maintenant [13,4] ; si on exécute une nouvelle instruction depile(), elle renvoie cette fois la valeur 4 et la pile vaut maintenant [13].\n"
   ]
  },
  {
   "cell_type": "code",
   "execution_count": 76,
   "id": "7b9e5ef9",
   "metadata": {
    "trusted": true
   },
   "outputs": [],
   "source": [
    "# Votre réponse ci-dessous :\n",
    "def depiler(p):\n",
    "    return p.pop()"
   ]
  },
  {
   "cell_type": "markdown",
   "id": "c2a2dbf7",
   "metadata": {},
   "source": [
    "4. Construire les fonctions suivantes `pile_vide(p)`, `sommet(p)`, `taille(p)` en utilisant uniquement les fonctions `creer_pile()`, `depiler(p)` `empiler(p,v)`"
   ]
  },
  {
   "cell_type": "code",
   "execution_count": 77,
   "id": "e0c59c46",
   "metadata": {
    "trusted": true
   },
   "outputs": [],
   "source": [
    "# Vos réponses ci-dessous :\n",
    "def pile_vide(p):\n",
    "    if p == creer_pile():\n",
    "        return True\n",
    "    else:\n",
    "        return False"
   ]
  },
  {
   "cell_type": "code",
   "execution_count": 78,
   "id": "73f2dd0f",
   "metadata": {
    "trusted": true
   },
   "outputs": [],
   "source": [
    "def sommet(p):\n",
    "    val=depiler(p)\n",
    "    empiler(val,p)\n",
    "    return val\n",
    "    "
   ]
  },
  {
   "cell_type": "code",
   "execution_count": 79,
   "id": "4de1dde3",
   "metadata": {
    "trusted": true
   },
   "outputs": [],
   "source": [
    "def taille(p):\n",
    "    taille=0\n",
    "    while not pile_vide(p):\n",
    "        depiler(p)\n",
    "        taille = taille + 1\n",
    "    return taille"
   ]
  },
  {
   "cell_type": "markdown",
   "id": "3426eed9",
   "metadata": {},
   "source": [
    "5. Tester ces différentes fonctions avec une pile de votre choix. \n",
    "\n",
    "Par exemple, la pile sera représentée par la liste [2,354,13,55]. Le sommet de la pile sera donc le dernier élément de la liste et l’élément le plus bas de la pile sera donc le premier élément de la liste\n"
   ]
  },
  {
   "cell_type": "code",
   "execution_count": 80,
   "id": "c4e51a73",
   "metadata": {},
   "outputs": [
    {
     "name": "stdout",
     "output_type": "stream",
     "text": [
      "False\n",
      "55\n",
      "4\n"
     ]
    }
   ],
   "source": [
    "# Votre réponse ci-dessous :\n",
    "def creer_pile():\n",
    "    pile = []\n",
    "    return pile\n",
    "\n",
    "def empiler(e,p):\n",
    "    p.append(e)\n",
    "    return p\n",
    "\n",
    "def depiler(p):\n",
    "    return p.pop()\n",
    "\n",
    "def pile_vide(p):\n",
    "    if p == creer_pile():\n",
    "        return True\n",
    "    else:\n",
    "        return False\n",
    "\n",
    "def sommet(p):\n",
    "    val=depiler(p)\n",
    "    empiler(val,p)\n",
    "    return val\n",
    "\n",
    "def taille(p):\n",
    "    taille=0\n",
    "    while not pile_vide(p):\n",
    "        depiler(p)\n",
    "        taille = taille + 1\n",
    "    return taille\n",
    "\n",
    "a = creer_pile()\n",
    "empiler(2,a)\n",
    "empiler(354,a)\n",
    "empiler(13,a)\n",
    "empiler(55,a)\n",
    "\n",
    "print(pile_vide(a))\n",
    "print(sommet(a))\n",
    "print(taille(a))"
   ]
  },
  {
   "cell_type": "markdown",
   "id": "a306d8ab",
   "metadata": {},
   "source": [
    "---"
   ]
  },
  {
   "cell_type": "markdown",
   "id": "8d52aa30",
   "metadata": {},
   "source": [
    "### Exercice 2 - Applications sur les Piles \n",
    "\n",
    "\n",
    "***Objectifs :*** MANIPULER les piles en UTILISANT seulement les trois fonctions `empiler()`, `depiler()` et `pile_vide()`. Ecrire les codes permettant de :\n",
    "\n"
   ]
  },
  {
   "cell_type": "markdown",
   "id": "5d9aa57a",
   "metadata": {},
   "source": [
    "1. (a) En partant d’une pile vide, arrive à une pile [5,7,2,4]."
   ]
  },
  {
   "cell_type": "code",
   "execution_count": 81,
   "id": "9cb55510",
   "metadata": {},
   "outputs": [
    {
     "name": "stdout",
     "output_type": "stream",
     "text": [
      "[5, 7, 2, 4]\n"
     ]
    }
   ],
   "source": [
    "# Votre réponse ci-dessous :\n",
    "def creer_pile():\n",
    "    pile = []\n",
    "    return pile\n",
    "\n",
    "def empiler(e,p):\n",
    "    p.append(e)\n",
    "    return p\n",
    "\n",
    "def depiler(p):\n",
    "    return p.pop()\n",
    "\n",
    "def pile_vide(p):\n",
    "    if p == creer_pile():\n",
    "        return True\n",
    "    else:\n",
    "        return False\n",
    "\n",
    "def sommet(p):\n",
    "    val=depiler(p)\n",
    "    empiler(val,p)\n",
    "    return val\n",
    "\n",
    "def taille(p):\n",
    "    taille=0\n",
    "    while not pile_vide(p):\n",
    "        depiler(p)\n",
    "        taille = taille + 1\n",
    "    return taille\n",
    "\n",
    "pile = creer_pile()\n",
    "empiler(5,pile)\n",
    "empiler(7,pile)\n",
    "empiler(2,pile)\n",
    "empiler(4,pile)\n",
    "\n",
    "\n",
    "print(pile)\n"
   ]
  },
  {
   "cell_type": "markdown",
   "id": "33b0a463",
   "metadata": {},
   "source": [
    "1. (b) Exécute ensuite les instructions depiler(p), empiler(8,p), empiler(1,p), empiler(3,p). Que vaut- maintenant la pile ? Que renvoie maintenant l’instruction depiler() ?"
   ]
  },
  {
   "cell_type": "markdown",
   "id": "938bf016",
   "metadata": {},
   "source": [
    "***Votre réponse ci-dessous :***"
   ]
  },
  {
   "cell_type": "raw",
   "id": "98388621",
   "metadata": {},
   "source": [
    "La pile vaut maintenant [5, 7, 2, 8, 1, 3] et l'instruction depiler renvoie 3"
   ]
  },
  {
   "cell_type": "markdown",
   "id": "ec4d8820",
   "metadata": {},
   "source": [
    "2.\tPars d’une pile. Écris une fonction `pile_contient(element,pile)` qui teste si la pile contient un élément donné."
   ]
  },
  {
   "cell_type": "code",
   "execution_count": 82,
   "id": "a893b085",
   "metadata": {},
   "outputs": [
    {
     "name": "stdout",
     "output_type": "stream",
     "text": [
      "True\n"
     ]
    }
   ],
   "source": [
    "# Votre réponse ci-dessous :\n",
    "def creer_pile():\n",
    "    pile = []\n",
    "    return pile\n",
    "\n",
    "def empiler(e,p):\n",
    "    p.append(e)\n",
    "    return p\n",
    "\n",
    "def depiler(p):\n",
    "    return p.pop()\n",
    "\n",
    "def pile_vide(p):\n",
    "    if p == creer_pile():\n",
    "        return True\n",
    "    else:\n",
    "        return False\n",
    "\n",
    "def sommet(p):\n",
    "    val=depiler(p)\n",
    "    empiler(val,p)\n",
    "    return val\n",
    "\n",
    "def taille(p):\n",
    "    taille=0\n",
    "    while not pile_vide(p):\n",
    "        depiler(p)\n",
    "        taille = taille + 1\n",
    "    return taille\n",
    "\n",
    "def pile_contient(e,p):\n",
    "    pile = creer_pile()\n",
    "    while not pile_vide(p):\n",
    "        val = depiler(p)\n",
    "        empiler(val,pile)\n",
    "        if val == e:\n",
    "            return True\n",
    "    return False\n",
    "\n",
    "a = creer_pile()\n",
    "empiler(5,a)\n",
    "empiler(7,a)\n",
    "empiler(2,a)\n",
    "empiler(4,a)\n",
    "\n",
    "print(pile_contient(5,a))\n"
   ]
  },
  {
   "cell_type": "markdown",
   "id": "ca931742",
   "metadata": {},
   "source": [
    "3.\tPars d’une pile. Écris une fonction qui calcule la somme des éléments de la pile."
   ]
  },
  {
   "cell_type": "code",
   "execution_count": 83,
   "id": "b097b93b",
   "metadata": {},
   "outputs": [],
   "source": [
    "# Votre réponse ci-dessous :\n",
    "def somme_pile(p):\n",
    "    somme = 0\n",
    "    while not pile_vide(p):\n",
    "        somme = somme + depiler(p)\n",
    "    return somme\n"
   ]
  },
  {
   "cell_type": "markdown",
   "id": "b73af840",
   "metadata": {},
   "source": [
    "4.\tPars d’une pile. Écris une fonction qui renvoie l’avant-dernier élément de la pile (le dernier élément est celui tout en bas ; si cet avant-dernier élément n’existe pas, la fonction renvoie None)."
   ]
  },
  {
   "cell_type": "code",
   "execution_count": 105,
   "id": "4f95ae86",
   "metadata": {},
   "outputs": [
    {
     "name": "stdout",
     "output_type": "stream",
     "text": [
      "3\n"
     ]
    }
   ],
   "source": [
    "# Votre réponse ci-dessous :\n",
    "def avant_dernier(p):\n",
    "    if len(p) < 2:\n",
    "        return None\n",
    "    inter_pile = []\n",
    "    somme = 0\n",
    "    while p:\n",
    "        inter_pile.append(p.pop())\n",
    "    dernier = inter_pile.pop()\n",
    "    av_dernier = inter_pile.pop()\n",
    "    p.extend([dernier, av_dernier])\n",
    "    p.extend(inter_pile[::-1])\n",
    "    return av_dernier\n",
    "\n",
    "resultat = avant_dernier([2, 3, 4, 5])\n",
    "print(resultat)\n"
   ]
  },
  {
   "cell_type": "markdown",
   "id": "be1e11bd",
   "metadata": {},
   "source": [
    "---"
   ]
  },
  {
   "cell_type": "markdown",
   "id": "a6f2cca2",
   "metadata": {},
   "source": [
    "### Exercice 3 - Gare de Triage (Piles) "
   ]
  },
  {
   "cell_type": "markdown",
   "id": "780e8909",
   "metadata": {},
   "source": [
    "**Rappel de différentes méthodes python** ( nous verrons dans le prochain chapitre ce qu'est une \"méthode\" mais je pense que vous comprendrez facilement comment utiliser ces outils)\n",
    "\n",
    "1.\tLa fonction `split()` est une** méthode **Python** qui sépare une chaîne de caractères en morceaux. Si aucun séparateur n’est précisé, le séparateur est le caractère espace.\n"
   ]
  },
  {
   "cell_type": "markdown",
   "id": "7b3e773d",
   "metadata": {},
   "source": [
    "<img src=\"https://github.com/Lionel-Helin-Oza/TP2.1-Piles-Files/blob/main/split.jpg?raw=true\" width=\"500\">"
   ]
  },
  {
   "cell_type": "markdown",
   "id": "0905b7d4",
   "metadata": {},
   "source": [
    "2.\tLa fonction `join()` est une méthode **Python** qui recolle une liste de chaînes en une seule chaîne. C’est l’opération inverse de `split()` "
   ]
  },
  {
   "cell_type": "markdown",
   "id": "b124e77d",
   "metadata": {},
   "source": [
    "<img src=\"https://github.com/Lionel-Helin-Oza/TP2.1-Piles-Files/blob/main/join.jpg?raw=true\" width=\"500\">"
   ]
  },
  {
   "cell_type": "markdown",
   "id": "8f5f2aa4",
   "metadata": {},
   "source": [
    "3.\tLa fonction `isdigit()` est une méthode **Python** qui teste si une chaîne de caractères ne contient que des chiffres. Cela permet donc de tester si une chaîne correspond à un entier positif. \n",
    "\n",
    "Voici des exemples : \"1789\".isdigit() renvoie True ; \"Coucou\".isdigit() renvoie False.\n",
    "\n",
    "Rappelons que l’on peut convertir une chaîne en un entier par la commande `int(chaine)`.\n"
   ]
  },
  {
   "cell_type": "markdown",
   "id": "e1352622",
   "metadata": {},
   "source": [
    "---"
   ]
  },
  {
   "cell_type": "markdown",
   "id": "e52562cb",
   "metadata": {},
   "source": [
    "**Exercice :**\n",
    "Objectifs : résoudre un problème de TRIAGE en MODELISANT une zone de STOCKAGE PAR une pile.\n",
    "\n",
    "Un train comporte des wagons bleus qui portent un numéro et des wagons rouges qui portent une lettre : ( ici un train non-trié)\n"
   ]
  },
  {
   "cell_type": "markdown",
   "id": "d63027eb",
   "metadata": {},
   "source": [
    "<img src=\"https://github.com/Lionel-Helin-Oza/TP2.1-Piles-Files/blob/main/wagon_non_trie.jpg?raw=true\" width=\"500\">"
   ]
  },
  {
   "cell_type": "markdown",
   "id": "fac2ddba",
   "metadata": {},
   "source": [
    "Le chef de gare souhaite séparer les wagons : d’abord tous les bleus et ensuite tous les rouges (l’ordre des wagons bleus n’a pas d’importance, l’ordre des wagons rouges non plus). Voici ce même train trié :"
   ]
  },
  {
   "cell_type": "markdown",
   "id": "d6fbbd99",
   "metadata": {},
   "source": [
    "<img src=\"https://github.com/Lionel-Helin-Oza/TP2.1-Piles-Files/blob/main/wagon_trie.jpg?raw=true\" width=\"500\">"
   ]
  },
  {
   "cell_type": "markdown",
   "id": "b5e3c4b1",
   "metadata": {},
   "source": [
    "Pour cela, il dispose d’une gare de sortie et d’une zone d’attente : un wagon peut soit être directement envoyé à la gare de sortie, soit être momentanément stocké dans la zone d’attente."
   ]
  },
  {
   "cell_type": "markdown",
   "id": "d3369cde",
   "metadata": {},
   "source": [
    "<img src=\"https://github.com/Lionel-Helin-Oza/TP2.1-Piles-Files/blob/main/train_trie.jpg?raw=true\" width=\"700\">"
   ]
  },
  {
   "cell_type": "markdown",
   "id": "697f6130",
   "metadata": {},
   "source": [
    "Voici les instructions du chef de gare.\n",
    "\n",
    "•\t**Phase 1**. \n",
    "\n",
    "Pour chaque wagon du train :\n",
    "- si c’est un wagon bleu, envoyez-le directement en gare de sortie ;\n",
    "- si c’est un wagon rouge, envoyez-le dans la zone d’attente.\n",
    "\n",
    "•\t**Phase 2**. \n",
    "\n",
    "Ensuite, déplacez un par un les wagons (rouges) de la zone d’attente vers la gare de sortie en les raccrochant aux autres.\n"
   ]
  },
  {
   "cell_type": "markdown",
   "id": "f9b8b461",
   "metadata": {},
   "source": [
    "<img src=\"https://github.com/Lionel-Helin-Oza/TP2.1-Piles-Files/blob/main/train_trie2.jpg?raw=true\" width=\"700\">"
   ]
  },
  {
   "cell_type": "markdown",
   "id": "7d76b183",
   "metadata": {},
   "source": [
    "Voici comment nous allons modéliser le train et son triage.\n",
    "\n",
    "•\tLe train est une chaîne de caractères formée d’une suite de nombres (les wagons bleus) et de lettres (les wagons rouges) séparés par des espaces. Par exemple train = \"G 6 Z J 14\".\n",
    "\n",
    "•\tOn obtient la liste des wagons par la commande `train.split()`.\n",
    "\n",
    "•\tOn teste si un wagon est bleu est regardant s’il est marqué d’un nombre, par la fonction\n",
    "`wagon.isdigit()`.\n",
    "\n",
    "•\tLe train reconstitué par les wagons triés est aussi une chaîne de caractères. Au départ, c’est la chaîne vide.\n",
    "\n",
    "•\tLa zone d’attente sera la pile. Au départ la pile est vide. On va y ajouter uniquement les wagons rouges. À la fin, on vide la pile vers la queue du train reconstitué.\n"
   ]
  },
  {
   "cell_type": "markdown",
   "id": "3ce6de95",
   "metadata": {},
   "source": [
    "<img src=\"https://github.com/Lionel-Helin-Oza/TP2.1-Piles-Files/blob/main/tri_wagon.jpg?raw=true\" width=\"500\">"
   ]
  },
  {
   "cell_type": "markdown",
   "id": "4c554fd0",
   "metadata": {},
   "source": [
    "**En suivant les instructions du chef de gare, écris une fonction `tri_wagons()` qui sépare les wagons bleus et rouges d’un train**"
   ]
  },
  {
   "cell_type": "markdown",
   "id": "a0532f28",
   "metadata": {},
   "source": [
    "**Votre réponse ci-dessous :**"
   ]
  },
  {
   "cell_type": "code",
   "execution_count": 104,
   "id": "0a6f39ad",
   "metadata": {},
   "outputs": [
    {
     "name": "stdout",
     "output_type": "stream",
     "text": [
      "1 3 5 D W\n"
     ]
    }
   ],
   "source": [
    "def creer_pile():\n",
    "    pile = []\n",
    "    return pile\n",
    "\n",
    "def empiler(e, p):\n",
    "    p.append(e)\n",
    "    return p\n",
    "\n",
    "def depiler(p):\n",
    "    return p.pop()\n",
    "\n",
    "def pile_vide(p):\n",
    "    return len(p) == 0\n",
    "\n",
    "def tri_wagons(train):\n",
    "    wagons = train.split()\n",
    "    zone_attente = creer_pile()\n",
    "    train_trie = \"\"\n",
    "    for wagon in wagons:\n",
    "        if wagon.isdigit():\n",
    "            train_trie += wagon + \" \"\n",
    "        else:\n",
    "            empiler(wagon, zone_attente)\n",
    "    while not pile_vide(zone_attente):\n",
    "        wagon_rouge = depiler(zone_attente)\n",
    "        train_trie += wagon_rouge + \" \"\n",
    "    train_trie = train_trie.strip()   \n",
    "    return train_trie\n",
    "\n",
    "train = \"1 W 3 D 5\"\n",
    "train_trie = tri_wagons(train)\n",
    "print(train_trie)\n",
    "    \n",
    "    \n",
    "\n"
   ]
  },
  {
   "cell_type": "code",
   "execution_count": null,
   "id": "407bd4f6",
   "metadata": {},
   "outputs": [],
   "source": []
  },
  {
   "cell_type": "markdown",
   "id": "57d2aa32",
   "metadata": {},
   "source": [
    "---"
   ]
  },
  {
   "cell_type": "markdown",
   "id": "e3d5dd21",
   "metadata": {},
   "source": [
    "### Exercice 4 - Calculatrice Polonaise (Piles) "
   ]
  },
  {
   "cell_type": "markdown",
   "id": "f18c7918",
   "metadata": {},
   "source": [
    "***Définition*** :\n",
    "\n",
    "L’écriture en notation polonaise (de son vrai nom, notation polonaise inverse) est une autre façon d’écrire une expression algébrique. Son avantage est que cette notation n’utilise pas de parenthèses et qu’elle est plus facile à manipuler pour un ordinateur. Son inconvénient est que nous n’y sommes pas habitués.\n",
    "\n",
    "Voici la façon classique d’écrire une expression algébrique : 7 + 6\t\n",
    "\n",
    "et voici son écriture polonaise : 7 6 +\n",
    "\n",
    "Dans tous les cas, le résultat sera 13 !\n",
    "\n",
    "*Autres exemples :*\n",
    "\n",
    "•\tclassique : (10 + 5) × 3 ;\tpolonaise : 10 5 + 3 ×\n",
    "\n",
    "•\tclassique : 10 + 2 × 3 ;\tpolonaise : 10 2 3 × +\n",
    "\n",
    "•\tclassique : (2 + 8) × (6 + 11) ;\tpolonaise : 2 8 + 6 11 + ×\n",
    "\n",
    "Voyons comment calculer la valeur d’une expression en écriture polonaise.\n",
    "\n",
    "-\tOn lit l’expression de gauche à droite :\n",
    "                    2 8 + 6 11 + * \n",
    "\n",
    "-\tLorsque l’on rencontre un premier opérateur (+,\t,. . . ) on calcule l’opération AVEC les deux membres juste AVANT cet OPERATEUR :"
   ]
  },
  {
   "cell_type": "markdown",
   "id": "b21ad7c5",
   "metadata": {},
   "source": [
    "<img src=\"https://github.com/Lionel-Helin-Oza/TP2.1-Piles-Files/blob/main/calculatrice_slide1.jpg?raw=true\" width=\"200\">"
   ]
  },
  {
   "cell_type": "markdown",
   "id": "a62f77c6",
   "metadata": {},
   "source": [
    "-\tOn remplace cette opération par le résultat :"
   ]
  },
  {
   "cell_type": "markdown",
   "id": "b71c302a",
   "metadata": {},
   "source": [
    "<img src=\"https://github.com/Lionel-Helin-Oza/TP2.1-Piles-Files/blob/main/calculatrice_slide1.jpg?raw=true\" width=\"200\">"
   ]
  },
  {
   "cell_type": "markdown",
   "id": "2eeb334c",
   "metadata": {},
   "source": [
    "-\tOn continue la lecture de l’expression (on cherche le premier opérateur et les deux termes juste avant) :"
   ]
  },
  {
   "cell_type": "markdown",
   "id": "24a2fce0",
   "metadata": {},
   "source": [
    "<img src=\"https://github.com/Lionel-Helin-Oza/TP2.1-Piles-Files/blob/main/calculatrice_slide3.jpg?raw=true\" width=\"500\">"
   ]
  },
  {
   "cell_type": "markdown",
   "id": "bda1e411",
   "metadata": {},
   "source": [
    "À la fin il ne reste qu’une valeur, c’est le résultat ! (Ici 170.)"
   ]
  },
  {
   "cell_type": "markdown",
   "id": "285e0d81",
   "metadata": {},
   "source": [
    "***Exercice : (Pour voir si vous avez bien compris..)***\n",
    "\n",
    "Calcule la valeur des expressions :           "
   ]
  },
  {
   "cell_type": "markdown",
   "id": "24db413c",
   "metadata": {},
   "source": [
    "•\t13 5 + 3 ×          = 54\n",
    "\n",
    "•\t3   5   7   × +     = 38\n",
    "\n",
    "•\t3   5   7   + ×     = 36\n",
    "\n",
    "•\t15 5 ÷ 4 12 + ×     = 48\n"
   ]
  },
  {
   "cell_type": "markdown",
   "id": "84eb4acf",
   "metadata": {},
   "source": [
    "**Exercice :**\n",
    "\n",
    "Objectif : Programmer une MINI-CALCULATRICE qui CALCULE les expressions en écriture POLONAISE."
   ]
  },
  {
   "cell_type": "markdown",
   "id": "867bb49e",
   "metadata": {},
   "source": [
    "1.\tÉcris une fonction `operation()` qui calcule la somme ou le produit de deux nombres.\n"
   ]
  },
  {
   "cell_type": "markdown",
   "id": "2a4bee21",
   "metadata": {},
   "source": [
    "<img src=\"https://github.com/Lionel-Helin-Oza/TP2.1-Piles-Files/blob/main/operation.png?raw=true\" width=\"500\">"
   ]
  },
  {
   "cell_type": "code",
   "execution_count": null,
   "id": "1707a532",
   "metadata": {},
   "outputs": [],
   "source": [
    "# Votre réponse ci-dessous :\n",
    "def operation(a, b, op):\n",
    "    if op == \"+\":\n",
    "        resultat = a + b\n",
    "    elif op == \"*\":\n",
    "        resultat = a * b\n",
    "    else:\n",
    "        resultat = \"Opération non valide.\"\n",
    "\n",
    "    return resultat\n",
    "\n",
    "\n"
   ]
  },
  {
   "cell_type": "markdown",
   "id": "4a09e838",
   "metadata": {},
   "source": [
    "2.\tProgramme une calculatrice polonaise, selon l’algorithme suivant :\n",
    "\n",
    "\n",
    "**Algorithme**.\n",
    "\n",
    "- Entrée : une expression en écriture polonaise (une chaîne de caractères).\n",
    "- Sortie : la valeur de cette expression.\n",
    "- Exemple : \"2 3 + 4 *\" (le calcul (2 + 3)\t4) donne 20.\n",
    "\n",
    "•\tPartir avec une pile vide.\n",
    "\n",
    "•\tPour chaque élément de l’expression (lue de gauche à droite) :\n",
    "- si l’élément est un nombre, alors ajouter ce nombre à la pile,\n",
    "- si l’élément est une opération, alors :\n",
    "- dépiler une fois pour obtenir un nombre b,\n",
    "- dépiler une seconde fois pour obtenir un nombre A,\n",
    "- calculer A + b ou A\tb selon l’opération,\n",
    "- ajouter ce résultat à la pile.\n",
    "\n",
    "•\tÀ la fin, la pile ne contient qu’un seul élément, c’est le résultat du calcul.\n"
   ]
  },
  {
   "cell_type": "markdown",
   "id": "48697faa",
   "metadata": {},
   "source": [
    "<img src=\"https://github.com/Lionel-Helin-Oza/TP2.1-Piles-Files/blob/main/calculatrice_pol.jpg?raw=true\" width=\"500\">"
   ]
  },
  {
   "cell_type": "code",
   "execution_count": 106,
   "id": "6f4d3242",
   "metadata": {},
   "outputs": [
    {
     "name": "stdout",
     "output_type": "stream",
     "text": [
      "9\n"
     ]
    }
   ],
   "source": [
    "def creer_pile():\n",
    "    pile = []\n",
    "    return pile\n",
    "\n",
    "def empiler(e, p):\n",
    "    p.append(e)\n",
    "    return p\n",
    "\n",
    "def depiler(p):\n",
    "    return p.pop()\n",
    "\n",
    "def pile_vide(p):\n",
    "    return len(p) == 0\n",
    "\n",
    "def sommet(p):\n",
    "    if not pile_vide(p):\n",
    "        return p[-1]\n",
    "    else:\n",
    "        return None\n",
    "\n",
    "def operation(a, b, op):\n",
    "    if op == \"+\":\n",
    "        return a + b\n",
    "    elif op == \"*\":\n",
    "        return a * b\n",
    "    else:\n",
    "        print(\"Opération non valide.\")\n",
    "\n",
    "def calculatrice_polonaise(expression):\n",
    "    elements = expression.split()\n",
    "    pile = creer_pile()\n",
    "\n",
    "    for element in elements:\n",
    "        if element.isdigit():\n",
    "            empiler(int(element), pile)\n",
    "        else:\n",
    "            b = depiler(pile)\n",
    "            a = depiler(pile)\n",
    "            resultat = operation(a, b, element)\n",
    "            empiler(resultat, pile)\n",
    "    \n",
    "    return sommet(pile)\n",
    "\n",
    "print(calculatrice_polonaise(\"1 2 + 3 *\"))"
   ]
  },
  {
   "cell_type": "markdown",
   "id": "ce6fead0",
   "metadata": {},
   "source": [
    "---"
   ]
  },
  {
   "cell_type": "markdown",
   "id": "4fd6a9ac",
   "metadata": {},
   "source": [
    "### Exercice 5 - Opérations usuelles sur les files"
   ]
  },
  {
   "cell_type": "markdown",
   "id": "9aeccb9a",
   "metadata": {},
   "source": [
    "Ecrire les fonctions (méthodes) usuelles suivantes :\n",
    "\n",
    "1. Créer une file vide :"
   ]
  },
  {
   "cell_type": "code",
   "execution_count": null,
   "id": "6ddc6e52",
   "metadata": {},
   "outputs": [],
   "source": [
    "def creer_file():\n",
    "    return []"
   ]
  },
  {
   "cell_type": "code",
   "execution_count": null,
   "id": "28e9933c",
   "metadata": {},
   "outputs": [
    {
     "ename": "SyntaxError",
     "evalue": "invalid syntax (3320113434.py, line 1)",
     "output_type": "error",
     "traceback": [
      "\u001b[1;36m  Cell \u001b[1;32mIn[51], line 1\u001b[1;36m\u001b[0m\n\u001b[1;33m    2. Placer un élément en file d’attente :\u001b[0m\n\u001b[1;37m       ^\u001b[0m\n\u001b[1;31mSyntaxError\u001b[0m\u001b[1;31m:\u001b[0m invalid syntax\n"
     ]
    }
   ],
   "source": [
    " 2. Placer un élément en file d’attente :"
   ]
  },
  {
   "cell_type": "code",
   "execution_count": null,
   "id": "ac3466cf",
   "metadata": {},
   "outputs": [],
   "source": [
    "def enfiler(x,f):\n",
    "    return f.insert(0, x)"
   ]
  },
  {
   "cell_type": "markdown",
   "id": "8ca3ab18",
   "metadata": {},
   "source": [
    "3. Faire sortir le premier élément de la file"
   ]
  },
  {
   "cell_type": "code",
   "execution_count": null,
   "id": "5f59f088",
   "metadata": {},
   "outputs": [],
   "source": [
    "def defiler(f):\n",
    "    return f.pop()"
   ]
  },
  {
   "cell_type": "markdown",
   "id": "d16916ea",
   "metadata": {},
   "source": [
    "4. Savoir si la file est vide"
   ]
  },
  {
   "cell_type": "code",
   "execution_count": null,
   "id": "aad27480",
   "metadata": {},
   "outputs": [],
   "source": [
    "def est_vide(f):\n",
    "    return f == []"
   ]
  },
  {
   "cell_type": "markdown",
   "id": "1c21b9dc",
   "metadata": {},
   "source": [
    "5. Retourner la longueur de la file"
   ]
  },
  {
   "cell_type": "code",
   "execution_count": null,
   "id": "3568d72c",
   "metadata": {},
   "outputs": [
    {
     "name": "stdout",
     "output_type": "stream",
     "text": [
      "3\n"
     ]
    }
   ],
   "source": [
    "def creer_file():\n",
    "    return []\n",
    "\n",
    "def enfiler(f, x):\n",
    "    return f.insert(0, x)\n",
    "\n",
    "def defiler(f):\n",
    "    return f.pop()\n",
    "\n",
    "def file_vide(f):\n",
    "    return f==[]\n",
    "\n",
    "def longueur(f):\n",
    "    compteur = 0\n",
    "    file_temp = creer_file()\n",
    "\n",
    "    while not file_vide(f):\n",
    "        element = defiler(f)\n",
    "        enfiler(file_temp, element)\n",
    "        compteur += 1\n",
    "\n",
    "    while not file_vide(file_temp):\n",
    "        enfiler(f, defiler(file_temp))\n",
    "\n",
    "    return compteur\n",
    "\n",
    "ma_file = creer_file()\n",
    "enfiler(ma_file, 1)\n",
    "enfiler(ma_file, 2)\n",
    "enfiler(ma_file, 3)\n",
    "\n",
    "longueur_file = longueur(ma_file)\n",
    "print(longueur_file)\n"
   ]
  },
  {
   "cell_type": "markdown",
   "id": "756f31dc",
   "metadata": {},
   "source": [
    "---"
   ]
  },
  {
   "cell_type": "markdown",
   "id": "1bd16126",
   "metadata": {},
   "source": [
    "### Exercice 6 - Croisement routier (files)"
   ]
  },
  {
   "cell_type": "markdown",
   "id": "43256269",
   "metadata": {},
   "source": [
    "Pour simuler un croisement routier, à sens unique, on utilise 3 files f 1, f 2 et f 3 représentant respectivement les voitures arrivant sur des routes R1 et R2, et les voitures partant sur la route R3.\n",
    "La route R2 a un STOP. Les voitures de la file f 2 ne peuvent avancer que s’il n’y a aucune voiture sur la route R1, donc dans la file f 1.\n"
   ]
  },
  {
   "cell_type": "markdown",
   "id": "296bca5e",
   "metadata": {},
   "source": [
    "<img src=\"https://github.com/Lionel-Helin-Oza/TP2.1-Piles-Files/blob/main/croisement.jpg?raw=true\" width=\"500\">"
   ]
  },
  {
   "cell_type": "markdown",
   "id": "0061ae85",
   "metadata": {},
   "source": [
    "On souhaite écrire un algorithme qui simule le départ des voitures sur la route R3, modélisée par la file f 3.\n",
    "\n",
    "Dans la file f 1 on représentera la présence d’une voiture par le nombre 1 et l’absence de voiture par 0\n",
    "\n",
    "Dans la file f 2 on représentera la présence d’une voiture par le nombre 2 et l’absence de voiture par 0\n",
    "\n",
    "- On n’utilisera que les méthodes enfiler, defiler, sommet et vide (voir exercice précédent)\n",
    "\n",
    "- On testera l’algorithme sur f 1 : tête <–[0, 1, 1, 0, 1]<– queue\n",
    "- On testera l’algorithme sur f 2 : tête <–[0, 2, 2, 2, 0, 2, 0]<– queue\n",
    "- Le résultat attendu : f 3 tête <–[0, 1, 1, 2, 1, 2, 2, 0, 2, 0]<– queue\n",
    "\n",
    "***QUESTION 1:***\n",
    "Que doit faire l’algorithme si les deux sommets des files sont à 0?\n"
   ]
  },
  {
   "cell_type": "markdown",
   "id": "3899be01",
   "metadata": {},
   "source": [
    "***Votre réponse ci-dessous***"
   ]
  },
  {
   "cell_type": "raw",
   "id": "c0dfd50e",
   "metadata": {},
   "source": [
    "Si les deux sommets des files f1 et f2 sont à 0, cela signifie qu'il n'y a pas de voiture dans les deux files. \n",
    "Dans ce cas, l'algorithme devrait simplement dépiler les deux files et les ignorer, car il n'y a pas de voiture à ajouter à f3."
   ]
  },
  {
   "cell_type": "markdown",
   "id": "cf8bf378",
   "metadata": {},
   "source": [
    "***QUESTION 2:***\n",
    "Que doit faire l’algorithme si le sommet de f 1 est à 1 et celui de f 2 à 2?\n"
   ]
  },
  {
   "cell_type": "markdown",
   "id": "b7e2b107",
   "metadata": {},
   "source": [
    "***Votre réponse ci-dessous***"
   ]
  },
  {
   "cell_type": "raw",
   "id": "b5eb7801",
   "metadata": {},
   "source": [
    "Si le sommet de f1 est à 1 et celui de f2 à 2, cela signifie qu'il y a une voiture dans f1 et une voiture dans f2. \n",
    "Dans ce cas, l'algorithme devrait ajouter ces deux voitures à f3 en les enfilant dans cet ordre : 1 suivi de 2."
   ]
  },
  {
   "cell_type": "markdown",
   "id": "f1f1c858",
   "metadata": {},
   "source": [
    "***QUESTION 3:***\n",
    "Que doit faire l’algorithme si le sommet de f 1 est à 1 et celui de f 2 à 0?"
   ]
  },
  {
   "cell_type": "markdown",
   "id": "ee7bc091",
   "metadata": {},
   "source": [
    "***Votre réponse ci-dessous***"
   ]
  },
  {
   "cell_type": "raw",
   "id": "827effee",
   "metadata": {},
   "source": [
    " Si le sommet de f1 est à 1 et celui de f2 est à 0, cela signifie qu'il y a une voiture dans f1 mais pas dans f2. \n",
    " L'algorithme devrait simplement ajouter la voiture de f1 à f3 en la défilant de f1 et en l'enfilant dans f3.\n",
    " "
   ]
  },
  {
   "cell_type": "markdown",
   "id": "43659f28",
   "metadata": {},
   "source": [
    "***QUESTION 4:***\n",
    "Que doit faire l’algorithme si le sommet de f 1 est à 0 et celui de f 2 à 2?\n"
   ]
  },
  {
   "cell_type": "markdown",
   "id": "503ce499",
   "metadata": {},
   "source": [
    "***Votre réponse ci-dessous***"
   ]
  },
  {
   "cell_type": "raw",
   "id": "c3c6b83b",
   "metadata": {},
   "source": [
    " \n",
    " Si le sommet de f1 est à 0 et celui de f2 est à 2, cela signifie qu'il y a une voiture dans f2 mais pas dans f1. \n",
    " L'algorithme devrait simplement ajouter la voiture de f2 à f3 en la défilant de f2 et en l'enfilant dans f3."
   ]
  },
  {
   "cell_type": "markdown",
   "id": "b247697a",
   "metadata": {},
   "source": [
    "***QUESTION 5:***\n",
    "Que doit faire l’algorithme si l’une des deux files est vide?\n"
   ]
  },
  {
   "cell_type": "markdown",
   "id": "5a4ec117",
   "metadata": {},
   "source": [
    "***Votre réponse ci-dessous***"
   ]
  },
  {
   "cell_type": "raw",
   "id": "26d0d9d8",
   "metadata": {},
   "source": [
    " Si l'une des deux files est vide, l'algorithme devrait simplement dépiler la file non vide et ajouter les voitures de cette file à f3. \n",
    " Si f1 est vide, il devrait ajouter les voitures de f2 à f3 et vice versa.\n",
    " "
   ]
  },
  {
   "cell_type": "markdown",
   "id": "2ee89b17",
   "metadata": {},
   "source": [
    "***QUESTION 6:***\n",
    "Réaliser le programme qui modélise ce carrefour, on utilisera une fonction `croisement(f1,f2)` qui prend en paramètres deux files f 1 et f 2 et qui retourne une file f 3 contenant la file f 3 des voitures sur la route R3. **On utilisera les fonctions usuelles sur les files**.\n"
   ]
  },
  {
   "cell_type": "code",
   "execution_count": 107,
   "id": "59c1515f",
   "metadata": {},
   "outputs": [
    {
     "name": "stdout",
     "output_type": "stream",
     "text": [
      "deque([0, 1, 1, 2, 1, 2, 2, 0, 2, 0])\n"
     ]
    }
   ],
   "source": [
    "# Votre réponse (code) ci-dessous :\n",
    "\n",
    "from collections import deque\n",
    "\n",
    "def creer_file():\n",
    "    return []\n",
    "\n",
    "def enfiler(f, x):\n",
    "    return f.insert(0, x)\n",
    "\n",
    "def defiler(f):\n",
    "    return f.pop()\n",
    "\n",
    "def file_vide(f):\n",
    "    return f==[]\n",
    "\n",
    "def longueur(f):\n",
    "    compteur = 0\n",
    "    file_temp = creer_file()\n",
    "\n",
    "    while not file_vide(f):\n",
    "        element = defiler(f)\n",
    "        enfiler(file_temp, element)\n",
    "        compteur += 1\n",
    "\n",
    "    while not file_vide(file_temp):\n",
    "        enfiler(f, defiler(file_temp))\n",
    "\n",
    "    return compteur\n",
    "\n",
    "\n",
    "def croisement(f1, f2):\n",
    "    f3 = deque()\n",
    "    file_route1 = deque(f1)\n",
    "    file_route2 = deque(f2)\n",
    "\n",
    "    while file_route1 and file_route2:\n",
    "        vehicule_route1 = file_route1.popleft()\n",
    "        vehicule_route2 = file_route2.popleft()\n",
    "\n",
    "        if vehicule_route1 == 0 and vehicule_route2 == 0:\n",
    "            f3.append(0)\n",
    "        elif vehicule_route1 == 1 and vehicule_route2 == 2:\n",
    "            f3.append(1)\n",
    "            file_route2.appendleft(2)\n",
    "        elif vehicule_route1 == 1:\n",
    "            f3.append(1)\n",
    "        elif vehicule_route2 == 2:\n",
    "            f3.append(2)\n",
    "\n",
    "    f3.extend(file_route1)\n",
    "    f3.extend(file_route2)\n",
    "\n",
    "    return f3\n",
    "\n",
    "f1 = [0, 1, 1, 0, 1]\n",
    "f2 = [0, 2, 2, 2, 0, 2, 0]\n",
    "f3 = croisement(f1, f2)\n",
    "print(f3)\n",
    "\n"
   ]
  },
  {
   "cell_type": "markdown",
   "id": "9e692371",
   "metadata": {},
   "source": [
    "---"
   ]
  },
  {
   "cell_type": "markdown",
   "id": "e7476392",
   "metadata": {},
   "source": [
    "### Exercice 7 - Tri pairs / Impairs (files)"
   ]
  },
  {
   "cell_type": "markdown",
   "id": "de064bfd",
   "metadata": {},
   "source": [
    "**Objectif :** On dispose d’une file contenant des entiers, écrire une fonction qui renvoie une file où on aura séparé les nombres pairs des impairs"
   ]
  },
  {
   "cell_type": "code",
   "execution_count": 111,
   "id": "4b43bbe7",
   "metadata": {},
   "outputs": [
    {
     "name": "stdout",
     "output_type": "stream",
     "text": [
      "deque([2, 4, 6, 8, 1, 3, 5, 7, 9])\n"
     ]
    }
   ],
   "source": [
    "# Votre réponse (code) ci-dessous :\n",
    "from collections import deque\n",
    "\n",
    "def separer_pairs_impairs(file):\n",
    "    fp = deque()  \n",
    "    fi = deque()  \n",
    "\n",
    "    while file:\n",
    "        nombre = file.popleft()\n",
    "        if nombre % 2 == 0:\n",
    "            fp.append(nombre)\n",
    "        else:\n",
    "            fi.append(nombre)\n",
    "\n",
    "    fr = deque()  \n",
    "    fr.extend(fp)\n",
    "    fr.extend(fi)\n",
    "    \n",
    "    return fr\n",
    "\n",
    "\n",
    "fe = deque([1, 2, 3, 4, 5, 6, 7, 8, 9])\n",
    "fs = separer_pairs_impairs(fe)\n",
    "print(fs)\n",
    "\n",
    "\n",
    "\n",
    " \n"
   ]
  },
  {
   "cell_type": "markdown",
   "id": "dd259810",
   "metadata": {},
   "source": [
    "---"
   ]
  },
  {
   "cell_type": "markdown",
   "id": "d4bcae0e",
   "metadata": {},
   "source": [
    "### Exercice 8 : Caisse de supermarché (files)"
   ]
  },
  {
   "cell_type": "markdown",
   "id": "007926d2",
   "metadata": {},
   "source": [
    "Dans un supermarché il y a 5 caisses et une file d’attente commune. Dès qu’une caisse est libre, le client en tête de file y est envoyé. Le temps de passage en caisse est aléatoirement compris entre 3 et 10 minutes. Il y a dix clients dans la file d’attente."
   ]
  },
  {
   "cell_type": "markdown",
   "id": "f443a3db",
   "metadata": {},
   "source": [
    "1. Réaliser une simulation de leurs passages en caisses et afficher en combien de minutes tous les clients sont passés.\n",
    "\n",
    "2. Refaire quelques essais avec plus de clients.\n",
    "\n",
    "Pour la file d’attente , vous utiliserez une file avec l’objet `.deque` sous python.\n",
    "\n",
    "Par exemple voici la liste d’attente: \n"
   ]
  },
  {
   "cell_type": "code",
   "execution_count": null,
   "id": "c9a80d1c",
   "metadata": {
    "scrolled": true
   },
   "outputs": [
    {
     "name": "stdout",
     "output_type": "stream",
     "text": [
      "deque(['1', '2', '3', '4', '5', '6', '7', '8', '9', '10'])\n"
     ]
    }
   ],
   "source": [
    "from collections import deque                #import biblio deque\n",
    "\n",
    "file_attente=['1','2','3','4','5','6','7','8','9','10'] #la liste d'attente commune avec 10 clients\n",
    "\n",
    "d = deque(file_attente)                #création file client\n",
    "\n",
    "print(d)   # affiche deque([‘1’, ‘2’, ‘3’, ‘4’, ‘5’, ‘6’, ‘7’, ‘8’, ‘9’, ’10’])"
   ]
  },
  {
   "cell_type": "markdown",
   "id": "ec6b856c",
   "metadata": {},
   "source": [
    "Quelques informations sur les instructions Python deque.\n",
    "\n",
    "**`append(x)`**\n",
    "Ajoute x à l’extrémité droite de la deque.\n",
    "\n",
    "**`appendleft(x)`**\n",
    "Ajoute x à l’extrémité gauche de la deque.\n",
    "\n",
    "On peut retirer et renvoyer :\n",
    "\n",
    "**`pop()`**\n",
    "Retire et renvoie un élément de l’extrémité droite de la deque. S’il n’y a aucun élément, lève une exception IndexError.\n",
    "\n",
    "**`popleft()`**\n",
    "Retire et renvoie un élément de l’extrémité gauche de la deque. S’il n’y a aucun élément, lève  une exception IndexError.\n"
   ]
  },
  {
   "cell_type": "markdown",
   "id": "6c59ddbe",
   "metadata": {},
   "source": [
    "Pour la liste des caisses, vous utiliserez une liste [0,0,0,0,0], premier élément temps caisse 1, ici à 0, puis temps caisse 2 ou un dictionnaire {1: 0, 2: 0, 3: 0, 4: 0, 5: 0}, clé 1 = caisse 1 avec sa valeur = temps ici à 0."
   ]
  },
  {
   "cell_type": "markdown",
   "id": "31411616",
   "metadata": {},
   "source": [
    "**A l'aide de ces éléments, Ecrire une fonction permettant de simuler le passage en caisse**"
   ]
  },
  {
   "cell_type": "code",
   "execution_count": null,
   "id": "cbd4884a",
   "metadata": {},
   "outputs": [],
   "source": [
    "# Votre réponse (code) ci-dessous :\n",
    "\n",
    "from random import randint # pour la gestion des nombres aléatoires\n",
    "\n",
    "def caisse(f):\n",
    "\n"
   ]
  },
  {
   "cell_type": "markdown",
   "id": "f61fd072",
   "metadata": {},
   "source": [
    "---"
   ]
  },
  {
   "cell_type": "markdown",
   "id": "7358b1ca",
   "metadata": {},
   "source": [
    "| <span style='color:Blue'> L.HELIN |  | |   | |     |<span style='color:Blue'> NSI Terminale | |   | ||<span style='color:Blue'> Lycée Ozanam (Lille) & Lycée NDPO (Orchies)|\n",
    "| --- | --- |--- |--- |--- |--- | --- | --- |--- |--- | --- | --- |"
   ]
  }
 ],
 "metadata": {
  "kernelspec": {
   "display_name": "Python 3",
   "language": "python",
   "name": "python3"
  },
  "language_info": {
   "codemirror_mode": {
    "name": "ipython",
    "version": 3
   },
   "file_extension": ".py",
   "mimetype": "text/x-python",
   "name": "python",
   "nbconvert_exporter": "python",
   "pygments_lexer": "ipython3",
   "version": "3.9.13"
  }
 },
 "nbformat": 4,
 "nbformat_minor": 5
}
