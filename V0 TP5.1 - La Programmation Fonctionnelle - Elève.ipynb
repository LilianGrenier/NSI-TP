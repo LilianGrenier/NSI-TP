{
 "cells": [
  {
   "cell_type": "markdown",
   "id": "1443e017",
   "metadata": {},
   "source": [
    "---"
   ]
  },
  {
   "attachments": {
    "Image1.jpg": {
     "image/jpeg": "[encoded data removed]"
    }
   },
   "cell_type": "markdown",
   "id": "d15d6e61",
   "metadata": {},
   "source": [
    "![Image1.jpg](attachment:Image1.jpg)"
   ]
  },
  {
   "cell_type": "markdown",
   "id": "aff477f4",
   "metadata": {},
   "source": [
    "# TP5.1 - Paradigme de Programmation - La Programmation Fonctionnelle\n",
    "\n",
    "Durée de l'activité proposé : 3h"
   ]
  },
  {
   "attachments": {
    "image.png": {
     "image/png": "[encoded data removed]"
    }
   },
   "cell_type": "markdown",
   "id": "d3651f9a",
   "metadata": {},
   "source": [
    "![image.png](attachment:image.png)"
   ]
  },
  {
   "cell_type": "markdown",
   "id": "5032505f",
   "metadata": {},
   "source": [
    "---"
   ]
  },
  {
   "cell_type": "markdown",
   "id": "746a3eef",
   "metadata": {},
   "source": [
    "\n",
    "## Introduction : c’est quoi un Paradigme de Programmation ?\n",
    "\n",
    "La programmation informatique consiste en identifier des problèmes qui peuvent être résolu automatiquement, en concevoir des solutions algorithmiques et à les transcrire en langage informatique (les \"coder\"). \n",
    "Environ 2500 langages ont été créés depuis les années 1950 jusqu’à aujourd’hui, et l’on peut supposer que d’autres langages verront le jour prochainement. Alors pourquoi autant de langage ? Pourquoi utiliser l’un plutôt qu’un autre ?  Cela dépend du besoin auquel vous tenter de répondre. \n",
    "\n",
    "Un paradigme de programmation est une manière de penser les problèmes et d’écrire les programmes afin de les résoudre. Attention, on ne parle pas ici de langage, mais bien d’une façon d’appréhender l’écriture de votre programme.  En effet, certains langages sont conçus pour supporter un seul paradigme (en particulier Smalltalk et Java, qui supportent la programmation orientée objet, tandis que Haskell supporte la programmation fonctionnelle), alors que d’autres supportent des paradigmes multiples (à l’image de C++, Common Lisp, OCaml, Oz, Python, Ruby, Scala ou Scheme). \n",
    "\n",
    "Le but n’est pas ici de détailler l’ensemble de ces différents paradigmes. Vous en avez déjà vu quelques-uns en classe de Première (programmation événementielle en javascript, programmation orientée requêtes avec le langage SQL).  Nous en verrons deux cette année dans le cadre de la NSI. Python étant un langage multiparadigme, nous pourrons aborder ces notions avec le langage que vous commencez à maitriser depuis l’an dernier. \n",
    "\n",
    "Quelques liens si vous voulez des compléments d’informations sur les différents paradigmes : \n",
    "-\thttps://fr.wikipedia.org/wiki/Paradigme_(programmation)\n",
    "-\thttps://www.scriptol.fr/programmation/paradigmes.php\n",
    "-\thttps://www.youtube.com/watch?v=5D7Shf9nG0Q\n"
   ]
  },
  {
   "cell_type": "markdown",
   "id": "9f2c3b8b",
   "metadata": {},
   "source": [
    "---"
   ]
  },
  {
   "cell_type": "markdown",
   "id": "57a1ad2c",
   "metadata": {},
   "source": [
    "## Le paradigme impératif\n",
    "\n",
    "\n",
    "Jusqu’à maintenant, vous avez utilisé un paradigme dit « impératif ». Le mode impératif est le même que celui que l'on suit en appliquant une recette de cuisine, ce pourquoi il s'est imposé et est largement le plus utilisé : une succession d'opérations simples ou itératives, qui modifient l'état des ingrédients jusqu'à aboutir à l'état final que l'on recherche. Les instructions changent l'état du programme à travers celui des variables et les objets.\n",
    "\n",
    "La programmation impérative repose donc sur des notions qui vous sont familières :\n",
    "\n",
    "•\t**la séquence d'instructions** (les instructions d'un programme s'exécutent l'une après l'autre)\n",
    "•\t**l'affectation** (on attribue une valeur à une variable, par exemple : a = 5)\n",
    "•\t**l'instruction conditionnell**e (if / else)\n",
    "•\t**la boucle** (while et for)\n",
    "\n",
    "La programmation impérative est loin d'être le seul paradigme de programmation (même si c'est sans doute le plus courant). Cette année nous allons étudier deux autres paradigmes : le paradigme objet et le paradigme fonctionnel. Commençons par la programmation fonctionnelle."
   ]
  },
  {
   "cell_type": "markdown",
   "id": "87463cb5",
   "metadata": {},
   "source": [
    "---"
   ]
  },
  {
   "cell_type": "markdown",
   "id": "00db1dad",
   "metadata": {},
   "source": [
    "## Le paradigme fonctionnel\n",
    "\n",
    "Le principe général de la programmation fonctionnelle est de **`concevoir des programmes comme des fonctions mathématiques`** que l'on compose entre elles. \n",
    "\n",
    "### Rappels de l’écriture d’une fonction sur Python \n",
    "\n",
    "La syntaxe Python pour la définition d’une fonction est la suivante :\n",
    "\n"
   ]
  },
  {
   "cell_type": "code",
   "execution_count": 34,
   "id": "c1f415e1",
   "metadata": {},
   "outputs": [
    {
     "ename": "SyntaxError",
     "evalue": "invalid syntax (Temp/ipykernel_19652/1605320303.py, line 1)",
     "output_type": "error",
     "traceback": [
      "\u001b[1;36m  File \u001b[1;32m\"C:\\Users\\lione\\AppData\\Local\\Temp/ipykernel_19652/1605320303.py\"\u001b[1;36m, line \u001b[1;32m1\u001b[0m\n\u001b[1;33m    def nom_fonction(liste de paramètres):\u001b[0m\n\u001b[1;37m                           ^\u001b[0m\n\u001b[1;31mSyntaxError\u001b[0m\u001b[1;31m:\u001b[0m invalid syntax\n"
     ]
    }
   ],
   "source": [
    "def nom_fonction(liste de paramètres):\n",
    "      bloc d'instructions\n"
   ]
  },
  {
   "cell_type": "code",
   "execution_count": null,
   "id": "2671fab8",
   "metadata": {},
   "outputs": [],
   "source": [
    "# Exemple :\n",
    "\n",
    "def compteur(stop):\n",
    "    i = 0\n",
    "    while i < stop:\n",
    "        print(i)\n",
    "        i = i + 1\n",
    "\n",
    "a = 5\n",
    "compteur(a)\n",
    "\n",
    "\n"
   ]
  },
  {
   "cell_type": "markdown",
   "id": "8d52aa30",
   "metadata": {},
   "source": [
    "_**Remarque 1**_ : Une fonction est appelée pour fournir un résultat en fonction des paramètres d’entrée. La « valeur » retournée est alors définie par le « return » (on parle sinon de procédure).\n",
    "\n",
    "_**Remarque 2**_ : Une fonction peut être appellée dans une autre fonction "
   ]
  },
  {
   "cell_type": "code",
   "execution_count": null,
   "id": "36fef1c4",
   "metadata": {},
   "outputs": [],
   "source": [
    "#Exemple 2\n",
    "\n",
    "import numpy as np\n",
    "\n",
    "def cube(n):\n",
    "    return n**3\n",
    "        \n",
    "def volume_sphere(r):\n",
    "    return 4 / 3 * np.pi * cube(r)\n",
    "\n",
    "r = float(input(\"Entrez la valeur du rayon : \"))\n",
    "print(\"Le volume de cette sphere vaut\", volume_sphere(r))\n"
   ]
  },
  {
   "cell_type": "markdown",
   "id": "77dee21f",
   "metadata": {},
   "source": [
    "### Principes du paradigme fonctionnelle \n",
    "\n",
    "\n",
    "A la différence des programmes impératifs organisés en instructions (qui produisent des effets de bords), les programmes fonctionnels sont bâtis sur des expressions dont la valeur est le résultat du programme. En particulier dans un langage fonctionnel, il n'existe pas d'effet de bord.\n",
    "\n",
    "Le paradigme fonctionnel utilise un emboîtement de fonctions qui agissent comme des « boîtes noires » que l'on peut imbriquer les unes dans les autres. Chaque boîte possédant plusieurs paramètres en entrée mais **`une seule sortie`**, elle ne peut sortir qu'une seule valeur possible pour chaque n-uplet de valeurs présentées en entrée. De plus, dans ce type de programmation, **`les fonctions n'introduisent pas d'effets de bord`** : elles ne modifient pas les valeurs extérieures à son environnement local. \n",
    "\n",
    "***Exemple 1*** : \n"
   ]
  },
  {
   "attachments": {
    "image-2.png": {
     "image/png": "[encoded data removed]"
    }
   },
   "cell_type": "markdown",
   "id": "b8649b48",
   "metadata": {},
   "source": [
    "![image-2.png](attachment:image-2.png) "
   ]
  },
  {
   "cell_type": "markdown",
   "id": "14dffc38",
   "metadata": {},
   "source": [
    "Dans le programme ci-dessus, le résultat de la fonction ne dépend pas uniquement de la valeur de la variable (b) passée en argument de la fonction. Il dépend de la valeur de la variable (a) qui est à l’extérieure de la fonction. \n",
    "\n",
    "**==> Cette fonction ne répond pas aux exigences du paradigme fonctionnel.**\n",
    "\n",
    "\n",
    "***Exemple 2*** : \n"
   ]
  },
  {
   "attachments": {
    "image-2.png": {
     "image/png": "[encoded data removed]"
    }
   },
   "cell_type": "markdown",
   "id": "9e4c178f",
   "metadata": {},
   "source": [
    "![image-2.png](attachment:image-2.png)"
   ]
  },
  {
   "cell_type": "markdown",
   "id": "830673d8",
   "metadata": {},
   "source": [
    "La fonction n’a occasionné aucune mutation des données, les données reçues en entrée n’ont pas été modifiées\n",
    "\n",
    "**==> Cette fonction répond aux exigences du paradigme fonctionnel.**"
   ]
  },
  {
   "cell_type": "markdown",
   "id": "ef3e6081",
   "metadata": {},
   "source": [
    "#### Données mutables et données immuables "
   ]
  },
  {
   "cell_type": "markdown",
   "id": "7ce0cea4",
   "metadata": {},
   "source": [
    "**La programmation fonctionnelle utilise des structures de données `immuables`** : c’est une structure que l’on ne peut plus modifier une fois qu’elle est construite. On peut l’utiliser pour construire d’autres structures de données. \n",
    " \n",
    "Ces 'données immuables s’opposent aux données **`mutables`**, que l’on a davantage l’habitude d’utiliser sur Python, où leur contenu est modifié par des opérations. Par exemple, on rajoute un élément à une liste, à un dictionnaire.\n",
    "\n",
    "**==> Dans une écriture fonctionnelle, on va donc par exemple, pour ajouter un élément dans une liste, créer une copie de cette liste et ajouter**\n"
   ]
  },
  {
   "cell_type": "markdown",
   "id": "e1352622",
   "metadata": {},
   "source": [
    "---"
   ]
  },
  {
   "cell_type": "markdown",
   "id": "c2fe5640",
   "metadata": {},
   "source": [
    "## Exercices d'application"
   ]
  },
  {
   "cell_type": "markdown",
   "id": "48ae16d6",
   "metadata": {},
   "source": [
    "### Exercice 1 ( Lecture de programme)"
   ]
  },
  {
   "cell_type": "markdown",
   "id": "badf8bf5",
   "metadata": {},
   "source": [
    "***1.1 Soit le programme suivant :***"
   ]
  },
  {
   "cell_type": "code",
   "execution_count": null,
   "id": "645a380e",
   "metadata": {},
   "outputs": [],
   "source": [
    "i = 5\n",
    "def fct():\n",
    "  if i > 5:\n",
    "    return True\n",
    "  else :\n",
    "    return False\n",
    "fct()\n"
   ]
  },
  {
   "cell_type": "markdown",
   "id": "36ac2454",
   "metadata": {},
   "source": [
    "La programmation est-elle fonctionnelle ? Justifiez votre réponse."
   ]
  },
  {
   "cell_type": "markdown",
   "id": "1882116a",
   "metadata": {},
   "source": [
    "`*Votre réponse ci dessous :*` "
   ]
  },
  {
   "cell_type": "raw",
   "id": "23037e17",
   "metadata": {},
   "source": []
  },
  {
   "cell_type": "markdown",
   "id": "84cda487",
   "metadata": {},
   "source": [
    "***1.2 Soit le programme suivant :***"
   ]
  },
  {
   "cell_type": "code",
   "execution_count": null,
   "id": "a39634a8",
   "metadata": {},
   "outputs": [],
   "source": [
    "def fct(i):\n",
    "  if i > 5:\n",
    "    return True\n",
    "  else :\n",
    "    return False\n",
    "fct(5)"
   ]
  },
  {
   "cell_type": "markdown",
   "id": "0468e5ed",
   "metadata": {},
   "source": [
    "La programmation est-elle fonctionnelle ? Justifiez votre réponse."
   ]
  },
  {
   "cell_type": "markdown",
   "id": "080a9088",
   "metadata": {},
   "source": [
    "`*Votre réponse ci dessous :*`"
   ]
  },
  {
   "cell_type": "raw",
   "id": "a54b1e1f",
   "metadata": {},
   "source": []
  },
  {
   "cell_type": "markdown",
   "id": "b29820de",
   "metadata": {},
   "source": [
    "***1.3 Soit le programme suivant :***"
   ]
  },
  {
   "cell_type": "code",
   "execution_count": null,
   "id": "03f8904d",
   "metadata": {},
   "outputs": [],
   "source": [
    "l = [4,7,3]\n",
    "def ajout(i):\n",
    "  l.append(i)"
   ]
  },
  {
   "cell_type": "markdown",
   "id": "2208db25",
   "metadata": {},
   "source": [
    "La programmation est-elle fonctionnelle ? Justifiez votre réponse."
   ]
  },
  {
   "cell_type": "markdown",
   "id": "99da803b",
   "metadata": {},
   "source": [
    "`*Votre réponse ci dessous :*`"
   ]
  },
  {
   "cell_type": "raw",
   "id": "8b5d0e19",
   "metadata": {},
   "source": []
  },
  {
   "cell_type": "markdown",
   "id": "3648a039",
   "metadata": {},
   "source": [
    "***1.4 Soit le programme suivant :***"
   ]
  },
  {
   "cell_type": "code",
   "execution_count": null,
   "id": "06c1bfd8",
   "metadata": {},
   "outputs": [],
   "source": [
    "def ajout(i,l):\n",
    "\ttab = l + [i]\n",
    "  return tab"
   ]
  },
  {
   "cell_type": "markdown",
   "id": "3eb51830",
   "metadata": {},
   "source": [
    "La programmation est-elle fonctionnelle ? Justifiez votre réponse."
   ]
  },
  {
   "cell_type": "markdown",
   "id": "52e25d5d",
   "metadata": {},
   "source": [
    "`*Votre réponse ci dessous :*`"
   ]
  },
  {
   "cell_type": "raw",
   "id": "ee8c3f04",
   "metadata": {},
   "source": []
  },
  {
   "cell_type": "markdown",
   "id": "027b08ed",
   "metadata": {},
   "source": [
    "### Exercice 2 ( Programmation Python)"
   ]
  },
  {
   "cell_type": "markdown",
   "id": "fbb5d3c1",
   "metadata": {},
   "source": [
    "Ecrire une fonction ***trouve(p,t)*** qui reçoit en argument une fonction ***p*** et un tableau ***t*** et renvoie le premier élément ***x*** de ***t*** tel que ***p(x)*** vaut « true ».\n",
    "\n",
    "Si aucun élément de ***t*** ne satisfait ***p***, alors la fonction renvoie « none »\n"
   ]
  },
  {
   "cell_type": "code",
   "execution_count": null,
   "id": "b6436884",
   "metadata": {},
   "outputs": [],
   "source": [
    "# Votre réponse ci-dessous :\n",
    "\n"
   ]
  },
  {
   "cell_type": "markdown",
   "id": "c3d49f25",
   "metadata": {},
   "source": [
    "### Exercice 3 ( Programmation Python)"
   ]
  },
  {
   "cell_type": "markdown",
   "id": "38295ea4",
   "metadata": {},
   "source": [
    "Ecrire une fonction ***applique (f,t)*** qui reçoit en argument une fonction ***f*** et un tableau ***t*** et renvoie un nouveau tableau, de même taille, où la fonction ***f*** a été appliquée à chaque élément de ***t***."
   ]
  },
  {
   "cell_type": "code",
   "execution_count": null,
   "id": "c0ded5d6",
   "metadata": {},
   "outputs": [],
   "source": [
    "# Votre réponse ci-dessous :\n",
    "\n"
   ]
  },
  {
   "cell_type": "markdown",
   "id": "f2edcc61",
   "metadata": {},
   "source": [
    "### Exercice 4 ( Programmation Python)"
   ]
  },
  {
   "cell_type": "markdown",
   "id": "739205b6",
   "metadata": {},
   "source": [
    "Ecrire une fonction ***temps_d’execution (f,x)*** qui prend en argument une fonction ***f*** et une valeur ***x*** et qui renvoie une paire formée du résultat de ***f(x)*** et du temps mis par ce calcul. \n",
    "\n",
    "Pour mesurer ce temps, on pourra utiliser la fonction ***time.time()*** (Fonction vue en première). \n",
    "Mesurer le temps pris par la fonction boucle_inutile avec l’argument 1 000 000.\n"
   ]
  },
  {
   "cell_type": "code",
   "execution_count": null,
   "id": "dbbb9e24",
   "metadata": {},
   "outputs": [],
   "source": [
    "def boucle_inutile(n) :\n",
    "    k=0\n",
    "    for i in range (n) :\n",
    "        k = k +1\n",
    "    return k\n"
   ]
  },
  {
   "cell_type": "code",
   "execution_count": null,
   "id": "629ab1e9",
   "metadata": {},
   "outputs": [],
   "source": [
    "# Votre réponse ci-dessous :\n",
    "\n",
    "import time \n",
    "\n",
    "def temps_dexecution (f,x):\n",
    "# ... à compléter..."
   ]
  },
  {
   "cell_type": "markdown",
   "id": "2fbfe7f1",
   "metadata": {},
   "source": [
    "### Exercice 5 ( Programmation Python)"
   ]
  },
  {
   "cell_type": "markdown",
   "id": "919eb9bb",
   "metadata": {},
   "source": [
    "Considérons une petite bibliothèque permettant de manipuler des points dans le plan.\n",
    "\n",
    "1-\tDéfinir une fonction ***point*** ayant pour arguments deux réels ***x*** et ***y***, et retournant les coordonnées d’un point ( tuple composé des 2 valeurs x et y)"
   ]
  },
  {
   "cell_type": "code",
   "execution_count": null,
   "id": "e47f4c1b",
   "metadata": {},
   "outputs": [],
   "source": [
    "# Votre réponse ci-dessous :\n"
   ]
  },
  {
   "cell_type": "markdown",
   "id": "ace8a5b1",
   "metadata": {},
   "source": [
    "2-\tDéfinir une fonction ***deplacer*** permettant de translater un point d’une longueur ***dx*** , ***dy***. "
   ]
  },
  {
   "cell_type": "code",
   "execution_count": 35,
   "id": "224226d8",
   "metadata": {},
   "outputs": [],
   "source": [
    "# Votre réponse ci-dessous :\n"
   ]
  },
  {
   "cell_type": "markdown",
   "id": "a3e54256",
   "metadata": {},
   "source": [
    "3-\tDéfinir une fonction ***triangle***, ayant pour arguments trois points, et retournant une liste de ces 3 mêmes points"
   ]
  },
  {
   "cell_type": "code",
   "execution_count": 36,
   "id": "3e1baba0",
   "metadata": {},
   "outputs": [],
   "source": [
    "# Votre réponse ci-dessous :\n"
   ]
  },
  {
   "cell_type": "markdown",
   "id": "06775903",
   "metadata": {},
   "source": [
    "A l’aide de ces fonctions :"
   ]
  },
  {
   "cell_type": "markdown",
   "id": "2a402559",
   "metadata": {},
   "source": [
    "4-\tEcrire un code python utilisant ces fonctions afin de créer 4 points a, b, c, d."
   ]
  },
  {
   "cell_type": "code",
   "execution_count": 37,
   "id": "72907903",
   "metadata": {},
   "outputs": [],
   "source": [
    "# Votre réponse ci-dessous :\n"
   ]
  },
  {
   "cell_type": "markdown",
   "id": "621966ea",
   "metadata": {},
   "source": [
    "5-\tEcrire une fonction ***deplacer_triangle(t,dx,dy)*** qui renvoie un nouveau triangle dont les trois points sont déplacés chacun de ***dx*** et ***dy***. "
   ]
  },
  {
   "cell_type": "code",
   "execution_count": 38,
   "id": "e71d028d",
   "metadata": {},
   "outputs": [],
   "source": [
    "# Votre réponse ci-dessous :\n"
   ]
  },
  {
   "cell_type": "markdown",
   "id": "13bd9629",
   "metadata": {},
   "source": [
    "6-\tEcrire un code Python qui crée deux triangles ***t1*** et ***t2*** constitués respectivement des points ***a,b,c*** et ***b,c,d***. "
   ]
  },
  {
   "cell_type": "code",
   "execution_count": 39,
   "id": "2d7dbd02",
   "metadata": {},
   "outputs": [],
   "source": [
    "# Votre réponse ci-dessous :\n"
   ]
  },
  {
   "cell_type": "markdown",
   "id": "eb38933b",
   "metadata": {},
   "source": [
    "7-\tCréer un triangle t3 obtenu en déplaçant t1 de (-1,-1) et t4 obtenu en déplaçant t2 de (2,3)."
   ]
  },
  {
   "cell_type": "code",
   "execution_count": 40,
   "id": "5bd8793d",
   "metadata": {},
   "outputs": [],
   "source": [
    "# Votre réponse ci-dessous :\n"
   ]
  },
  {
   "cell_type": "markdown",
   "id": "822dd534",
   "metadata": {},
   "source": [
    "### Exercice 6 (Utilisation des fonctions filter(), map(), reduce() ):\n",
    "\n",
    "La programmation fonctionnelle repose sur trois concepts : **mapping**, **filtering** et **reducing** qui sont implémentés en Python par trois fonctions : **map()**, **filter()** et **reduce()**."
   ]
  },
  {
   "cell_type": "markdown",
   "id": "7db768b7",
   "metadata": {},
   "source": [
    "#### `La fonction map()`"
   ]
  },
  {
   "cell_type": "markdown",
   "id": "48d44d13",
   "metadata": {},
   "source": [
    "La syntaxe de la fonction ***map()*** est la suivante :\n",
    "\n",
    "                             map(function, iterable, [iterable 2, iterable 3, ...])\n",
    "\n",
    "Au lieu d'utiliser une boucle for, la fonction ***map()*** permet d'appliquer une fonction à chaque élément d'un itérable. \n",
    "\n",
    "Il peut donc souvent être plus performant, puisqu'il n'applique la fonction qu'un élément à la fois plutôt que de rendre itérative la copie des éléments dans un autre. Ceci est particulièrement utile lorsque l'on travaille sur des programmes traitant de grands ensembles de données. ***map()*** peut également prendre plusieurs itérables comme arguments de la fonction en envoyant un élément à la fois de chaque itérable à la fonction.\n",
    "\n",
    "**Exemple :** \n"
   ]
  },
  {
   "cell_type": "code",
   "execution_count": 41,
   "id": "b5a025e3",
   "metadata": {},
   "outputs": [
    {
     "name": "stdout",
     "output_type": "stream",
     "text": [
      "[1, 4, 9, 16, 25]\n"
     ]
    }
   ],
   "source": [
    "def square(x):\n",
    "\treturn x * x\n",
    "\n",
    "print(list(map(square , [1, 2, 3, 4, 5])))\n",
    "\n",
    "# Retourne [1, 4, 9, 16, 25]"
   ]
  },
  {
   "cell_type": "markdown",
   "id": "8db901b0",
   "metadata": {},
   "source": [
    "#### `La fonction filter()`"
   ]
  },
  {
   "cell_type": "markdown",
   "id": "e7e9ce07",
   "metadata": {},
   "source": [
    "***filter()*** construit et renvoie un itérateur sur une liste qui contient tous les éléments de la séquence initiale répondant au critère : ***function(element) == True*** :\n",
    "\n",
    "**Exemple :** \n",
    "\n",
    "Par exemple, voyons comment obtenir uniquement des nombres pairs d'une liste donnée à l'aide de filtres. \n",
    "Dans l'exemple ci-dessous, nous avons créé une fonction appelée ***even ()*** qui renvoie ***true*** ou ***false*** selon que l'entrée qui lui est transmise est un nombre pair de non. Nous avons ensuite appelé fonction de filtrage en passant la fonction avec la liste des nombres. La sortie affiche uniquement des nombres pairs.\n"
   ]
  },
  {
   "cell_type": "code",
   "execution_count": 1,
   "id": "903ec2f3",
   "metadata": {},
   "outputs": [
    {
     "name": "stdout",
     "output_type": "stream",
     "text": [
      "[2, 4, 6, 8]\n"
     ]
    }
   ],
   "source": [
    "def even (x):\n",
    "\treturn x % 2 == 0\n",
    "\n",
    "print(list(filter(even, [1,2,3,4,5,6,7,8,9])))\n",
    "\n",
    "# Retourne [2, 4, 6, 8]\n"
   ]
  },
  {
   "cell_type": "markdown",
   "id": "e71e58c4",
   "metadata": {},
   "source": [
    "#### `La fonction reduce()`"
   ]
  },
  {
   "cell_type": "markdown",
   "id": "0bbe55a1",
   "metadata": {},
   "source": [
    "***reduce()*** prend une liste et applique une fonction à toute la liste en opérant par paires.\n",
    "Il faut deux arguments.\n",
    "1. la fonction\n",
    "2. une liste des valeurs d'entrée\n",
    "\n",
    "**Exemple :** "
   ]
  },
  {
   "cell_type": "code",
   "execution_count": 43,
   "id": "bf7aaf52",
   "metadata": {},
   "outputs": [
    {
     "name": "stdout",
     "output_type": "stream",
     "text": [
      "15\n"
     ]
    }
   ],
   "source": [
    "import functools\n",
    "\n",
    "def add(x, y):\n",
    "\treturn x + y\n",
    "\n",
    "print(functools.reduce(add, [1,2,3,4,5]))\n",
    "\n",
    "# Retourne 15"
   ]
  },
  {
   "cell_type": "markdown",
   "id": "36f07781",
   "metadata": {},
   "source": [
    "#### `Exercice 6 :  A l’aide des fonctions python map(), reduce(), filter() :`"
   ]
  },
  {
   "cell_type": "markdown",
   "id": "e372675a",
   "metadata": {},
   "source": [
    "***6.1 Ecrire une fonction qui calcule la moyenne d’une liste de note. Tester votre programme avec une liste de votre choix.***"
   ]
  },
  {
   "cell_type": "code",
   "execution_count": 44,
   "id": "23d6be4f",
   "metadata": {},
   "outputs": [],
   "source": [
    "# Votre réponse ci-dessous :\n"
   ]
  },
  {
   "cell_type": "markdown",
   "id": "849cc7c4",
   "metadata": {},
   "source": [
    "***6.2 Ecrire une fonction qui renvoie uniquement les valeurs négatives d’une liste de valeurs (retourne dans une liste). Tester votre programme avec une liste de votre choix.***\n",
    "\n",
    "Exemple : \n",
    "\n",
    "a = [-1,2,-3,5,7,-9]\n",
    "\n",
    "résultat : [-1, -3, -9]\n"
   ]
  },
  {
   "cell_type": "code",
   "execution_count": 45,
   "id": "bd0c4e21",
   "metadata": {},
   "outputs": [],
   "source": [
    "# Votre réponse ci-dessous :\n"
   ]
  },
  {
   "cell_type": "markdown",
   "id": "00147bc7",
   "metadata": {},
   "source": [
    "***6.3 Ecrire une fonction qui renvoi l’inverse des valeurs d’une liste. Tester votre programme avec une liste de votre choix. ***"
   ]
  },
  {
   "cell_type": "code",
   "execution_count": 46,
   "id": "e2250667",
   "metadata": {},
   "outputs": [],
   "source": [
    "# Votre réponse ci-dessous :\n"
   ]
  },
  {
   "cell_type": "markdown",
   "id": "51764847",
   "metadata": {},
   "source": [
    "***6.4 Ecrire un programme qui renvoi les éléments communs de deux listes. Tester votre programme avec une liste de votre choix.*** \n",
    "\n",
    "Exemple :\n",
    "\n",
    "a = [1,2,3,5,7,9]\n",
    "\n",
    "b = [2,3,5,6,7,8]\n",
    "\n",
    "résultat : [2, 3, 5, 7]\n"
   ]
  },
  {
   "cell_type": "code",
   "execution_count": 47,
   "id": "518fd7b7",
   "metadata": {},
   "outputs": [],
   "source": [
    "# Votre réponse ci-dessous :\n"
   ]
  },
  {
   "cell_type": "markdown",
   "id": "e6b2f738",
   "metadata": {},
   "source": [
    "***6.5 Ecrire un programme qui pour une phrase donnée, renvoi l’ensemble des mots de cette phrase en majuscule, en minuscule, et le nombre de lettre de chaque mot*** (on pourra utiliser la fonction .split() )\n",
    "\n",
    "Exemple : \n",
    "\n",
    "Phrase = \"Mon petit garçon s’appelle Mael\"\n",
    "\n",
    "Résultat:\n",
    "\n",
    "['MON', 'mon', 3]\n",
    "\n",
    "['PETIT', 'petit', 5]\n",
    "\n",
    "['GARCON', 'garçon', 6]\n",
    "\n",
    "[…]\n",
    "\n"
   ]
  },
  {
   "cell_type": "code",
   "execution_count": 48,
   "id": "f39704b8",
   "metadata": {},
   "outputs": [],
   "source": [
    "# Votre réponse ci-dessous :\n"
   ]
  },
  {
   "cell_type": "markdown",
   "id": "f61fd072",
   "metadata": {},
   "source": [
    "---"
   ]
  },
  {
   "cell_type": "markdown",
   "id": "7358b1ca",
   "metadata": {},
   "source": [
    "| <span style='color:Blue'> L.HELIN |  | |   | |     |<span style='color:Blue'> NSI Terminale | |   | ||<span style='color:Blue'> Lycée Ozanam (Lille) & Lycée NDPO (Orchies)|\n",
    "| --- | --- |--- |--- |--- |--- | --- | --- |--- |--- | --- | --- |"
   ]
  }
 ],
 "metadata": {
  "kernelspec": {
   "display_name": "Python 3 (ipykernel)",
   "language": "python",
   "name": "python3"
  },
  "language_info": {
   "codemirror_mode": {
    "name": "ipython",
    "version": 3
   },
   "file_extension": ".py",
   "mimetype": "text/x-python",
   "name": "python",
   "nbconvert_exporter": "python",
   "pygments_lexer": "ipython3",
   "version": "3.9.7"
  }
 },
 "nbformat": 4,
 "nbformat_minor": 5
}
