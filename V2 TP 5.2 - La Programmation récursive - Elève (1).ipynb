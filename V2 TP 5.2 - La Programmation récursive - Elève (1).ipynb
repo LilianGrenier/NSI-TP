{
  "metadata": {
    "kernelspec": {
      "name": "python",
      "display_name": "Python (Pyodide)",
      "language": "python"
    },
    "language_info": {
      "codemirror_mode": {
        "name": "python",
        "version": 3
      },
      "file_extension": ".py",
      "mimetype": "text/x-python",
      "name": "python",
      "nbconvert_exporter": "python",
      "pygments_lexer": "ipython3",
      "version": "3.8"
    }
  },
  "nbformat_minor": 5,
  "nbformat": 4,
  "cells": [
    {
      "cell_type": "markdown",
      "source": "---",
      "metadata": {},
      "id": "1443e017"
    },
    {
      "cell_type": "markdown",
      "source": "![Image1.jpg](attachment:Image1.jpg)",
      "metadata": {},
      "attachments": {
        "Image1.jpg": {
          "image/jpeg": "[encoded data removed]"
        }
      },
      "id": "d15d6e61"
    },
    {
      "cell_type": "markdown",
      "source": "# TP5.2 - Paradigme de Programmation - La Programmation Récursive\n\nDurée de l'activité proposé : 3h",
      "metadata": {},
      "id": "aff477f4"
    },
    {
      "cell_type": "markdown",
      "source": "<img src=\"https://github.com/Lionel-Helin-Oza/TP5.2---Programmation-R-cursive/blob/main/arbre.png?raw=true\" width=\"350\">",
      "metadata": {},
      "id": "d3651f9a"
    },
    {
      "cell_type": "markdown",
      "source": "---",
      "metadata": {},
      "id": "5032505f"
    },
    {
      "cell_type": "markdown",
      "source": "\n## Rappels sur l’écriture d’une fonction sur Python \n\nLa syntaxe Python pour la définition d’une fonction est la suivante :\n",
      "metadata": {},
      "id": "746a3eef"
    },
    {
      "cell_type": "code",
      "source": "def nom_fonction(liste de paramètres):\n      bloc d'instructions\n",
      "metadata": {},
      "execution_count": 1,
      "outputs": [
        {
          "ename": "SyntaxError",
          "evalue": "invalid syntax (Temp/ipykernel_18960/1605320303.py, line 1)",
          "output_type": "error",
          "traceback": [
            "\u001b[1;36m  File \u001b[1;32m\"C:\\Users\\lione\\AppData\\Local\\Temp/ipykernel_18960/1605320303.py\"\u001b[1;36m, line \u001b[1;32m1\u001b[0m\n\u001b[1;33m    def nom_fonction(liste de paramètres):\u001b[0m\n\u001b[1;37m                           ^\u001b[0m\n\u001b[1;31mSyntaxError\u001b[0m\u001b[1;31m:\u001b[0m invalid syntax\n"
          ]
        }
      ],
      "id": "6563e83a"
    },
    {
      "cell_type": "markdown",
      "source": "**Exemple :**",
      "metadata": {},
      "id": "f6add868"
    },
    {
      "cell_type": "code",
      "source": "def compteur(stop):\n    i = 0\n    while i < stop:\n        print(i)\n        i = i + 1\n\na = 5\ncompteur(a)\n**Exemple :**",
      "metadata": {
        "scrolled": true
      },
      "execution_count": null,
      "outputs": [],
      "id": "b0f204e1"
    },
    {
      "cell_type": "raw",
      "source": "Une fonction est appelée pour fournir un résultat en fonction des paramètres d’entrée. La « valeur » retournée est alors définie par le « return » (on parle sinon de procédure).",
      "metadata": {},
      "id": "db4b862d"
    },
    {
      "cell_type": "markdown",
      "source": "**Exemple :**",
      "metadata": {},
      "id": "693cb94b"
    },
    {
      "cell_type": "code",
      "source": "import numpy as np\n\ndef cube(n):\n    return n**3\n        \ndef volume_sphere(r):\n    return 4 / 3 * np.pi * cube(r)\n\nr = float(input(\"Entrez la valeur du rayon : \"))\nprint(\"Le volume de cette sphere vaut\", volume_sphere(r))\n",
      "metadata": {},
      "execution_count": null,
      "outputs": [],
      "id": "31dc99bf"
    },
    {
      "cell_type": "markdown",
      "source": "---",
      "metadata": {},
      "id": "9f2c3b8b"
    },
    {
      "cell_type": "markdown",
      "source": "## Notion de Pile d’exécution   \n\n\nUne pile est une structure de données de type LIFO (last in first out) \n\n***Exemple 1*** : Empilement de dossiers \n\nDans une pile de dossiers, le dernier arrivé est le premier traité\n",
      "metadata": {},
      "id": "57a1ad2c"
    },
    {
      "cell_type": "markdown",
      "source": "<img src=\"https://github.com/Lionel-Helin-Oza/TP5.2---Programmation-R-cursive/blob/main/dossiers.png?raw=true\" width=\"150\">",
      "metadata": {},
      "id": "5fc84804"
    },
    {
      "cell_type": "markdown",
      "source": "***Exemple 2*** : Gestion de processus par un système d’exploitation \n\nDans un ordinateur, lorsqu’un « processus 1 » fait appel à un « processus 2 » qui fait lui-même appel à un « processus 3 », l’ensemble est stocké dans une table des processus, propre au noyau du système d’exploitation. Lorsque le « processus 3 » se termine, le système sait qu’il doit revenir au « processus 2 », puis au « processus 1 ». \n",
      "metadata": {},
      "id": "1ad3ad28"
    },
    {
      "cell_type": "markdown",
      "source": "<img src=\"https://github.com/Lionel-Helin-Oza/TP5.2---Programmation-R-cursive/blob/main/Gestion%20des%20processus.png?raw=true\" width=\"350\">",
      "metadata": {},
      "id": "76573bd7"
    },
    {
      "cell_type": "markdown",
      "source": "***Exemple 3*** : Dans un navigateur web, une pile sert à mémoriser les pages Web visitées. L'adresse de chaque nouvelle page visitée est empilée et l'utilisateur désempile l'adresse de la page précédente en cliquant le bouton « Afficher la page précédente » ",
      "metadata": {},
      "id": "29645ff1"
    },
    {
      "cell_type": "markdown",
      "source": "<img src=\"https://github.com/Lionel-Helin-Oza/TP5.2---Programmation-R-cursive/blob/main/nav_web.png?raw=true\" width=\"100\">",
      "metadata": {},
      "id": "d9d236eb"
    },
    {
      "cell_type": "markdown",
      "source": "---",
      "metadata": {},
      "id": "87463cb5"
    },
    {
      "cell_type": "markdown",
      "source": "## Qu’est-ce qu’un algorithme récursif ?   \n\n***Exercice :***\n\nEcrire une fonction **`Somme(n)`** permettant de calculer la somme des n premiers entiers : \n\n                       `                  1+2+3+⋯+n\n\nOn impose l’écriture d’un algorithme dit « impératif » ou « itératif » avec l’utilisation d’une boucle for ou While\n\n",
      "metadata": {},
      "id": "00db1dad"
    },
    {
      "cell_type": "code",
      "source": "# Votre réponse ci-dessous :\ndef Somme(n):\n    somme = 0\n    for i in range(n+1):\n        somme = somme + i\n    return somme",
      "metadata": {
        "trusted": true
      },
      "execution_count": 1,
      "outputs": [],
      "id": "acd216b7"
    },
    {
      "cell_type": "markdown",
      "source": "Il existe une autre manière d’aborder la problématique, avec une formulation peut être plus intuitive. Nous pouvons définir une fonction **`somme(n)`** qui a pour argument un entier naturel n et qui retourne : \n",
      "metadata": {},
      "id": "8d52aa30"
    },
    {
      "cell_type": "markdown",
      "source": "<img src=\"https://github.com/Lionel-Helin-Oza/TP5.2---Programmation-R-cursive/blob/main/fct-somme.jpg?raw=true\" width=\"400\">",
      "metadata": {},
      "id": "7b3e773d"
    },
    {
      "cell_type": "markdown",
      "source": "On voit ici que la somme(n) dépend de la valeur de somme(n-1) . L’appel de la fonction somme(n-1) nécessitera donc de connaître la valeur de somme(n-2), etc. \n\nOn voit donc ici la nécessité d’avoir une condition d’arrêt pour que la fonction puisse s’arrêter. Ici, elle est ici définie par somme(0)=0. \n\n**Question : que se passe-t-il si on appelle la fonction somme(3) ?**\n\n-\t1er appel de la fonction somme avec le paramètre n = 3;\n            o n > 0 donc somme(3)= 3+somme(2) \n            o appel de la fonction somme avec le paramètre n = 2\n\n-\t2e appel de la fonction somme avec le paramètre n = 2 ; \n            o n > 0 donc donc somme(2)= 2+somme(1) \n            o appel de la fonction somme avec le paramètre n = 1\n\n-\t3e appel de la fonction somme avec le paramètre n = 1 ; \n            o n > 0 donc somme(1)= 1+somme(0) \n            o appel de la fonction somme avec le paramètre n = 0\n\n-\t4e appel de la fonction somme avec le paramètre n = 0 ; \n            o n = 0 donc on affecte à l’instruction somme(0) la valeur 0\n\n-\ton \"dépile\" (3e appel, n = 1) : somme(1)=1+0=1\n-\ton \"dépile\" (2e appel, n = 2) :  somme(2)=2+somme(1)=2+1=3\n-\ton \"dépile\" (1er appel, n = 3) : somme(3)=3+somme(2)=3+3=6\n\n\nVoyons la succession des piles d’exécution. \n\n",
      "metadata": {},
      "id": "f3fa0b14"
    },
    {
      "cell_type": "markdown",
      "source": "<img src=\"https://github.com/Lionel-Helin-Oza/TP5.2---Programmation-R-cursive/blob/main/somme_pile.jpg?raw=true\" width=\"600\">",
      "metadata": {},
      "id": "8aa44147"
    },
    {
      "cell_type": "markdown",
      "source": "Il faut remarquer l’ordre d’exécution des sommes. Le calcul des sommes ne commence que lorsque le dernier appel a été fait (somme(0)). \n\nLa séquence des opérations effectuées comporte deux parties : dans la première partie, les appels de la fonction s’enchaînent (on empile). Dans la seconde partie, les sommes sont calculées. À chaque appel récursif, il faut en effet mémoriser les valeurs des variables locales de la fonction.\n",
      "metadata": {},
      "id": "4c3b7920"
    },
    {
      "cell_type": "markdown",
      "source": "### A RETENIR\n\n`Un algorithme récursif est un algorithme qui comporte :` \n-\t`au moins un appel à lui-même`\n-\t`au moins une condition d’arrêt`\n\nLa condition d’arrêt est primordiale pour que l’algorithme se termine. Il conviendra également de vérifier que la valeur utilisée pour appeler la fonction soit dans le domaine de la fonction.\n\n\n***Remarques :***\n\nIl existe plusieurs types de récursivité :\n\n- _récursivité simple_ : un algorithme récursif est simple ou linéaire si chaque cas se résout en au plus un appel récursif. Le calcul de la somme en est un exemple.\n\n- _récursivité multiple_ : un algorithme récursif est multiple si l’un des cas qu’il distingue se résout avec plusieurs appels récursifs. Si \"plusieurs=2\" on parle de récursivité binaire (ou double récursion).\n\n- _récursivité croisée ou mutuelle_ : deux algorithmes sont mutuellement récursifs si l’un fait appel à l’autre et l’autre fait appel à l’un. On parle aussi de récursivité croisée.\n\n- _récursivité imbriquée_ : Un algorithme est récursif imbriqué si l’appel récursif contient lui aussi un appel récursif. \n\n",
      "metadata": {},
      "id": "77dee21f"
    },
    {
      "cell_type": "markdown",
      "source": "---",
      "metadata": {},
      "id": "e1352622"
    },
    {
      "cell_type": "markdown",
      "source": "## Exercices d'application",
      "metadata": {},
      "id": "c2fe5640"
    },
    {
      "cell_type": "markdown",
      "source": "### Partie 1 : Algorithmes récursifs sur des entiers",
      "metadata": {},
      "id": "48ae16d6"
    },
    {
      "cell_type": "markdown",
      "source": "***Exercice 1 :***\n\nQue pensez-vous de la fonction récursive définie par : ",
      "metadata": {},
      "id": "badf8bf5"
    },
    {
      "cell_type": "markdown",
      "source": "<img src=\"https://github.com/Lionel-Helin-Oza/TP5.2---Programmation-R-cursive/blob/main/fct-ex1.jpg?raw=true\" width=\"350\">",
      "metadata": {},
      "id": "3ce6de95"
    },
    {
      "cell_type": "markdown",
      "source": "**Votre réponse ci-dessous :**",
      "metadata": {},
      "id": "a0532f28"
    },
    {
      "cell_type": "raw",
      "source": "Cette fonction récursive ne peut pas fonctionner car le n n'atteindra jamais 0, il n'y a donc pas de condition d'arrêt.",
      "metadata": {},
      "id": "3e1ca7d9"
    },
    {
      "cell_type": "markdown",
      "source": "***Exercice 2 : (Récursivité simple)***\n\nEcrire la fonction somme(n) de manière récursive et l’implémenter sur Python.",
      "metadata": {},
      "id": "f18c7918"
    },
    {
      "cell_type": "code",
      "source": "# Votre réponse ci-dessous : \ndef Somme(n):\n    if n == 0 :\n        return 0\n    if n > 0 :\n        return n + Somme(n-1)",
      "metadata": {},
      "execution_count": 2,
      "outputs": [],
      "id": "1cda8762"
    },
    {
      "cell_type": "markdown",
      "source": "***Exercice 3 : (Récursivité simple)***\n\nEcrire une définition récursive de la fonction **`fact(n)`** permettant de calculer la factorielle de n. \n\nPour rappel : \n\n                                  n!= 1 × 2 × … × n si n>0  et  0!=1\n",
      "metadata": {},
      "id": "285e0d81"
    },
    {
      "cell_type": "code",
      "source": "# Votre réponse ci-dessous : \ndef fact(n):\n    if n <= 1 :\n        return 1\n    if n > 0 :\n        return n * fact(n-1)",
      "metadata": {
        "trusted": true
      },
      "execution_count": 2,
      "outputs": [],
      "id": "8b320d2c"
    },
    {
      "cell_type": "markdown",
      "source": "***Exercice 4 : (comparaison des temps d’éxécution) ***\n\n1. Implémenter, sur Python, une fonction **`puiss_iter (n)`** permettant de calculer la valeur 2^n par une ***méthode itérative (boucle)***.`**\n\n*n est un entier naturel et on rappelle que 2^0=0*\n\n",
      "metadata": {},
      "id": "d44af607-8432-4081-aa23-eb222434842d"
    },
    {
      "cell_type": "code",
      "source": "# Votre réponse ci-dessous : \ndef puiss_iter(n):\n    a = 1\n    if n == 0:\n        return 1\n    for i in range(n):\n        a = a + 2**i\n    return a",
      "metadata": {
        "trusted": true
      },
      "execution_count": 6,
      "outputs": [],
      "id": "2db117f3"
    },
    {
      "cell_type": "markdown",
      "source": "2. Implémenter, sur Python, une fonction **`puiss_rec (n)`** permettant de calculer la valeur 2^n par une ***méthode récursive***.\n\n",
      "metadata": {},
      "id": "c4523dce"
    },
    {
      "cell_type": "code",
      "source": "# Votre réponse ci-dessous : \ndef puiss_rec(n):\n    if n == 0:\n        return 1\n    else :\n        return 2 * puiss_rec(n-1)",
      "metadata": {
        "trusted": true
      },
      "execution_count": 5,
      "outputs": [],
      "id": "8b0940df"
    },
    {
      "cell_type": "markdown",
      "source": "3.\tComparaison des temps d’exécution des algorithmes. \n\nEn complétant les fonctions définies en 1 et 2, remplir les éléments suivants en indiquant les temps d’exécution de chaque algorithme.\n\nIndication pour calculer le temps de calcul d’un programme sous python : \n",
      "metadata": {},
      "id": "96bdded6"
    },
    {
      "cell_type": "code",
      "source": "from timeit import default_timer as timer\nfrom random import randint\n\n#……                             # instructions\ndebut=timer()          # déclenchement du chronomètre\n#…                           # instructions\nfin=timer()                # arrêt du chronomètre\n\ntemps=fin-debut      # calcul du temps d’exécution du programme\nprint(temps)             # affichage du résultat\n",
      "metadata": {},
      "execution_count": 6,
      "outputs": [
        {
          "name": "stdout",
          "output_type": "stream",
          "text": "1.3399999999830214e-05\n"
        }
      ],
      "id": "3f919f9c"
    },
    {
      "cell_type": "markdown",
      "source": "***Pour n=300 :***\n\nTemps d'exécution de la fonction Puiss_iter(n) :...\n\nTemps d'exécution de la fonction Puiss_rec(n) :...",
      "metadata": {},
      "id": "b7c4ba2a"
    },
    {
      "cell_type": "markdown",
      "source": "***Pour n=500 :***\n\nTemps d'exécution de la fonction Puiss_iter(n) :...\n\nTemps d'exécution de la fonction Puiss_rec(n) :...",
      "metadata": {},
      "id": "c052892a"
    },
    {
      "cell_type": "markdown",
      "source": "***Pour n=700 :***\n\nTemps d'exécution de la fonction Puiss_iter(n) :...\n\nTemps d'exécution de la fonction Puiss_rec(n) :...",
      "metadata": {},
      "id": "a141b49c"
    },
    {
      "cell_type": "markdown",
      "source": "***Pour n=900 :***\n\nTemps d'exécution de la fonction Puiss_iter(n) :...\n\nTemps d'exécution de la fonction Puiss_rec(n) :...",
      "metadata": {},
      "id": "df7b02f6"
    },
    {
      "cell_type": "markdown",
      "source": "4. Comparer les deux méthodes. Qu’en déduisez-vous ? ",
      "metadata": {},
      "id": "080a9088"
    },
    {
      "cell_type": "markdown",
      "source": "**Votre réponse en dessous :** ",
      "metadata": {},
      "id": "2577225e"
    },
    {
      "cell_type": "raw",
      "source": "Pour puiss_iter(500) : ≈ 0.0003082 secondes\nPour puiss_rec(500) : ≈ 0.0002226\n\nLa fonction récursive est environ 1,4 fois plus rapide",
      "metadata": {},
      "id": "a54b1e1f"
    },
    {
      "cell_type": "markdown",
      "source": "***Exercice 5 : (Double récursivité)***\n\nOn définit la suite de Fibonacci par :",
      "metadata": {},
      "id": "b29820de"
    },
    {
      "cell_type": "markdown",
      "source": "<img src=\"https://github.com/Lionel-Helin-Oza/TP5.2---Programmation-R-cursive/blob/main/fibo.jpg?raw=true\" width=\"450\">",
      "metadata": {},
      "id": "dee27b3d"
    },
    {
      "cell_type": "markdown",
      "source": "1. Ecrire une fonction permettant de calculer **`fibonacci(n)`** de manière ***récursive***. Afficher les éléments de la suite. ",
      "metadata": {},
      "id": "ff8ad106"
    },
    {
      "cell_type": "code",
      "source": "# Votre réponse ci-dessous :\ndef fibonacci(n):\n    if n == 0:\n        return 0\n    if n == 1:\n        return 1\n    else :\n        return fibonacci(n-2) + fibonacci(n-1)",
      "metadata": {
        "trusted": true
      },
      "execution_count": 1,
      "outputs": [],
      "id": "173299b1"
    },
    {
      "cell_type": "markdown",
      "source": "2.\tEcrire cette même fonction de manière ***itérative***. Afficher les éléments de la suite. \n",
      "metadata": {},
      "id": "72e7d9d8"
    },
    {
      "cell_type": "code",
      "source": "# Votre réponse ci-dessous :\ndef fibonacci(n):\n    if n == 0:\n        return 0\n    elif n == 1:\n        return 1\n    else:\n        a, b = 0, 1\n        for i in range(2, n + 1):\n            a, b = b, a + b\n            print(b)\n        return b",
      "metadata": {},
      "execution_count": 8,
      "outputs": [],
      "id": "f5e59f5e"
    },
    {
      "cell_type": "markdown",
      "source": "3.\tComparer les deux méthodes (Temps de calcul)",
      "metadata": {},
      "id": "5ac88948"
    },
    {
      "cell_type": "markdown",
      "source": "***Votre réponse ci-dessous :***",
      "metadata": {},
      "id": "8d2023fc"
    },
    {
      "cell_type": "raw",
      "source": "from timeit import default_timer as timer\n\ndef fibonacci(n):\n    if n == 0:\n        return 0\n    if n == 1:\n        return 1\n    else :\n        return fibonacci(n-2) + fibonacci(n-1)\n\ndef fibonacci_iter(n):\n    if n == 0:\n        return 0\n    elif n == 1:\n        return 1\n    else:\n        a, b = 0, 1\n        for i in range(2, n + 1):\n            a, b = b, a + b\n        return b\n\ndebut_iter = timer()\na = fibonacci_iter(20)\nfin_iter = timer()\ntemps_iter = fin_iter - debut_iter\n\ndebut = timer()\nb = fibonacci(20)\nfin = timer()\ntemps_recur = fin - debut\n\nprint(temps_iter,temps_recur)\n\nPour l'itérative : 5.3e-06 s \nPour la réursive : 0.0036123 s\n\nLa fonction récursive est plus lente que l'itérative.",
      "metadata": {},
      "id": "022c62de"
    },
    {
      "cell_type": "markdown",
      "source": "---",
      "metadata": {},
      "id": "f7977884"
    },
    {
      "cell_type": "markdown",
      "source": "### Partie 2 : Algorithmes récursifs sur des caractères\n\n\nAvec des chaînes de caractères, la variable régissant la récursivité sera presque tout le temps implicite plutôt qu'explicite: on raisonnera en général sur la longueur de la chaîne de  caractères, en la décrémentant à chaque étape.\n\nLes conditions d'arrêt se feront presque tout le temps sur les chaînes de longueurs nulles ou bien de longueurs 1.\n",
      "metadata": {},
      "id": "07c2eee6"
    },
    {
      "cell_type": "markdown",
      "source": "***Exercice 6 : (Longueur d'une chaîne)***\n\nÉcrire une fonction **`longueur(chaîne)`** prenant pour paramètre une chaîne de caractère, et retournant la longueur de cette chaîne. Il n'est évidemment pas autorisé d'utilisé la fonction standard len(chaîne). On pourra tester si une chaîne est vide à l'aide de la syntaxe chaîne == \"\".",
      "metadata": {},
      "id": "0b600eae"
    },
    {
      "cell_type": "code",
      "source": "# Votre réponse ci-dessous :\n\n",
      "metadata": {},
      "execution_count": 9,
      "outputs": [],
      "id": "36cfc91a"
    },
    {
      "cell_type": "markdown",
      "source": "***Exercice 7 : (Détection d’un palindrome)***\n\nUn palindrome est un mot (de la langue française ou pas) qui peut se lire indifféremment de gauche à droite ou de droite à gauche en gardant la même signification. \n\nAlternativement, un palindrome est un mot qui est identique à son retournement.\n\nPar exemple, LAVAL est un palindrome. Tout comme OXYZYXO (même s'il n'a aucun sens en français et n'existe probablement dans aucune langue humaine).\n\nPar convention, un mot vide sera considéré comme un palindrome. Un mot d’une lettre est un palindrome d'après la définition précédente.\n\n- Écrire une fonction **`palindrome(mot)`** renvoyant True si mot est un palindrome, False sinon. \n\nOn s'interdira d'utiliser la fonction native retourne(chaîne), ou tout autre moyen permettant de retourner une chaîne de caractère pour la comparer à l'originale: votre algorithme doit être spécifiquement écrit pour tester la \"palindromitude\" du mot.\n\n",
      "metadata": {},
      "id": "fdb852d9"
    },
    {
      "cell_type": "code",
      "source": "# Votre réponse ci-dessous :\n\n\n\n",
      "metadata": {},
      "execution_count": 10,
      "outputs": [],
      "id": "fd64e0a9"
    },
    {
      "cell_type": "markdown",
      "source": "---",
      "metadata": {},
      "id": "78fbcd55"
    },
    {
      "cell_type": "markdown",
      "source": "## Pour aller plus loin - Arbre de Pythagore",
      "metadata": {},
      "id": "cc609ea6"
    },
    {
      "cell_type": "markdown",
      "source": "Présentation de l’arbre de Pythagore - L’idée est de tracer un arbre de la manière suivante : \n\nA la fin d’une branche d’une **`longueur`** L, on trace deux branches de longueur L/3, inclinées d’un angle α. \n\nL’opération est réalisée **`n`** fois, **`n`** étant un paramètre que l’utilisateur peut choisir. \n\nL’angle α pourra être fixé par vos soins ( sur la figure suivante, α = 30°, et n=11). \n\nLe raisonnement est bien ici récursif, et l’on créera une fonction **`arbre(n, longueur)`**.\n\n",
      "metadata": {},
      "id": "c7c43f25"
    },
    {
      "cell_type": "markdown",
      "source": "<img src=\"https://github.com/Lionel-Helin-Oza/TP5.2---Programmation-R-cursive/blob/main/arbre.png?raw=true\" width=\"450\">",
      "metadata": {},
      "id": "b66e919b"
    },
    {
      "cell_type": "markdown",
      "source": "Pour tracer cet arbre, vous utiliserez la bibliothèque Turtle de python. \n\nInstruction à placer au début du programme :\n\n**`from turtle import *`**\n\nLe dernier tracé de la fractale s’effectuera en couleur verte (‘green’). Les précédentes en marron.\n\nL’épaisseur du trait sera de plus en plus réduite : width(n)\n",
      "metadata": {},
      "id": "35f102de"
    },
    {
      "cell_type": "markdown",
      "source": "#### Ressources : présentation du module Turtle et des commandes associées :\nCe module permet de faire déplacer un curseur qui s’apparente à une tortue sur l’écran. Il existe toute une série de commandes qui permet de donner des ordres à cette tortue. En voici une liste de commande exhaustive :\n",
      "metadata": {},
      "id": "64949d24"
    },
    {
      "cell_type": "markdown",
      "source": "**reset()** \t: remise à zéro\n\n**forward(…)** \t: avance la tortue\n\n**backward(…)**\t: recule la tortue\n\n**right(…)** \t: fait pivoter la tortue vers la droite\n\n**left(…)** \t: fait pivoter la tortue vers la gauche\n\n**up()** \t    : arrête d’écrire sur l’écran\n\n**down()** \t    : recommence à écrire sur l’écran\n\n**goto(x,y)** \t: emmène la tortue à la coordonnée (x,y)\n\n**width(…)**\t: change l’épaisseur du trait de crayon\n\n**color(…)** \t: change la couleur d’écriture\n\n**position(…)**\t: renvoie les coordonnées de la tortue\n\nLes valeurs à placer dans ces fonctions sont en pixels. \n",
      "metadata": {},
      "id": "62609d13"
    },
    {
      "cell_type": "code",
      "source": "# Votre réponse ci-dessous :\n\n\n\n\n\n\n\n\n\n",
      "metadata": {},
      "execution_count": 11,
      "outputs": [],
      "id": "99a0d30c"
    },
    {
      "cell_type": "markdown",
      "source": "---",
      "metadata": {},
      "id": "f61fd072"
    },
    {
      "cell_type": "markdown",
      "source": "| <span style='color:Blue'> L.HELIN |  | |   | |     |<span style='color:Blue'> NSI Terminale | |   | ||<span style='color:Blue'> Lycée Ozanam (Lille) & Lycée NDPO (Orchies)|\n| --- | --- |--- |--- |--- |--- | --- | --- |--- |--- | --- | --- |",
      "metadata": {},
      "id": "7358b1ca"
    }
  ]
}