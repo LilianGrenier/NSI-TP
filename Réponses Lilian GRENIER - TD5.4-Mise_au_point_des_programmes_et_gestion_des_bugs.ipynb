{
  "cells": [
    {
      "cell_type": "markdown",
      "metadata": {
        "id": "9w6gqUk23GWS"
      },
      "source": [
        " <p align =center> <img src=\"https://github.com/esabahi/NSI_Images/blob/main/NSI-Image.png?raw=true\" width=350>\n",
        "    </p>"
      ]
    },
    {
      "cell_type": "markdown",
      "metadata": {
        "id": "GlWSTcNftLXO"
      },
      "source": [
        "<h1 style=\"font-size: 30px; text-align: center\">TD5.4-Mise au point des programmes et gestion des bugs\n",
        "\n",
        "---\n",
        "\n",
        "# 🟥 Documenter son programme\n",
        "\n",
        "## 🐍 Exercice 1\n",
        "\n",
        "**Q1** : Donnez un meilleur nom et une chaîne de documentation à la fonction suivante.\n",
        "\n",
        "```python\n",
        "def f(a, b):\n",
        "    return a + b\n",
        "```"
      ]
    },
    {
      "cell_type": "code",
      "execution_count": 21,
      "metadata": {
        "id": "DVHmN_5CtLXS"
      },
      "outputs": [],
      "source": [
        "# à vous de jouer !\n",
        "\n",
        "def sommee(a, b):\n",
        "    \"\"\"Fonction qui calcule la somme de deux nombres.\n",
        "\n",
        "    Arguments:\n",
        "        a : type(float)\n",
        "        b : type(float)\n",
        "\n",
        "    Retourne:\n",
        "        la somme de a et b de type(float)\n",
        "    \"\"\"\n",
        "    return a + b"
      ]
    },
    {
      "cell_type": "markdown",
      "metadata": {
        "id": "QkCK4yBztLXU"
      },
      "source": [
        "**Q2** : Utilisez la fonction `help` pour accéder à la chaîne de documentation de cette fonction."
      ]
    },
    {
      "cell_type": "code",
      "execution_count": 22,
      "metadata": {
        "id": "xbFb6lyBtLXU"
      },
      "outputs": [
        {
          "name": "stdout",
          "output_type": "stream",
          "text": [
            "Help on function sommee in module __main__:\n",
            "\n",
            "sommee(a, b)\n",
            "    Fonction qui calcule la somme de deux nombres.\n",
            "    \n",
            "    Arguments:\n",
            "        a : type(float)\n",
            "        b : type(float)\n",
            "    \n",
            "    Retourne:\n",
            "        la somme de a et b de type(float)\n",
            "\n"
          ]
        }
      ],
      "source": [
        "# à vous de jouer !\n",
        "help(sommee)"
      ]
    },
    {
      "cell_type": "markdown",
      "metadata": {
        "id": "nx5ge4bAtLXV"
      },
      "source": [
        "## 🐍 Exercice 2\n",
        "\n",
        "**Q1** : Donnez un meilleur nom et une chaîne de documentation à la fonction suivante, le paramètre `t` étant un tableau.\n",
        "\n",
        "```python\n",
        "def mystere(t):\n",
        "    s = 0\n",
        "    for i in range(len(t)):\n",
        "        s = s + t[i]\n",
        "    return s / n\n",
        "```"
      ]
    },
    {
      "cell_type": "code",
      "execution_count": 23,
      "metadata": {
        "id": "il9m1YvEtLXV"
      },
      "outputs": [
        {
          "data": {
            "text/plain": [
              "3.0"
            ]
          },
          "execution_count": 23,
          "metadata": {},
          "output_type": "execute_result"
        }
      ],
      "source": [
        "# à vous de jouer !\n",
        "\n",
        "def moyenne(tableau):\n",
        "    \"\"\"Fonction qui calcule la moyenne d'un tableau de nombres.\n",
        "\n",
        "    Arguments:\n",
        "        tableau : type(list)\n",
        "\n",
        "    Retourne:\n",
        "        la moyenne des nombres contenus dans le tableau entré en argument de type(float)\n",
        "    \"\"\"\n",
        "    s = 0\n",
        "    n = 0\n",
        "    for i in range(len(tableau)):\n",
        "        s = s + tableau[i]\n",
        "        n = n + 1\n",
        "    return s / n\n",
        "\n",
        "moyenne([1, 2, 3, 4, 5])"
      ]
    },
    {
      "cell_type": "markdown",
      "metadata": {
        "id": "G91FljqJtLXV"
      },
      "source": [
        "**Q2** : Utilisez la fonction `help` pour accéder à la chaîne de documentation de cette fonction."
      ]
    },
    {
      "cell_type": "code",
      "execution_count": 24,
      "metadata": {
        "id": "pjFeagOatLXV"
      },
      "outputs": [
        {
          "name": "stdout",
          "output_type": "stream",
          "text": [
            "Help on function moyenne in module __main__:\n",
            "\n",
            "moyenne(tableau)\n",
            "    Fonction qui calcule la moyenne d'un tableau de nombres.\n",
            "    \n",
            "    Arguments:\n",
            "        tableau : type(list)\n",
            "    \n",
            "    Retourne:\n",
            "        la moyenne des nombres contenus dans le tableau entré en argument de type(float)\n",
            "\n"
          ]
        }
      ],
      "source": [
        "# à vous de jouer !\n",
        "help(moyenne)\n"
      ]
    },
    {
      "cell_type": "markdown",
      "metadata": {
        "id": "KdSb9o6wtLXV"
      },
      "source": [
        "# 🟥 Programmation défensive\n",
        "\n",
        "## 🐍 Exercice 3\n",
        "\n",
        "On considère la fonction `indice_maxi_tab(T)` suivante. À l'aide de la construction `assert`, proposez un test vérifiant si la précondition sur le tableau `T` est validée (*on ne cherchera pas à écrire la fonction*)."
      ]
    },
    {
      "cell_type": "code",
      "execution_count": 25,
      "metadata": {
        "id": "Klk3T4SJtLXW"
      },
      "outputs": [
        {
          "ename": "AssertionError",
          "evalue": "Le tableau est vide",
          "output_type": "error",
          "traceback": [
            "\u001b[1;31m---------------------------------------------------------------------------\u001b[0m",
            "\u001b[1;31mAssertionError\u001b[0m                            Traceback (most recent call last)",
            "\u001b[1;32mc:\\Users\\lili1\\Desktop\\projets\\V1 Lilian GRENIER - TD5.4-Mise_au_point_des_programmes_et_gestion_des_bugs.ipynb Cell 11\u001b[0m line \u001b[0;36m8\n\u001b[0;32m      <a href='vscode-notebook-cell:/c%3A/Users/lili1/Desktop/projets/V1%20Lilian%20GRENIER%20-%20TD5.4-Mise_au_point_des_programmes_et_gestion_des_bugs.ipynb#X13sZmlsZQ%3D%3D?line=1'>2</a>\u001b[0m \u001b[39m    \u001b[39m\u001b[39m\"\"\"\u001b[39;00m\n\u001b[0;32m      <a href='vscode-notebook-cell:/c%3A/Users/lili1/Desktop/projets/V1%20Lilian%20GRENIER%20-%20TD5.4-Mise_au_point_des_programmes_et_gestion_des_bugs.ipynb#X13sZmlsZQ%3D%3D?line=2'>3</a>\u001b[0m \u001b[39m    Renvoie l'indice de la première occurence de la valeur\u001b[39;00m\n\u001b[0;32m      <a href='vscode-notebook-cell:/c%3A/Users/lili1/Desktop/projets/V1%20Lilian%20GRENIER%20-%20TD5.4-Mise_au_point_des_programmes_et_gestion_des_bugs.ipynb#X13sZmlsZQ%3D%3D?line=3'>4</a>\u001b[0m \u001b[39m    maximale du tableau T. T est supposé non vide.\u001b[39;00m\n\u001b[0;32m      <a href='vscode-notebook-cell:/c%3A/Users/lili1/Desktop/projets/V1%20Lilian%20GRENIER%20-%20TD5.4-Mise_au_point_des_programmes_et_gestion_des_bugs.ipynb#X13sZmlsZQ%3D%3D?line=4'>5</a>\u001b[0m \u001b[39m    \"\"\"\u001b[39;00m\n\u001b[0;32m      <a href='vscode-notebook-cell:/c%3A/Users/lili1/Desktop/projets/V1%20Lilian%20GRENIER%20-%20TD5.4-Mise_au_point_des_programmes_et_gestion_des_bugs.ipynb#X13sZmlsZQ%3D%3D?line=5'>6</a>\u001b[0m     \u001b[39massert\u001b[39;00m \u001b[39mlen\u001b[39m(T) \u001b[39m>\u001b[39m \u001b[39m0\u001b[39m, \u001b[39m\"\u001b[39m\u001b[39mLe tableau est vide\u001b[39m\u001b[39m\"\u001b[39m\n\u001b[1;32m----> <a href='vscode-notebook-cell:/c%3A/Users/lili1/Desktop/projets/V1%20Lilian%20GRENIER%20-%20TD5.4-Mise_au_point_des_programmes_et_gestion_des_bugs.ipynb#X13sZmlsZQ%3D%3D?line=7'>8</a>\u001b[0m indice_maxi_tab([])\n",
            "\u001b[1;32mc:\\Users\\lili1\\Desktop\\projets\\V1 Lilian GRENIER - TD5.4-Mise_au_point_des_programmes_et_gestion_des_bugs.ipynb Cell 11\u001b[0m line \u001b[0;36m6\n\u001b[0;32m      <a href='vscode-notebook-cell:/c%3A/Users/lili1/Desktop/projets/V1%20Lilian%20GRENIER%20-%20TD5.4-Mise_au_point_des_programmes_et_gestion_des_bugs.ipynb#X13sZmlsZQ%3D%3D?line=0'>1</a>\u001b[0m \u001b[39mdef\u001b[39;00m \u001b[39mindice_maxi_tab\u001b[39m(T):\n\u001b[0;32m      <a href='vscode-notebook-cell:/c%3A/Users/lili1/Desktop/projets/V1%20Lilian%20GRENIER%20-%20TD5.4-Mise_au_point_des_programmes_et_gestion_des_bugs.ipynb#X13sZmlsZQ%3D%3D?line=1'>2</a>\u001b[0m \u001b[39m    \u001b[39m\u001b[39m\"\"\"\u001b[39;00m\n\u001b[0;32m      <a href='vscode-notebook-cell:/c%3A/Users/lili1/Desktop/projets/V1%20Lilian%20GRENIER%20-%20TD5.4-Mise_au_point_des_programmes_et_gestion_des_bugs.ipynb#X13sZmlsZQ%3D%3D?line=2'>3</a>\u001b[0m \u001b[39m    Renvoie l'indice de la première occurence de la valeur\u001b[39;00m\n\u001b[0;32m      <a href='vscode-notebook-cell:/c%3A/Users/lili1/Desktop/projets/V1%20Lilian%20GRENIER%20-%20TD5.4-Mise_au_point_des_programmes_et_gestion_des_bugs.ipynb#X13sZmlsZQ%3D%3D?line=3'>4</a>\u001b[0m \u001b[39m    maximale du tableau T. T est supposé non vide.\u001b[39;00m\n\u001b[0;32m      <a href='vscode-notebook-cell:/c%3A/Users/lili1/Desktop/projets/V1%20Lilian%20GRENIER%20-%20TD5.4-Mise_au_point_des_programmes_et_gestion_des_bugs.ipynb#X13sZmlsZQ%3D%3D?line=4'>5</a>\u001b[0m \u001b[39m    \"\"\"\u001b[39;00m\n\u001b[1;32m----> <a href='vscode-notebook-cell:/c%3A/Users/lili1/Desktop/projets/V1%20Lilian%20GRENIER%20-%20TD5.4-Mise_au_point_des_programmes_et_gestion_des_bugs.ipynb#X13sZmlsZQ%3D%3D?line=5'>6</a>\u001b[0m     \u001b[39massert\u001b[39;00m \u001b[39mlen\u001b[39m(T) \u001b[39m>\u001b[39m \u001b[39m0\u001b[39m, \u001b[39m\"\u001b[39m\u001b[39mLe tableau est vide\u001b[39m\u001b[39m\"\u001b[39m\n",
            "\u001b[1;31mAssertionError\u001b[0m: Le tableau est vide"
          ]
        }
      ],
      "source": [
        "def indice_maxi_tab(T):\n",
        "    \"\"\"\n",
        "    Renvoie l'indice de la première occurence de la valeur\n",
        "    maximale du tableau T. T est supposé non vide.\n",
        "    \"\"\"\n",
        "    assert len(T) > 0, \"Le tableau est vide\"\n",
        "    \n",
        "indice_maxi_tab([])\n"
      ]
    },
    {
      "cell_type": "markdown",
      "metadata": {
        "id": "NsHDXOfbtLXW"
      },
      "source": [
        "## 🐍 Exercice 4\n",
        "\n",
        "On considère la fonction `quotient(a, b)` suivante. À l'aide de la construction `assert`, proposez un test vérifiant si les préconditions sont validées.\n"
      ]
    },
    {
      "cell_type": "code",
      "execution_count": 56,
      "metadata": {
        "id": "NG5OBDXDtLXW"
      },
      "outputs": [
        {
          "ename": "AssertionError",
          "evalue": "b est n'est pas égal à 0",
          "output_type": "error",
          "traceback": [
            "\u001b[1;31m---------------------------------------------------------------------------\u001b[0m",
            "\u001b[1;31mAssertionError\u001b[0m                            Traceback (most recent call last)",
            "\u001b[1;32mc:\\Users\\lili1\\Desktop\\projets\\V1 Lilian GRENIER - TD5.4-Mise_au_point_des_programmes_et_gestion_des_bugs.ipynb Cell 13\u001b[0m line \u001b[0;36m8\n\u001b[0;32m      <a href='vscode-notebook-cell:/c%3A/Users/lili1/Desktop/projets/V1%20Lilian%20GRENIER%20-%20TD5.4-Mise_au_point_des_programmes_et_gestion_des_bugs.ipynb#X15sZmlsZQ%3D%3D?line=4'>5</a>\u001b[0m     \u001b[39m# TEST A ECRIRE ICI\u001b[39;00m\n\u001b[0;32m      <a href='vscode-notebook-cell:/c%3A/Users/lili1/Desktop/projets/V1%20Lilian%20GRENIER%20-%20TD5.4-Mise_au_point_des_programmes_et_gestion_des_bugs.ipynb#X15sZmlsZQ%3D%3D?line=5'>6</a>\u001b[0m     \u001b[39massert\u001b[39;00m b \u001b[39m!=\u001b[39m \u001b[39m0\u001b[39m, \u001b[39m\"\u001b[39m\u001b[39mb est n\u001b[39m\u001b[39m'\u001b[39m\u001b[39mest pas égal à 0\u001b[39m\u001b[39m\"\u001b[39m\n\u001b[1;32m----> <a href='vscode-notebook-cell:/c%3A/Users/lili1/Desktop/projets/V1%20Lilian%20GRENIER%20-%20TD5.4-Mise_au_point_des_programmes_et_gestion_des_bugs.ipynb#X15sZmlsZQ%3D%3D?line=7'>8</a>\u001b[0m quotient(\u001b[39m1\u001b[39;49m, \u001b[39m0\u001b[39;49m)\n",
            "\u001b[1;32mc:\\Users\\lili1\\Desktop\\projets\\V1 Lilian GRENIER - TD5.4-Mise_au_point_des_programmes_et_gestion_des_bugs.ipynb Cell 13\u001b[0m line \u001b[0;36m6\n\u001b[0;32m      <a href='vscode-notebook-cell:/c%3A/Users/lili1/Desktop/projets/V1%20Lilian%20GRENIER%20-%20TD5.4-Mise_au_point_des_programmes_et_gestion_des_bugs.ipynb#X15sZmlsZQ%3D%3D?line=1'>2</a>\u001b[0m \u001b[39m\u001b[39m\u001b[39m'''\u001b[39;00m\n\u001b[0;32m      <a href='vscode-notebook-cell:/c%3A/Users/lili1/Desktop/projets/V1%20Lilian%20GRENIER%20-%20TD5.4-Mise_au_point_des_programmes_et_gestion_des_bugs.ipynb#X15sZmlsZQ%3D%3D?line=2'>3</a>\u001b[0m \u001b[39mRenvoie la valeur du quotient de a par b, b étant non nul.\u001b[39;00m\n\u001b[0;32m      <a href='vscode-notebook-cell:/c%3A/Users/lili1/Desktop/projets/V1%20Lilian%20GRENIER%20-%20TD5.4-Mise_au_point_des_programmes_et_gestion_des_bugs.ipynb#X15sZmlsZQ%3D%3D?line=3'>4</a>\u001b[0m \u001b[39m'''\u001b[39;00m\n\u001b[0;32m      <a href='vscode-notebook-cell:/c%3A/Users/lili1/Desktop/projets/V1%20Lilian%20GRENIER%20-%20TD5.4-Mise_au_point_des_programmes_et_gestion_des_bugs.ipynb#X15sZmlsZQ%3D%3D?line=4'>5</a>\u001b[0m \u001b[39m# TEST A ECRIRE ICI\u001b[39;00m\n\u001b[1;32m----> <a href='vscode-notebook-cell:/c%3A/Users/lili1/Desktop/projets/V1%20Lilian%20GRENIER%20-%20TD5.4-Mise_au_point_des_programmes_et_gestion_des_bugs.ipynb#X15sZmlsZQ%3D%3D?line=5'>6</a>\u001b[0m \u001b[39massert\u001b[39;00m b \u001b[39m!=\u001b[39m \u001b[39m0\u001b[39m, \u001b[39m\"\u001b[39m\u001b[39mb est n\u001b[39m\u001b[39m'\u001b[39m\u001b[39mest pas égal à 0\u001b[39m\u001b[39m\"\u001b[39m\n",
            "\u001b[1;31mAssertionError\u001b[0m: b est n'est pas égal à 0"
          ]
        }
      ],
      "source": [
        "def quotient(a, b):\n",
        "    '''\n",
        "    Renvoie la valeur du quotient de a par b, b étant non nul.\n",
        "    '''\n",
        "    # TEST A ECRIRE ICI\n",
        "    assert b != 0, \"b est n'est pas égal à 0\"\n",
        "    \n",
        "quotient(1, 0)\n"
      ]
    },
    {
      "cell_type": "markdown",
      "metadata": {
        "id": "th-Kejq1tLXX"
      },
      "source": [
        "# 🟥 Tester ses programmes\n",
        "\n",
        "## 🐍 Exercice 5\n",
        "\n",
        "\n",
        "**Q1** : En utilisant `assert`, donnez un jeu de tests de qualité pour la fonction `multiplication` suivante.\n",
        "\n",
        "**Q2** : Vérifiez ensuite que les tests passent avec succès."
      ]
    },
    {
      "cell_type": "code",
      "execution_count": 57,
      "metadata": {
        "id": "PFxJcBNotLXX"
      },
      "outputs": [],
      "source": [
        "def multiplication(a, b):\n",
        "    '''\n",
        "    Renvoie le produit de a par b,\n",
        "    où a et b sont deux nombres quelconques.\n",
        "    '''\n",
        "    return a * b\n",
        "\n",
        "\n",
        "# jeu de tests à écrire ici\n",
        "assert multiplication(2, 3) == 6\n",
        "assert multiplication(2, -3) == -6\n",
        "assert multiplication(-2, -3) == 6\n",
        "assert multiplication(2, 0) == 0\n",
        "assert multiplication(0, 0) == 0\n",
        "assert multiplication(0, 2) == 0\n",
        "assert multiplication(1,1.5) == 1.5"
      ]
    },
    {
      "cell_type": "markdown",
      "metadata": {
        "id": "sXwgk7MBtLXX"
      },
      "source": [
        "## 🐍 Exercice 6\n",
        "\n",
        "\n",
        "**Q1** : En utilisant `assert`, donnez un jeu de tests de qualité pour la fonction `somme` suivante.\n",
        "\n",
        "**Q2** : Vérifiez ensuite que les tests passent avec succès.\n",
        "\n",
        "```python\n",
        "def somme(t):\n",
        "    '''\n",
        "    Renvoie la somme des éléments du tableau t,\n",
        "    t étant un tableau de nombres\n",
        "    '''\n",
        "    s = 0\n",
        "    for i in range(len(t)):\n",
        "        s = s + t[i]\n",
        "    return s\n",
        "```"
      ]
    },
    {
      "cell_type": "markdown",
      "metadata": {
        "id": "40yxOiF-3B8X"
      },
      "source": []
    },
    {
      "cell_type": "code",
      "execution_count": 64,
      "metadata": {
        "id": "aKd0ZiZ-tLXX"
      },
      "outputs": [],
      "source": [
        "# à vous de jouer !\n",
        "def somme(t):\n",
        "    '''\n",
        "    Renvoie la somme des éléments du tableau t,\n",
        "    t étant un tableau de nombres\n",
        "    '''\n",
        "    if not isinstance(t, list):\n",
        "        return \"t n'est pas un tableau\"\n",
        "    s = 0\n",
        "    for i in range(len(t)):\n",
        "        s = s + t[i]\n",
        "    return s\n",
        "\n",
        "assert somme([1,2,3]) == 6\n",
        "assert somme([]) == 0\n",
        "assert somme([1]) == 1\n",
        "assert somme([0]) == 0\n",
        "assert somme([-1,-2]) == -3\n",
        "assert somme([1.2,1.3]) == 2.5\n",
        "assert somme((1,2)) == \"t n'est pas un tableau\"\n"
      ]
    },
    {
      "cell_type": "markdown",
      "metadata": {
        "id": "9IAWq4P4tLXX"
      },
      "source": [
        "## 🐍 Exercice 7\n",
        "\n",
        "On cherche à écrire une fonction `est_croissant(t)` qui renvoie `True` si le tableau `t` est trié dans l'ordre croissant et `False` sinon.\n",
        "\n",
        "**Q1** : Complétez la fonction `tests_est_croissante` avec un jeu de tests de qualité pour la fonction `est_croissante` (*on ne cherchera pas à écrire le code de la fonction*).\n",
        "\n",
        "> <span style=\"font-size:1.5em\">📣</span> Ici, on écrit tous les tests dans une fonction, qu'il suffira d'appeler par la suite pour lancer les tests"
      ]
    },
    {
      "cell_type": "code",
      "execution_count": 65,
      "metadata": {
        "id": "Zq6KPO6XtLXY"
      },
      "outputs": [],
      "source": [
        "# à vous de jouer !\n",
        "\n",
        "def tests_est_croissante():\n",
        "    \"\"\"\n",
        "    Fonction lançant des tests pour la fonction est_croissante\n",
        "    \"\"\"\n",
        "    # jeu de tests à écrire ici\n",
        "    assert(est_croissant([1,2,3,4])) == True\n",
        "    assert(est_croissant([1,3,2,5])) == False\n",
        "    assert(est_croissant([])) == True\n",
        "    assert(est_croissant([1])) == True\n",
        "    assert(est_croissant((1,2))) == \"t n'est pas un tableau\"\n",
        "    \n"
      ]
    },
    {
      "cell_type": "markdown",
      "metadata": {
        "id": "pWD0ioIvtLXY"
      },
      "source": [
        "**Q2** : Un elève propose le code suivant pour la fonction `est_croissant(t)` de l'exercice précédent. Faites passer vos tests à cette fonction.\n"
      ]
    },
    {
      "cell_type": "code",
      "execution_count": null,
      "metadata": {
        "id": "sIj1-GFktLXY"
      },
      "outputs": [
        {
          "ename": "AssertionError",
          "evalue": "",
          "output_type": "error",
          "traceback": [
            "\u001b[1;31m---------------------------------------------------------------------------\u001b[0m",
            "\u001b[1;31mAssertionError\u001b[0m                            Traceback (most recent call last)",
            "\u001b[1;32mc:\\Users\\lili1\\Desktop\\projets\\V1 Lilian GRENIER - TD5.4-Mise_au_point_des_programmes_et_gestion_des_bugs.ipynb Cell 22\u001b[0m line \u001b[0;36m1\n\u001b[0;32m      <a href='vscode-notebook-cell:/c%3A/Users/lili1/Desktop/projets/V1%20Lilian%20GRENIER%20-%20TD5.4-Mise_au_point_des_programmes_et_gestion_des_bugs.ipynb#X30sZmlsZQ%3D%3D?line=7'>8</a>\u001b[0m             \u001b[39mreturn\u001b[39;00m \u001b[39mFalse\u001b[39;00m\n\u001b[0;32m      <a href='vscode-notebook-cell:/c%3A/Users/lili1/Desktop/projets/V1%20Lilian%20GRENIER%20-%20TD5.4-Mise_au_point_des_programmes_et_gestion_des_bugs.ipynb#X30sZmlsZQ%3D%3D?line=8'>9</a>\u001b[0m     \u001b[39mreturn\u001b[39;00m \u001b[39mTrue\u001b[39;00m\n\u001b[1;32m---> <a href='vscode-notebook-cell:/c%3A/Users/lili1/Desktop/projets/V1%20Lilian%20GRENIER%20-%20TD5.4-Mise_au_point_des_programmes_et_gestion_des_bugs.ipynb#X30sZmlsZQ%3D%3D?line=11'>12</a>\u001b[0m tests_est_croissante()\n",
            "\u001b[1;32mc:\\Users\\lili1\\Desktop\\projets\\V1 Lilian GRENIER - TD5.4-Mise_au_point_des_programmes_et_gestion_des_bugs.ipynb Cell 22\u001b[0m line \u001b[0;36m8\n\u001b[0;32m      <a href='vscode-notebook-cell:/c%3A/Users/lili1/Desktop/projets/V1%20Lilian%20GRENIER%20-%20TD5.4-Mise_au_point_des_programmes_et_gestion_des_bugs.ipynb#X30sZmlsZQ%3D%3D?line=3'>4</a>\u001b[0m \u001b[39m\u001b[39m\u001b[39m\"\"\"\u001b[39;00m\n\u001b[0;32m      <a href='vscode-notebook-cell:/c%3A/Users/lili1/Desktop/projets/V1%20Lilian%20GRENIER%20-%20TD5.4-Mise_au_point_des_programmes_et_gestion_des_bugs.ipynb#X30sZmlsZQ%3D%3D?line=4'>5</a>\u001b[0m \u001b[39mFonction lançant des tests pour la fonction est_croissante\u001b[39;00m\n\u001b[0;32m      <a href='vscode-notebook-cell:/c%3A/Users/lili1/Desktop/projets/V1%20Lilian%20GRENIER%20-%20TD5.4-Mise_au_point_des_programmes_et_gestion_des_bugs.ipynb#X30sZmlsZQ%3D%3D?line=5'>6</a>\u001b[0m \u001b[39m\"\"\"\u001b[39;00m\n\u001b[0;32m      <a href='vscode-notebook-cell:/c%3A/Users/lili1/Desktop/projets/V1%20Lilian%20GRENIER%20-%20TD5.4-Mise_au_point_des_programmes_et_gestion_des_bugs.ipynb#X30sZmlsZQ%3D%3D?line=6'>7</a>\u001b[0m \u001b[39m# jeu de tests à écrire ici\u001b[39;00m\n\u001b[1;32m----> <a href='vscode-notebook-cell:/c%3A/Users/lili1/Desktop/projets/V1%20Lilian%20GRENIER%20-%20TD5.4-Mise_au_point_des_programmes_et_gestion_des_bugs.ipynb#X30sZmlsZQ%3D%3D?line=7'>8</a>\u001b[0m \u001b[39massert\u001b[39;00m(est_croissant([\u001b[39m1\u001b[39m,\u001b[39m2\u001b[39m,\u001b[39m3\u001b[39m,\u001b[39m4\u001b[39m])) \u001b[39m==\u001b[39m \u001b[39mTrue\u001b[39;00m\n\u001b[0;32m      <a href='vscode-notebook-cell:/c%3A/Users/lili1/Desktop/projets/V1%20Lilian%20GRENIER%20-%20TD5.4-Mise_au_point_des_programmes_et_gestion_des_bugs.ipynb#X30sZmlsZQ%3D%3D?line=8'>9</a>\u001b[0m \u001b[39massert\u001b[39;00m(est_croissant([\u001b[39m1\u001b[39m,\u001b[39m3\u001b[39m,\u001b[39m2\u001b[39m,\u001b[39m5\u001b[39m])) \u001b[39m==\u001b[39m \u001b[39mFalse\u001b[39;00m\n\u001b[0;32m     <a href='vscode-notebook-cell:/c%3A/Users/lili1/Desktop/projets/V1%20Lilian%20GRENIER%20-%20TD5.4-Mise_au_point_des_programmes_et_gestion_des_bugs.ipynb#X30sZmlsZQ%3D%3D?line=9'>10</a>\u001b[0m \u001b[39massert\u001b[39;00m(est_croissant([])) \u001b[39m==\u001b[39m \u001b[39mTrue\u001b[39;00m\n",
            "\u001b[1;31mAssertionError\u001b[0m: "
          ]
        }
      ],
      "source": [
        "def est_croissant(t):\n",
        "    \"\"\"\n",
        "    Renvoie True si le tableau t est trié dans l'ordre croissant,\n",
        "    et False sinon.\n",
        "    \"\"\"\n",
        "    for i in range(len(t)):\n",
        "        if t[i+1] > t[i]:\n",
        "            return False\n",
        "    return True\n",
        "\n",
        "\n",
        "tests_est_croissante()"
      ]
    },
    {
      "cell_type": "markdown",
      "metadata": {
        "id": "kmm8ClwPtLXY"
      },
      "source": [
        "**Q3** : Trouvez l'erreur, soit en affichant l'état de certaines variables à des points stratégiques, soit en utilisant l'outil [Python tutor](https://pythontutor.com/python-debugger.html#mode=edit). Quelle est cette erreur ?\n",
        "\n"
      ]
    },
    {
      "cell_type": "raw",
      "metadata": {
        "id": "eIv1-XQdtLXY"
      },
      "source": [
        "Réponse :Il y a un list index out of range ( on doit faire len(t) - 1 dans la boucle ) et il faut inverser le sens du comparateur."
      ]
    },
    {
      "cell_type": "markdown",
      "metadata": {
        "id": "-L62LB19tLXY"
      },
      "source": [
        "**Q4** : Corrigez alors le code de la fonction et vérifiez que tous les tests sont validés."
      ]
    },
    {
      "cell_type": "code",
      "execution_count": 66,
      "metadata": {
        "id": "xEmJJbHBtLXZ"
      },
      "outputs": [],
      "source": [
        "# à vous de jouer !\n",
        "def est_croissant(t):\n",
        "    \"\"\"\n",
        "    Renvoie True si le tableau t est trié dans l'ordre croissant,\n",
        "    et False sinon.\n",
        "    \"\"\"\n",
        "    if not isinstance(t, list):\n",
        "        return \"t n'est pas un tableau\"\n",
        "    for i in range(len(t) - 1):\n",
        "        if t[i+1] < t[i]:\n",
        "            return False\n",
        "    return True\n",
        "\n",
        "\n",
        "tests_est_croissante()"
      ]
    },
    {
      "cell_type": "markdown",
      "metadata": {
        "id": "O8mpgLsYtLXZ"
      },
      "source": [
        "## 🐍 Exercice 8\n",
        "\n",
        "On veut écrire une fonction `annee_naissance(prenom, tab)` qui renvoie l'année de naissance de la personne ayant pour prénom `prenom` dans le tableau `tab`, dont les éléments sont des tuples de la forme (prénom, année de naissance, ville de naissance). Si `prenom` n'apparaît pas dans `tab` alors la fonction doit renvoyer `None`.\n",
        "\n",
        "Exemple :\n",
        "\n",
        "```python\n",
        ">>> tab = [('Lucas', 2002, 'Marseille'), ('Élodie', 2003, 'Angers'), ('Marie', 2001, 'Angers'), ('Jade', 2007, 'New York')]\n",
        ">>> annee_naissance('Marie', tab)\n",
        "2001\n",
        "```"
      ]
    },
    {
      "cell_type": "markdown",
      "metadata": {
        "id": "qfK5fzOVtLXZ"
      },
      "source": [
        "**Q1** : Proposez une fonction `test_annee_naissance` qui permettra de tester la fonction `annee_naissance` grâce à un jeu de tests bien choisi."
      ]
    },
    {
      "cell_type": "code",
      "execution_count": 69,
      "metadata": {
        "id": "aLZy5wPstLXZ"
      },
      "outputs": [],
      "source": [
        "# à vous de jouer !\n",
        "def test_annee_naissance():\n",
        "    assert annee_naissance('Lucas',[('Lucas', 2002, 'Marseille'), ('Élodie', 2003, 'Angers'), ('Marie', 2001, 'Angers'), ('Jade', 2007, 'New York')]) == 2002\n",
        "    assert annee_naissance('Devrim',[('Lucas', 2002, 'Marseille'), ('Élodie', 2003, 'Angers'), ('Marie', 2001, 'Angers'), ('Jade', 2007, 'New York')]) == None\n",
        "    assert annee_naissance('Lucas',[]) == None\n",
        "    assert annee_naissance('Marie',[('Lucas', 2002, 'Marseille'), ('Élodie', 2003, 'Angers'), ('Marie', 2001, 'Angers'), ('Jade', 2007, 'New York'), ('Lucas', 2002, 'Marseille')]) == 2001\n",
        "    assert annee_naissance(10,[('Lucas', 2002, 'Marseille'), ('Élodie', 2003, 'Angers'), ('Marie', 2001, 'Angers'), ('Jade', 2007, 'New York')]) == \"nom n'est pas une chaine de caractère\"\n",
        "    assert annee_naissance('Lucas',10) == \"tab n'est pas un tableau\"\n",
        "    "
      ]
    },
    {
      "cell_type": "markdown",
      "metadata": {
        "id": "yXwIQzz8tLXa"
      },
      "source": [
        "**Q2** : Écrivez la fonction `annee_naissance(prenom, tab)` et vérifiez qu'elle passe tous les tests."
      ]
    },
    {
      "cell_type": "code",
      "execution_count": 70,
      "metadata": {
        "id": "Vfh9M-uHtLXa"
      },
      "outputs": [
        {
          "name": "stdout",
          "output_type": "stream",
          "text": [
            "Help on function annee_naissance in module __main__:\n",
            "\n",
            "annee_naissance(nom, tab)\n",
            "    Fonction qui renvoie l'année de naissance d'une personne si elle est dans le tableau.\n",
            "    \n",
            "    Arguments:\n",
            "        nom : type(str)\n",
            "        tab : type(list)\n",
            "    \n",
            "    Retourne:\n",
            "        L'année de naissance de la personne si elle est dans le tableau, sinon renvoie None.\n",
            "\n"
          ]
        }
      ],
      "source": [
        "# à vous de jouer !\n",
        "def annee_naissance(nom, tab):\n",
        "    \"\"\"Fonction qui renvoie l'année de naissance d'une personne si elle est dans le tableau.\n",
        "\n",
        "    Arguments:\n",
        "        nom : type(str)\n",
        "        tab : type(list)\n",
        "\n",
        "    Retourne:\n",
        "        L'année de naissance de la personne si elle est dans le tableau, sinon renvoie None.\n",
        "    \"\"\"\n",
        "    if not isinstance(nom, str):\n",
        "        return \"nom n'est pas une chaine de caractère\"\n",
        "    if not isinstance(tab, list):\n",
        "        return \"tab n'est pas un tableau\"\n",
        "    for i in range(len(tab)):\n",
        "        if tab[i][0] == nom:\n",
        "            return tab[i][1]\n",
        "    return None\n",
        "\n",
        "test_annee_naissance()\n",
        "help(annee_naissance)"
      ]
    },
    {
      "cell_type": "markdown",
      "metadata": {
        "id": "fFzA0QTstLXa"
      },
      "source": [
        "## 🐍 Exercice 9\n",
        "\n",
        "On veut écrire une fonction `meilleure_note` qui prend en paramètre un dictionnaire `resultats` dans lequel les clés sont des prénoms d'élèves et leurs valeurs associées sont des notes à un devoir, et qui renvoie la meilleure note à ce devoir.\n",
        "\n",
        "Exemple :\n",
        "\n",
        "```python\n",
        ">>> meilleure_note({'Marie': 15, 'Laurent': 12, 'Julie': 18, 'Antoine': 17})\n",
        "18\n",
        "```\n",
        "\n",
        "**Q1** : Écrivez la chaîne de documentation de cette fonction `meilleure_note` pour y intégrer directement les tests."
      ]
    },
    {
      "cell_type": "code",
      "execution_count": 59,
      "metadata": {
        "id": "qXHTCkxUtLXa"
      },
      "outputs": [
        {
          "data": {
            "text/plain": [
              "15"
            ]
          },
          "execution_count": 59,
          "metadata": {},
          "output_type": "execute_result"
        }
      ],
      "source": [
        "# à vous de jouer !\n",
        "def meilleure_note(resultats : dict):\n",
        "    \"\"\"Fonction qui renvoie la meilleure note d'un élève.\n",
        "\n",
        "    Arguments:\n",
        "        resultats : type(dict)\n",
        "\n",
        "    Retourne:\n",
        "        La meilleure note de tous les élèves.\n",
        "\n",
        "    >>> meilleure_note({'Maths': 12, 'Physique': 15, 'SVT': 8})\n",
        "    15\n",
        "    >>> meilleure_note({'Maths': 12, 'Physique': 15, 'SVT': 8, 'Français': 15})\n",
        "    15\n",
        "    >>> meilleure_note({'Maths': 12, 'Physique': 15, 'SVT': 8, 'Français': 15, 'Anglais': 20})\n",
        "    20\n",
        "    >>> meilleure_note({})\n",
        "    \"il n'y a pas de notes\"\n",
        "    >>> meilleure_note([])\n",
        "    \"resultats n'est pas un dictionnaire\"\n",
        "\n",
        "    \"\"\"\n",
        "    maxi = 0\n",
        "    if resultats == {}:\n",
        "        return \"il n'y a pas de notes\"\n",
        "    if not isinstance(resultats, dict):\n",
        "        return \"resultats n'est pas un dictionnaire\"\n",
        "    \n",
        "    for i in resultats:\n",
        "        if resultats[i] > maxi:\n",
        "            maxi = resultats[i]\n",
        "    return maxi\n",
        "\n",
        "meilleure_note({'Devrim': 12, 'Lilian': 15, 'Noa': 8})\n"
      ]
    },
    {
      "cell_type": "markdown",
      "metadata": {
        "id": "OcebVU6dtLXa"
      },
      "source": [
        "**Q2** : Écrivez le code de cette fonction.\n",
        "\n",
        "**Q3** : Utilisez le module `doctest` pour vérifier les tests intégrés à la chaîne de documentation. Modifiez la fonction si les tests échouent."
      ]
    },
    {
      "cell_type": "code",
      "execution_count": 60,
      "metadata": {
        "id": "1toYlgoAtLXb"
      },
      "outputs": [
        {
          "name": "stdout",
          "output_type": "stream",
          "text": [
            "Finding tests in NoName\n",
            "Trying:\n",
            "    meilleure_note({'Maths': 12, 'Physique': 15, 'SVT': 8})\n",
            "Expecting:\n",
            "    15\n",
            "ok\n",
            "Trying:\n",
            "    meilleure_note({'Maths': 12, 'Physique': 15, 'SVT': 8, 'Français': 15})\n",
            "Expecting:\n",
            "    15\n",
            "ok\n",
            "Trying:\n",
            "    meilleure_note({'Maths': 12, 'Physique': 15, 'SVT': 8, 'Français': 15, 'Anglais': 20})\n",
            "Expecting:\n",
            "    20\n",
            "ok\n",
            "Trying:\n",
            "    meilleure_note({})\n",
            "Expecting:\n",
            "    \"il n'y a pas de notes\"\n",
            "ok\n",
            "Trying:\n",
            "    meilleure_note([])\n",
            "Expecting:\n",
            "    \"resultats n'est pas un dictionnaire\"\n",
            "ok\n"
          ]
        }
      ],
      "source": [
        "# à vous de jouer !\n",
        "import doctest\n",
        "doctest.run_docstring_examples(meilleure_note, globals(), verbose=True)"
      ]
    },
    {
      "cell_type": "markdown",
      "metadata": {
        "id": "5O7H9-ektLXb"
      },
      "source": [
        "---\n",
        "\n",
        "**Références :**\n",
        "- Documents ressources du DIU EIL Nantes, C. DECLERCQ.\n",
        "- Numérique et Sciences Informatiques, 1re, T. BALABONSKI, S. CONCHON, J.-C. FILLIATRE, K. NGUYEN, éditions ELLIPSES : [Site du livre](https://www.nsi-premiere.fr/)\n",
        "-Germain BECKER & Sébastien POINT, Lycée Mounier, ANGERS"
      ]
    },
    {
      "cell_type": "markdown",
      "metadata": {
        "id": "3AMQDjOf4CpJ"
      },
      "source": [
        "| <span style='color:Blue'> L.H & E.S |  | |   | |     |<span style='color:Blue'> NSI Terminale | |   | ||<span style='color:Blue'> Lycée Ozanam (Lille)|\n",
        "| --- | --- |--- |--- |--- |--- | --- | --- |--- |--- | --- | --- |"
      ]
    }
  ],
  "metadata": {
    "colab": {
      "provenance": []
    },
    "kernelspec": {
      "display_name": "Python 3",
      "language": "python",
      "name": "python3"
    },
    "language_info": {
      "codemirror_mode": {
        "name": "ipython",
        "version": 3
      },
      "file_extension": ".py",
      "mimetype": "text/x-python",
      "name": "python",
      "nbconvert_exporter": "python",
      "pygments_lexer": "ipython3",
      "version": "3.9.13"
    }
  },
  "nbformat": 4,
  "nbformat_minor": 0
}
