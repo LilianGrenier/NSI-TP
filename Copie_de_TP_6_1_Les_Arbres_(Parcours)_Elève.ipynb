{
  "cells": [
    {
      "cell_type": "markdown",
      "id": "1443e017",
      "metadata": {
        "id": "1443e017"
      },
      "source": [
        "---"
      ]
    },
    {
      "cell_type": "markdown",
      "id": "d15d6e61",
      "metadata": {
        "id": "d15d6e61"
      },
      "source": [
        "<img src=\"https://github.com/Lionel-Helin-Oza/Images_Notebook/blob/main/NSI-Image.png?raw=true\" alt=\"drawing\" width=\"350\">"
      ]
    },
    {
      "cell_type": "markdown",
      "id": "aff477f4",
      "metadata": {
        "id": "aff477f4"
      },
      "source": [
        "# TP6.1 - Les Arbres - Comment parcourir un Arbre ?\n",
        "\n",
        "Durée de l'activité proposé : 2h"
      ]
    },
    {
      "cell_type": "markdown",
      "id": "d3651f9a",
      "metadata": {
        "id": "d3651f9a"
      },
      "source": [
        "<img src=\"https://github.com/Lionel-Helin-Oza/TP2.3-Les-Arbres-Impl-mentation-/blob/main/Image1.png?raw=true\" width=\"350\">"
      ]
    },
    {
      "cell_type": "markdown",
      "id": "9f2c3b8b",
      "metadata": {
        "id": "9f2c3b8b"
      },
      "source": [
        "---"
      ]
    },
    {
      "cell_type": "markdown",
      "id": "bcf7f79f",
      "metadata": {
        "id": "bcf7f79f"
      },
      "source": [
        "## <span style='color:Red'> *Préambule*   \n",
        "\n",
        "\n",
        "Ce TP vient à la suite du **TP 2.3 sur l’implémentation des arbres binaires**.\n",
        "\n",
        "Le corrigé de ce TP 2.3 vous est donc donné ci-dessous afin de permettre à chacun de travailler sur la notion de parcours, même si vous n’avez pas réussi l’implémentation.\n",
        "    \n",
        "**Le code ci-dessous est donc à exécuter avant de traiter les exercices suivants.**\n",
        "\n",
        "Vous utiliserez donc l’implémentation proposé (ainsi que les notations) dans ce corrigé pour les exercices suivants.\n"
      ]
    },
    {
      "cell_type": "code",
      "execution_count": null,
      "id": "1b5289e8",
      "metadata": {
        "id": "1b5289e8",
        "outputId": "6c23268a-7b8a-43bd-fbb4-7e1a51b83278",
        "colab": {
          "base_uri": "https://localhost:8080/"
        }
      },
      "outputs": [
        {
          "output_type": "stream",
          "name": "stdout",
          "text": [
            "[ Contenu : 8 / Fils Gauche : [ Contenu : 3 / Fils Gauche : [ Contenu : 1 / Fils Gauche : None / Fils Droit : None ]  / Fils Droit : [ Contenu : 6 / Fils Gauche : [ Contenu : 4 / Fils Gauche : None / Fils Droit : None ]  / Fils Droit : [ Contenu : 7 / Fils Gauche : None / Fils Droit : None ]  ]  ]  / Fils Droit : [ Contenu : 10 / Fils Gauche : None / Fils Droit : [ Contenu : 14 / Fils Gauche : [ Contenu : 13 / Fils Gauche : None / Fils Droit : None ]  / Fils Droit : None ]  ]  ] \n"
          ]
        }
      ],
      "source": [
        "##################################################################\n",
        "# TP 2.3 - Implémentation des Arbres - Proposition de Correction #\n",
        "##################################################################\n",
        "\n",
        "class ArbreBinaire:\n",
        "  def __init__(self, valeur):\n",
        "    self.contenu = valeur\n",
        "    self.filsGauche = None\n",
        "    self.filsDroit = None\n",
        "\n",
        "  def ajoutFilsGauche(self, valeur):\n",
        "    if self.filsGauche == None :\n",
        "      self.filsGauche = ArbreBinaire(valeur)\n",
        "    else :\n",
        "      self.filsGauche.ajoutFilsGauche(valeur)\n",
        "\n",
        "  def ajoutFilsDroit(self, valeur):\n",
        "    if self.filsDroit == None :\n",
        "      self.filsDroit = ArbreBinaire(valeur)\n",
        "    else :\n",
        "      self.filsDroit.ajoutFilsDroit(valeur)\n",
        "\n",
        "  def ajoutContenu(self, valeur):\n",
        "    if valeur != self.contenu:\n",
        "      if valeur < self.contenu:\n",
        "        if self.filsGauche == None:      # On peut utiliser la méthode ajoutFilsGauche\n",
        "          self.filsGauche = ArbreBinaire(valeur)\n",
        "        else:\n",
        "          self.filsGauche.ajoutContenu(valeur)\n",
        "      else:\n",
        "        if self.filsDroit == None:      # On peut utiliser la méthode ajoutFilsDroit\n",
        "          self.filsDroit = ArbreBinaire(valeur)\n",
        "        else:\n",
        "          self.filsDroit.ajoutContenu(valeur)\n",
        "\n",
        "  def __str__(self):\n",
        "    return (\"[ Contenu : {} / Fils Gauche : {} / Fils Droit : {} ] \".format(self.contenu, self.filsGauche, self.filsDroit));\n",
        "\n",
        "\n",
        "# Test de la création d'un arbre\n",
        "\n",
        "arbreWiki = ArbreBinaire(8)           # Instanciation de la racine de l'arbre avec la valeur 8\n",
        "arbreWiki.ajoutContenu(3)             # Ajout des données\n",
        "arbreWiki.ajoutContenu(10)\n",
        "arbreWiki.ajoutContenu(1)\n",
        "arbreWiki.ajoutContenu(6)\n",
        "arbreWiki.ajoutContenu(14)\n",
        "arbreWiki.ajoutContenu(4)\n",
        "arbreWiki.ajoutContenu(7)\n",
        "arbreWiki.ajoutContenu(13)\n",
        "\n",
        "print(arbreWiki)\n",
        "\n",
        "###################\n",
        "# Correction Ex 4 #\n",
        "###################\n",
        "def taille(arbre):\n",
        "  somme = 0                               # On crée une variable pour sommer les tailles des sous-arbres\n",
        "  if (arbre.filsGauche != None):\n",
        "    somme += taille(arbre.filsGauche)     # On récupère la taille du sous-arbre gauche, s'il existe, et l'additionne\n",
        "  if (arbre.filsDroit != None):\n",
        "    somme += taille(arbre.filsDroit)      # On récupère la taille du sous-arbre droit, s'il existe, et l'additionne\n",
        "  return somme + 1                        # On retourne la taille totale + 1 qui correspond à la taille du noeud courant\n",
        "\n",
        "# Autre implémentation possible de la fonction taille\n",
        "\n",
        "def taille2(arbre):\n",
        "    if arbre == None:\n",
        "        return 0\n",
        "    else :\n",
        "        return (1 + taille2(arbre.filsGauche)+ taille2(arbre.filsDroit))\n",
        "\n",
        "###################\n",
        "# Correction Ex 5 #\n",
        "###################\n",
        "def hauteur(arbre):\n",
        "\n",
        "  hauteurFilsGauche = -1                   # On crée une variable pour récupérer la taille du sous-arbres Gauche\n",
        "  hauteurFilsDroit = -1                    # On crée une variable pour récupérer la taille du sous-arbres Droit\n",
        "  if (arbre.filsGauche != None):\n",
        "    hauteurFilsGauche = hauteur(arbre.filsGauche)     # On récupère la hauteur du sous-arbre gauche, s'il existe\n",
        "  if (arbre.filsDroit != None):\n",
        "    hauteurFilsDroit = hauteur(arbre.filsDroit)       # On récupère la hauteur du sous-arbre droit, s'il existe\n",
        "  return max(hauteurFilsGauche, hauteurFilsDroit) + 1 # On retourne la hauteur max + 1 qui correspond à la hauteur du noeud courant\n",
        "\n",
        "# Autre implémentation possible de la fonction hauteur\n",
        "\n",
        "def hauteur2(arbre):\n",
        "\n",
        "    if arbre is None:\n",
        "        return -1\n",
        "    else:\n",
        "        return 1 + max(hauteur2(arbre.filsGauche), hauteur2(arbre.filsDroit))\n",
        "\n",
        "\n",
        "###################\n",
        "# Correction Ex 6 #\n",
        "###################\n",
        "\n",
        "def appartient(x,Arbre):\n",
        "\n",
        "    if Arbre == None:\n",
        "        return False\n",
        "    elif Arbre.contenu == x:\n",
        "        return True\n",
        "    elif Arbre.contenu > x:\n",
        "        return appartient(x, Arbre.filsGauche)\n",
        "    else:\n",
        "        return appartient(x, Arbre.filsDroit)\n",
        "\n"
      ]
    },
    {
      "cell_type": "markdown",
      "id": "fb4f39e3",
      "metadata": {
        "id": "fb4f39e3"
      },
      "source": [
        "---"
      ]
    },
    {
      "cell_type": "markdown",
      "id": "1a0e8bd3",
      "metadata": {
        "id": "1a0e8bd3"
      },
      "source": [
        "## <span style='color:Red'> Quelques rappels : Comment parcourir un arbre ?\n",
        "\n",
        "## *1)\tDéfinition générale*\n",
        "    \n",
        "*Étant donné un arbre, un parcours est un processus qui part d'un nœud, et visite tous les nœuds du graphe une seule fois, avec la contrainte qu'un nœud ne peut être visité que si l'un de ses voisins a été visité. Dans le cas des arbres, le nœud de départ est souvent la racine, et le parcours passe donc des parents aux enfants. (Wikipédia).*\n",
        "\n",
        "Il existe plusieurs manières de parcourir un Arbre.\n",
        "\n",
        "Nous prendrons dans ce qui suit, l’exemple de l’arbre ci-dessous (Arbre Binaire de recherche du TP2.3)  :\n"
      ]
    },
    {
      "cell_type": "markdown",
      "id": "1eaf1b08",
      "metadata": {
        "id": "1eaf1b08"
      },
      "source": [
        "<img src=\"https://github.com/Lionel-Helin-Oza/TP2.3-Les-Arbres-Impl-mentation-/blob/main/Image6.png?raw=true\" width=\"300\">"
      ]
    },
    {
      "cell_type": "markdown",
      "id": "07e7b483",
      "metadata": {
        "id": "07e7b483"
      },
      "source": [
        "## *2)\tExplorer les arbres en profondeur*\n",
        "\n",
        "\n",
        "Pour parcourir un arbre nous pouvons nous y prendre de plusieurs manières. La plus évidente est la manière dite \"en profondeur\". Cela sous-entend que nous allons explorer chaque branche, jusqu'aux feuilles avant de passer à la branche d'à côté.\n",
        "\n",
        "Travaillons maintenant sur l'implémentation Python de ce type de parcours.\n"
      ]
    },
    {
      "cell_type": "markdown",
      "id": "265ea2da",
      "metadata": {
        "id": "265ea2da"
      },
      "source": [
        "### <span style='color:Blue'> Exercice 1 (Parcours en profondeur - PREFIXE)\n",
        "\n",
        "Ci-dessous nous allons voir comment nous déplacer dans un arbre. Voici ce que fait la fonction :\n",
        "\n",
        "+ afficher le contenu de l'arbre passé en paramètre\n",
        "+ Si il y a un fils Gauche, on relance la fonction sur le sous-arbre Gauche (récursion)\n",
        "+ Si il y a un fils Droit, on relance la fonction sur le sous-arbre Droit (récursion)\n",
        "\n",
        "**1 - Compléter le code ci-dessous pour réaliser le parcours en profondeur de l’arbre « Wiki>**\n",
        "\n",
        "Vous devez obtenir le résultat suivant : 8 3 1 6 4 7 10 14 13  \n",
        "\n",
        "(Vous comparerez la sortie de la fonction avec l'arbre, et vous pourrez constater que l'algorithme va d'abord aller \"au plus profond\" avant de monter d'un cran pour essayer par une autre branche, et ce, ainsi de suite jusqu'à avoir terminé l'exploration).\n"
      ]
    },
    {
      "cell_type": "markdown",
      "id": "e67801e6",
      "metadata": {
        "id": "e67801e6"
      },
      "source": [
        "***Votre réponse ci-dessous :*** ( code à compléter, voir commentaires pour vous guider en fin de ligne)"
      ]
    },
    {
      "cell_type": "code",
      "execution_count": null,
      "id": "aa796d47",
      "metadata": {
        "id": "aa796d47"
      },
      "outputs": [],
      "source": [
        "def parcoursProfondeurPrefixe(arbre):\n",
        "  print (arbre.contenu, end=\" \")   # On affiche le contenu de la racine de l'arbre passé en paramètre\n",
        "  if arbre.filsGauche:\n",
        "    parcoursProfondeurPrefixe(arbre.filsGauche)\n",
        "  if arbre.filsDroit:\n",
        "    parcoursProfondeurPrefixe(arbre.filsDroit)                                            # Y a-t'il un fils Gauche\n",
        "                                            # Oui donc on se relance dessus (recursion sur le sous-arbre gauche)\n",
        "                                            # Y a-t'il un fils Droit\n",
        "                                            # Oui donc on se relance dessus (recursion sur le sous-arbre droit)\n"
      ]
    },
    {
      "cell_type": "markdown",
      "id": "bd213199",
      "metadata": {
        "id": "bd213199"
      },
      "source": [
        "**2 - Tester votre fonction sur l'arbre Wiki**"
      ]
    },
    {
      "cell_type": "code",
      "execution_count": null,
      "id": "a2753c44",
      "metadata": {
        "id": "a2753c44",
        "colab": {
          "base_uri": "https://localhost:8080/"
        },
        "outputId": "609c7c8d-5a45-4a20-cde0-d27a4df8a7f5"
      },
      "outputs": [
        {
          "output_type": "stream",
          "name": "stdout",
          "text": [
            "8 3 1 6 4 7 10 14 13 "
          ]
        }
      ],
      "source": [
        "# Votre réponse ci-dessous ( test de la fonction):\n",
        "\n",
        "parcoursProfondeurPrefixe(arbreWiki)\n"
      ]
    },
    {
      "cell_type": "markdown",
      "id": "52fa9b77",
      "metadata": {
        "id": "52fa9b77"
      },
      "source": [
        "---"
      ]
    },
    {
      "cell_type": "markdown",
      "id": "48098c62",
      "metadata": {
        "id": "48098c62"
      },
      "source": [
        "## *3)\tParcours PRÉFIXE / INFIXE / POSTFIXE*"
      ]
    },
    {
      "cell_type": "markdown",
      "id": "7b3138e9",
      "metadata": {
        "id": "7b3138e9"
      },
      "source": [
        "Si nous revenons aux parcours en profondeurs, il y a une notion importante à remarquer.\n",
        "\n",
        "Lorsque nous parcourons un arbre, il y a toujours un moment où l'on traite le contenu. Prenons l'exemple d'une fonction qui a pour but d'afficher le contenu de l'arbre. Comme nous l'avons vu, cette fonction sera récursive, et se relancera sur les fils lorsqu'ils existent.\n",
        "\n",
        "Comme nous l'avons vu, la fonction fera donc les opérations suivantes :\n",
        "\n",
        "+ Afficher le contenu\n",
        "+ Se relancer sur le fils gauche s'il existe (récursion)\n",
        "+ Se relancer sur le fils droit s'il existe (récursion)\n",
        "Rien de neuf.\n",
        "\n",
        "Cependant nous pouvons nous poser la question d'à quel moment nous faisons \"Afficher le contenu du noeud\" ?\n",
        "\n",
        "En effet, rien n’oblige de le faire en premier... Pourquoi pas en dernier, voire même au milieu...\n",
        "\n",
        "Cela va uniquement impacter l'ordre dans lequel les valeurs seront affichées.\n",
        "\n"
      ]
    },
    {
      "cell_type": "markdown",
      "id": "03cdd82e",
      "metadata": {
        "id": "03cdd82e"
      },
      "source": [
        "***- Le parcours préfixe.***\n",
        "\n",
        "On qualifiera de préfixe, le parcours qui opérera sur le contenu d'un nœud, la première fois qu'il le rencontre !\n",
        "⇒ cela revient à traiter la racine, parcourir le sous-arbre gauche, puis le sous-arbre droit\n",
        "\n",
        "Pour l’arbre « Wiki », nous devons obtenir le parcours : 8 3 1 6 4 7 10 14 13\n",
        "\n",
        "Ce parcours est celui que nous avons implémenter à l'exercice 1.\n"
      ]
    },
    {
      "cell_type": "markdown",
      "id": "ae40589d",
      "metadata": {
        "id": "ae40589d"
      },
      "source": [
        "***- Le parcours Suffixe ou Postfixe.***\n",
        "\n",
        "On qualifiera de suffixe ou postfixe, le parcours qui opérera sur le contenu d'un nœud, la dernière fois qu'il le rencontre !\n",
        "\n",
        "⇒ cela revient à parcourir le sous-arbre gauche, parcourir le sous-arbre droit, puis traiter la racine.\n",
        "\n",
        "Pour l’arbre « Wiki », nous devons obtenir le parcours : 1 4 7 6 3 13 14 10 8\n"
      ]
    },
    {
      "cell_type": "markdown",
      "id": "503d9871",
      "metadata": {
        "id": "503d9871"
      },
      "source": [
        "### <span style='color:Blue'> Exercice 2 (Parcours en profondeur - SUFFIXE)\n",
        "    \n",
        "**1 - Ecrire la fonction `def parcoursProfondeurSuffixe(arbre)` permettant de parcourir un Arbre suivant le parcours suffixe présenté ci-dessus.**"
      ]
    },
    {
      "cell_type": "code",
      "execution_count": null,
      "id": "c29774cb",
      "metadata": {
        "scrolled": false,
        "id": "c29774cb"
      },
      "outputs": [],
      "source": [
        "# Votre réponse ci-dessous :\n",
        "\n",
        "def parcoursProfondeurSuffixe(arbre):\n",
        "  if arbre.filsGauche:\n",
        "    parcoursProfondeurSuffixe(arbre.filsGauche)\n",
        "  if arbre.filsDroit:\n",
        "    parcoursProfondeurSuffixe(arbre.filsDroit)\n",
        "  print(arbre.contenu,end = ' ')\n",
        "\n",
        "\n",
        "\n"
      ]
    },
    {
      "cell_type": "markdown",
      "id": "40de6118",
      "metadata": {
        "id": "40de6118"
      },
      "source": [
        "**2 - Tester votre fonction sur l'arbre Wiki**"
      ]
    },
    {
      "cell_type": "code",
      "execution_count": null,
      "id": "60e21697",
      "metadata": {
        "id": "60e21697",
        "colab": {
          "base_uri": "https://localhost:8080/"
        },
        "outputId": "bf37481b-f32a-4af0-9fe1-eb788d9d3f06"
      },
      "outputs": [
        {
          "output_type": "stream",
          "name": "stdout",
          "text": [
            "1 4 7 6 3 13 14 10 8 "
          ]
        }
      ],
      "source": [
        "# Votre réponse ci-dessous ( test de la fonction):\n",
        "\n",
        "parcoursProfondeurSuffixe(arbreWiki)"
      ]
    },
    {
      "cell_type": "markdown",
      "id": "3333bfd2",
      "metadata": {
        "id": "3333bfd2"
      },
      "source": [
        "***- Le parcours Infixe.***\n",
        "\n",
        "Enfin, entre le préfixe et le suffixe, nous allons trouver l'infixe. Vous l'aurez sûrement compris, nous allons traiter le contenu entre la récursion vers le fils gauche, et la récursion vers le fils droit.\n",
        "\n",
        "⇒ cela revient à parcourir le sous-arbre gauche, traiter la racine, puis parcourir le sous-arbre droit.\n",
        "\n",
        "Pour l’arbre « Wiki », nous devons obtenir le parcours : 1 3 4 6 7 8 10 13 14\n",
        "\n",
        "Ce dernier est surprenant et très intéressant, car vous aurez sûrement remarqué que l'affichage d'un parcours infixe nous permet de récupérer les contenus des nœuds dans l'ordre croissant !!!\n"
      ]
    },
    {
      "cell_type": "markdown",
      "id": "a4ef8fc7",
      "metadata": {
        "id": "a4ef8fc7"
      },
      "source": [
        "### <span style='color:Blue'> Exercice 3 (Parcours en profondeur - INFIXE)\n",
        "    \n",
        "**1 - Ecrire la fonction `def parcoursProfondeurInfixe(arbre)` permettant de parcourir un Arbre suivant le parcours suffixe présenté ci-dessus.**"
      ]
    },
    {
      "cell_type": "code",
      "execution_count": null,
      "id": "c909b7f1",
      "metadata": {
        "id": "c909b7f1"
      },
      "outputs": [],
      "source": [
        "# Votre réponse ci-dessous :\n",
        "\n",
        "def parcoursProfondeurInfixe(arbre):\n",
        "  if arbre.filsGauche :\n",
        "    parcoursProfondeurInfixe(arbre.filsGauche)\n",
        "  print(arbre.contenu,end=' ')\n",
        "  if arbre.filsDroit :\n",
        "    parcoursProfondeurInfixe(arbre.filsDroit)\n",
        "\n"
      ]
    },
    {
      "cell_type": "markdown",
      "id": "90c69092",
      "metadata": {
        "id": "90c69092"
      },
      "source": [
        "**2 - Tester votre fonction sur l'arbre Wiki**"
      ]
    },
    {
      "cell_type": "code",
      "execution_count": null,
      "id": "4a9eaa1c",
      "metadata": {
        "id": "4a9eaa1c",
        "colab": {
          "base_uri": "https://localhost:8080/"
        },
        "outputId": "8a4b952a-59c4-4921-8218-0dab317daf06"
      },
      "outputs": [
        {
          "output_type": "stream",
          "name": "stdout",
          "text": [
            "1 3 4 6 7 8 10 13 14 "
          ]
        }
      ],
      "source": [
        "# Votre réponse ci-dessous ( test de la fonction):\n",
        "parcoursProfondeurInfixe(arbreWiki)\n",
        "\n"
      ]
    },
    {
      "cell_type": "markdown",
      "id": "1451db39",
      "metadata": {
        "id": "1451db39"
      },
      "source": [
        "---"
      ]
    },
    {
      "cell_type": "markdown",
      "id": "bda4d361",
      "metadata": {
        "id": "bda4d361"
      },
      "source": [
        "## *4)\tExplorer les arbres en largeur*"
      ]
    },
    {
      "cell_type": "markdown",
      "id": "987d0c92",
      "metadata": {
        "id": "987d0c92"
      },
      "source": [
        "Maintenant que nous avons vu le parcours en profondeur et différentes utilisations, nous vous proposons de découvrir le parcours en largeur.\n",
        "\n",
        "Il est simple à comprendre. A l'inverse de l'autre, nous n'allons pas chercher à explorer les branches jusqu'à leur fin mais plutôt explorer l'arbre, étage par étage.\n",
        "\n",
        "Si cette exploration est facile à comprendre, elle sera plus délicate à programmer.\n",
        "\n",
        "Cette fois-ci la fonction ne sera pas récursive. Le soucis de cette exploration est qu'elle ne va pas suivre les \"liens\" de l'arbre. Il n'y aura donc pas de moyens de nous déplacer en se contentant de récupérer les fils gauches et les fils droits. Il va donc nous falloir \"mémoriser\" les fils que nous trouvons, pour revenir les explorer plus tard, lorsque nous seront arrivé \"au bout\" de l'étage en cours.\n",
        "\n",
        "Pour ce faire nous allons faire un lien avec les cours précédents car nous aurons besoin des files. En effet, la sauvegarde sera effectuée dans une file d'attente de type LIFO.\n",
        "\n",
        "Voici ce que l'algorithme doit faire :\n",
        "\n",
        "1.\tCréer une file (LIFO)\n",
        "2.\tMettre le nœud source dans la file.\n",
        "3.\tRetirer le nœud du début de la file pour le traiter.\n",
        "4.\tMettre tous ses voisins non explorés dans la file (à la fin).\n",
        "5.\tSi la file n'est pas vide reprendre à l'étape 3.\n",
        "\n"
      ]
    },
    {
      "cell_type": "markdown",
      "id": "6e472ced",
      "metadata": {
        "id": "6e472ced"
      },
      "source": [
        "**1 - Compléter le code ci-dessous pour réaliser le parcours en largeur d'un arbre**"
      ]
    },
    {
      "cell_type": "code",
      "execution_count": null,
      "id": "a657e68b",
      "metadata": {
        "id": "a657e68b"
      },
      "outputs": [],
      "source": [
        "from collections import deque\n",
        "\n",
        "def parcoursLargeur(arbre):\n",
        "  fifo = deque()                      # Création de la fifo deque()\n",
        "\n",
        "  fifo.append(arbre)                  # Ajout de l'arbre dans la file\n",
        "\n",
        "  while fifo:             # tant que la liste n'est pas vide ?\n",
        "    a = fifo.popleft()            # On récupère la tête de la file\n",
        "    print(a.contenu, end = ' ')          # On affiche le contenu du noeud récupéré\n",
        "    if a.filsGauche:         # Si...\n",
        "      fifo.append(a.filsGauche)\n",
        "                # On ajoute le fils gauche dans la file\n",
        "    if a.filsDroit:          # Si...\n",
        "      fifo.append(a.filsDroit)          # On ajoute le fils droit dans la file\n"
      ]
    },
    {
      "cell_type": "markdown",
      "id": "461507bd",
      "metadata": {
        "id": "461507bd"
      },
      "source": [
        "**2 - Tester votre fonction sur l'arbre Wiki**\n",
        "\n",
        "Vous devez obtenir 8 3 10 1 6 14 4 7 13  comme réponse."
      ]
    },
    {
      "cell_type": "code",
      "execution_count": null,
      "id": "f05d62cd",
      "metadata": {
        "id": "f05d62cd",
        "colab": {
          "base_uri": "https://localhost:8080/"
        },
        "outputId": "d45a9fb3-4785-4983-ef2a-809f09b00354"
      },
      "outputs": [
        {
          "output_type": "stream",
          "name": "stdout",
          "text": [
            "8 3 10 1 6 14 4 7 13 "
          ]
        }
      ],
      "source": [
        "# Votre réponse ci-dessous ( test de la fonction):\n",
        "parcoursLargeur(arbreWiki)\n",
        "\n"
      ]
    },
    {
      "cell_type": "markdown",
      "id": "f61fd072",
      "metadata": {
        "id": "f61fd072"
      },
      "source": [
        "---"
      ]
    },
    {
      "cell_type": "markdown",
      "id": "7358b1ca",
      "metadata": {
        "id": "7358b1ca"
      },
      "source": [
        "| <span style='color:Blue'> L.HELIN |  | |   | |     |<span style='color:Blue'> NSI Terminale | |   | ||<span style='color:Blue'> Lycée Ozanam (Lille) & Lycée NDPO (Orchies)|\n",
        "| --- | --- |--- |--- |--- |--- | --- | --- |--- |--- | --- | --- |"
      ]
    }
  ],
  "metadata": {
    "kernelspec": {
      "display_name": "Python 3 (ipykernel)",
      "language": "python",
      "name": "python3"
    },
    "language_info": {
      "codemirror_mode": {
        "name": "ipython",
        "version": 3
      },
      "file_extension": ".py",
      "mimetype": "text/x-python",
      "name": "python",
      "nbconvert_exporter": "python",
      "pygments_lexer": "ipython3",
      "version": "3.9.7"
    },
    "colab": {
      "provenance": []
    }
  },
  "nbformat": 4,
  "nbformat_minor": 5
}